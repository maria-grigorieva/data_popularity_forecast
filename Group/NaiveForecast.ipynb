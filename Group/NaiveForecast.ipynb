{
 "cells": [
  {
   "cell_type": "code",
   "execution_count": 48,
   "metadata": {
    "collapsed": true
   },
   "outputs": [],
   "source": [
    "import pandas as pd\n",
    "import matplotlib.pyplot as plt\n",
    "import numpy as np\n",
    "from sklearn.metrics import mean_absolute_percentage_error"
   ]
  },
  {
   "cell_type": "code",
   "execution_count": 57,
   "outputs": [],
   "source": [
    "# Read a pandas DataFrame\n",
    "df = pd.read_csv('group_samples/susy-mc16_13TeV.csv',\n",
    "                 parse_dates=True)"
   ],
   "metadata": {
    "collapsed": false
   }
  },
  {
   "cell_type": "code",
   "execution_count": 58,
   "outputs": [],
   "source": [
    "df[\"ds\"] = pd.to_datetime(df[\"ds\"], format = \"%Y-%m-%d %H:%M:%S\")"
   ],
   "metadata": {
    "collapsed": false
   }
  },
  {
   "cell_type": "code",
   "execution_count": 59,
   "outputs": [],
   "source": [
    "df.set_index('ds', inplace=True)"
   ],
   "metadata": {
    "collapsed": false
   }
  },
  {
   "cell_type": "code",
   "execution_count": 60,
   "outputs": [],
   "source": [
    "df['y_log'] = np.log(df['y'])"
   ],
   "metadata": {
    "collapsed": false
   }
  },
  {
   "cell_type": "code",
   "execution_count": null,
   "outputs": [],
   "source": [
    "# df['pred'] = df['y'].shift(1)\n",
    "# df['pred_log'] = np.log(df['pred'])"
   ],
   "metadata": {
    "collapsed": false
   }
  },
  {
   "cell_type": "code",
   "execution_count": 61,
   "outputs": [
    {
     "data": {
      "text/plain": "               y     y_log\nds                        \n2018-01-01   102  4.624973\n2018-01-08   694  6.542472\n2018-01-15  1445  7.275865\n2018-01-22  1041  6.947937\n2018-01-29  1315  7.181592\n...          ...       ...\n2023-01-16   443  6.093570\n2023-01-23   790  6.672033\n2023-01-30  2472  7.812783\n2023-02-06   907  6.810142\n2023-02-13   775  6.652863\n\n[268 rows x 2 columns]",
      "text/html": "<div>\n<style scoped>\n    .dataframe tbody tr th:only-of-type {\n        vertical-align: middle;\n    }\n\n    .dataframe tbody tr th {\n        vertical-align: top;\n    }\n\n    .dataframe thead th {\n        text-align: right;\n    }\n</style>\n<table border=\"1\" class=\"dataframe\">\n  <thead>\n    <tr style=\"text-align: right;\">\n      <th></th>\n      <th>y</th>\n      <th>y_log</th>\n    </tr>\n    <tr>\n      <th>ds</th>\n      <th></th>\n      <th></th>\n    </tr>\n  </thead>\n  <tbody>\n    <tr>\n      <th>2018-01-01</th>\n      <td>102</td>\n      <td>4.624973</td>\n    </tr>\n    <tr>\n      <th>2018-01-08</th>\n      <td>694</td>\n      <td>6.542472</td>\n    </tr>\n    <tr>\n      <th>2018-01-15</th>\n      <td>1445</td>\n      <td>7.275865</td>\n    </tr>\n    <tr>\n      <th>2018-01-22</th>\n      <td>1041</td>\n      <td>6.947937</td>\n    </tr>\n    <tr>\n      <th>2018-01-29</th>\n      <td>1315</td>\n      <td>7.181592</td>\n    </tr>\n    <tr>\n      <th>...</th>\n      <td>...</td>\n      <td>...</td>\n    </tr>\n    <tr>\n      <th>2023-01-16</th>\n      <td>443</td>\n      <td>6.093570</td>\n    </tr>\n    <tr>\n      <th>2023-01-23</th>\n      <td>790</td>\n      <td>6.672033</td>\n    </tr>\n    <tr>\n      <th>2023-01-30</th>\n      <td>2472</td>\n      <td>7.812783</td>\n    </tr>\n    <tr>\n      <th>2023-02-06</th>\n      <td>907</td>\n      <td>6.810142</td>\n    </tr>\n    <tr>\n      <th>2023-02-13</th>\n      <td>775</td>\n      <td>6.652863</td>\n    </tr>\n  </tbody>\n</table>\n<p>268 rows × 2 columns</p>\n</div>"
     },
     "execution_count": 61,
     "metadata": {},
     "output_type": "execute_result"
    }
   ],
   "source": [
    "df"
   ],
   "metadata": {
    "collapsed": false
   }
  },
  {
   "cell_type": "code",
   "execution_count": 22,
   "outputs": [],
   "source": [
    "# y_true = df.iloc[1:]['y']\n",
    "# y_pred = df.iloc[1:]['pred']"
   ],
   "metadata": {
    "collapsed": false
   }
  },
  {
   "cell_type": "code",
   "execution_count": 24,
   "outputs": [
    {
     "data": {
      "text/plain": "0.743940254015525"
     },
     "execution_count": 24,
     "metadata": {},
     "output_type": "execute_result"
    }
   ],
   "source": [
    "# mean_absolute_percentage_error(y_true,y_pred)"
   ],
   "metadata": {
    "collapsed": false
   }
  },
  {
   "cell_type": "code",
   "execution_count": 25,
   "outputs": [],
   "source": [
    "# y_true = df.iloc[1:]['y_log']\n",
    "# y_pred = df.iloc[1:]['pred_log']"
   ],
   "metadata": {
    "collapsed": false
   }
  },
  {
   "cell_type": "code",
   "execution_count": 26,
   "outputs": [
    {
     "data": {
      "text/plain": "0.07941774941829804"
     },
     "execution_count": 26,
     "metadata": {},
     "output_type": "execute_result"
    }
   ],
   "source": [
    "# mean_absolute_percentage_error(y_true,y_pred)"
   ],
   "metadata": {
    "collapsed": false
   }
  },
  {
   "cell_type": "code",
   "execution_count": 27,
   "outputs": [
    {
     "data": {
      "text/plain": "(268, 4)"
     },
     "execution_count": 27,
     "metadata": {},
     "output_type": "execute_result"
    }
   ],
   "source": [
    "df.shape"
   ],
   "metadata": {
    "collapsed": false
   }
  },
  {
   "cell_type": "code",
   "execution_count": 62,
   "outputs": [
    {
     "name": "stdout",
     "output_type": "stream",
     "text": [
      "Multiple-step SMAPE Naive Bayes: 0.08827929394748345\n"
     ]
    }
   ],
   "source": [
    "N = 12\n",
    "STEP = 0\n",
    "smapes = []\n",
    "\n",
    "for i in range(0,N):\n",
    "    df['y_pred_log'] = df.iloc[STEP:-(N-STEP)]['y_log'].shift(1)\n",
    "    # print(f'slice from {STEP} to {df.shape[0] - (N-STEP)}')\n",
    "    y_true = df.iloc[(STEP+1):-(N-STEP)]['y_log']\n",
    "    y_pred = df.iloc[(STEP+1):-(N-STEP)]['y_pred_log']\n",
    "    smapes.append(mean_absolute_percentage_error(y_true,y_pred))\n",
    "    # print(f'SMAPE = {mean_absolute_percentage_error(y_true,y_pred)}')\n",
    "    df.at[df.index[-(N-STEP)-1],'y_log'] = df.at[df.index[-(N-STEP)-1],'y_pred_log']\n",
    "    STEP += 1\n",
    "\n",
    "print(f'Multiple-step SMAPE Naive Bayes: {np.mean(smapes)}')"
   ],
   "metadata": {
    "collapsed": false
   }
  },
  {
   "cell_type": "code",
   "execution_count": null,
   "outputs": [],
   "source": [],
   "metadata": {
    "collapsed": false
   }
  }
 ],
 "metadata": {
  "kernelspec": {
   "display_name": "Python 3",
   "language": "python",
   "name": "python3"
  },
  "language_info": {
   "codemirror_mode": {
    "name": "ipython",
    "version": 2
   },
   "file_extension": ".py",
   "mimetype": "text/x-python",
   "name": "python",
   "nbconvert_exporter": "python",
   "pygments_lexer": "ipython2",
   "version": "2.7.6"
  }
 },
 "nbformat": 4,
 "nbformat_minor": 0
}
