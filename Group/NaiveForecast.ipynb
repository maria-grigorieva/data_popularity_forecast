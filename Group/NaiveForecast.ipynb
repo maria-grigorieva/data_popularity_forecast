{
 "cells": [
  {
   "cell_type": "code",
   "execution_count": 271,
   "metadata": {
    "collapsed": true
   },
   "outputs": [],
   "source": [
    "import pandas as pd\n",
    "import matplotlib.pyplot as plt\n",
    "import numpy as np\n",
    "from sklearn.metrics import mean_absolute_percentage_error"
   ]
  },
  {
   "cell_type": "code",
   "execution_count": 283,
   "outputs": [],
   "source": [
    "# Read a pandas DataFrame\n",
    "df = pd.read_csv('group_samples/higgd-mc16_13TeV.csv',\n",
    "                 parse_dates=True)"
   ],
   "metadata": {
    "collapsed": false
   }
  },
  {
   "cell_type": "code",
   "execution_count": 284,
   "outputs": [],
   "source": [
    "df[\"ds\"] = pd.to_datetime(df[\"ds\"], format = \"%Y-%m-%d %H:%M:%S\")"
   ],
   "metadata": {
    "collapsed": false
   }
  },
  {
   "cell_type": "code",
   "execution_count": 285,
   "outputs": [],
   "source": [
    "df.set_index('ds', inplace=True)"
   ],
   "metadata": {
    "collapsed": false
   }
  },
  {
   "cell_type": "code",
   "execution_count": 286,
   "outputs": [],
   "source": [
    "df['y_log'] = np.log(df['y'])"
   ],
   "metadata": {
    "collapsed": false
   }
  },
  {
   "cell_type": "code",
   "execution_count": 287,
   "outputs": [],
   "source": [
    "df['pred'] = df['y'].shift(1)"
   ],
   "metadata": {
    "collapsed": false
   }
  },
  {
   "cell_type": "code",
   "execution_count": 288,
   "outputs": [],
   "source": [
    "df['pred_log'] = np.log(df['pred'])"
   ],
   "metadata": {
    "collapsed": false
   }
  },
  {
   "cell_type": "code",
   "execution_count": 289,
   "outputs": [
    {
     "data": {
      "text/plain": "               y_log  pred_log\nds                            \n2018-01-01  5.683580       NaN\n2018-01-08  7.096721  5.683580\n2018-01-15  7.771489  7.096721\n2018-01-22  7.126891  7.771489\n2018-01-29  6.706862  7.126891\n...              ...       ...\n2023-01-16  7.430707  6.884487\n2023-01-23  7.187657  7.430707\n2023-01-30  7.458763  7.187657\n2023-02-06  6.690842  7.458763\n2023-02-13  5.384495  6.690842\n\n[268 rows x 2 columns]",
      "text/html": "<div>\n<style scoped>\n    .dataframe tbody tr th:only-of-type {\n        vertical-align: middle;\n    }\n\n    .dataframe tbody tr th {\n        vertical-align: top;\n    }\n\n    .dataframe thead th {\n        text-align: right;\n    }\n</style>\n<table border=\"1\" class=\"dataframe\">\n  <thead>\n    <tr style=\"text-align: right;\">\n      <th></th>\n      <th>y_log</th>\n      <th>pred_log</th>\n    </tr>\n    <tr>\n      <th>ds</th>\n      <th></th>\n      <th></th>\n    </tr>\n  </thead>\n  <tbody>\n    <tr>\n      <th>2018-01-01</th>\n      <td>5.683580</td>\n      <td>NaN</td>\n    </tr>\n    <tr>\n      <th>2018-01-08</th>\n      <td>7.096721</td>\n      <td>5.683580</td>\n    </tr>\n    <tr>\n      <th>2018-01-15</th>\n      <td>7.771489</td>\n      <td>7.096721</td>\n    </tr>\n    <tr>\n      <th>2018-01-22</th>\n      <td>7.126891</td>\n      <td>7.771489</td>\n    </tr>\n    <tr>\n      <th>2018-01-29</th>\n      <td>6.706862</td>\n      <td>7.126891</td>\n    </tr>\n    <tr>\n      <th>...</th>\n      <td>...</td>\n      <td>...</td>\n    </tr>\n    <tr>\n      <th>2023-01-16</th>\n      <td>7.430707</td>\n      <td>6.884487</td>\n    </tr>\n    <tr>\n      <th>2023-01-23</th>\n      <td>7.187657</td>\n      <td>7.430707</td>\n    </tr>\n    <tr>\n      <th>2023-01-30</th>\n      <td>7.458763</td>\n      <td>7.187657</td>\n    </tr>\n    <tr>\n      <th>2023-02-06</th>\n      <td>6.690842</td>\n      <td>7.458763</td>\n    </tr>\n    <tr>\n      <th>2023-02-13</th>\n      <td>5.384495</td>\n      <td>6.690842</td>\n    </tr>\n  </tbody>\n</table>\n<p>268 rows × 2 columns</p>\n</div>"
     },
     "execution_count": 289,
     "metadata": {},
     "output_type": "execute_result"
    }
   ],
   "source": [
    "df[['y_log','pred_log']]"
   ],
   "metadata": {
    "collapsed": false
   }
  },
  {
   "cell_type": "code",
   "execution_count": 290,
   "outputs": [],
   "source": [
    "# y_true = df.iloc[1:]['y_log']\n",
    "# y_pred = df.iloc[1:]['pred_log']"
   ],
   "metadata": {
    "collapsed": false
   }
  },
  {
   "cell_type": "code",
   "execution_count": 291,
   "outputs": [],
   "source": [
    "# smape(y_true,y_pred)"
   ],
   "metadata": {
    "collapsed": false
   }
  },
  {
   "cell_type": "code",
   "execution_count": 292,
   "outputs": [],
   "source": [
    "y_true = df.iloc[-12:]['y_log']\n",
    "y_pred = df.iloc[-12:]['pred_log']"
   ],
   "metadata": {
    "collapsed": false
   }
  },
  {
   "cell_type": "code",
   "execution_count": 293,
   "outputs": [
    {
     "data": {
      "text/plain": "0.09559864976135972"
     },
     "execution_count": 293,
     "metadata": {},
     "output_type": "execute_result"
    }
   ],
   "source": [
    "mean_absolute_percentage_error(y_true,y_pred)"
   ],
   "metadata": {
    "collapsed": false
   }
  },
  {
   "cell_type": "code",
   "execution_count": 294,
   "outputs": [
    {
     "data": {
      "text/plain": "0.1061776165200771"
     },
     "execution_count": 294,
     "metadata": {},
     "output_type": "execute_result"
    }
   ],
   "source": [
    "# multiple output\n",
    "N = 12\n",
    "\n",
    "df['pred'] = df['y'].shift(N)\n",
    "df['pred_log'] = np.log(df['pred'])\n",
    "\n",
    "y_true = df.iloc[N:]['y_log']\n",
    "y_pred = df.iloc[N:]['pred_log']\n",
    "\n",
    "mean_absolute_percentage_error(y_true,y_pred)"
   ],
   "metadata": {
    "collapsed": false
   }
  },
  {
   "cell_type": "code",
   "execution_count": null,
   "outputs": [],
   "source": [],
   "metadata": {
    "collapsed": false
   }
  }
 ],
 "metadata": {
  "kernelspec": {
   "display_name": "Python 3",
   "language": "python",
   "name": "python3"
  },
  "language_info": {
   "codemirror_mode": {
    "name": "ipython",
    "version": 2
   },
   "file_extension": ".py",
   "mimetype": "text/x-python",
   "name": "python",
   "nbconvert_exporter": "python",
   "pygments_lexer": "ipython2",
   "version": "2.7.6"
  }
 },
 "nbformat": 4,
 "nbformat_minor": 0
}
