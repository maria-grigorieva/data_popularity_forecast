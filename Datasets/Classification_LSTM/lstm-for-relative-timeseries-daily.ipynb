{
 "cells": [
  {
   "cell_type": "code",
   "execution_count": 1,
   "id": "a7d9d86e-0afa-4a77-9943-d253cc42f574",
   "metadata": {},
   "outputs": [
    {
     "name": "stderr",
     "output_type": "stream",
     "text": [
      "2023-10-26 21:53:28.760044: E tensorflow/compiler/xla/stream_executor/cuda/cuda_dnn.cc:9342] Unable to register cuDNN factory: Attempting to register factory for plugin cuDNN when one has already been registered\n",
      "2023-10-26 21:53:28.760087: E tensorflow/compiler/xla/stream_executor/cuda/cuda_fft.cc:609] Unable to register cuFFT factory: Attempting to register factory for plugin cuFFT when one has already been registered\n",
      "2023-10-26 21:53:28.760126: E tensorflow/compiler/xla/stream_executor/cuda/cuda_blas.cc:1518] Unable to register cuBLAS factory: Attempting to register factory for plugin cuBLAS when one has already been registered\n",
      "2023-10-26 21:53:28.769400: I tensorflow/core/platform/cpu_feature_guard.cc:182] This TensorFlow binary is optimized to use available CPU instructions in performance-critical operations.\n",
      "To enable the following instructions: AVX2 FMA, in other operations, rebuild TensorFlow with the appropriate compiler flags.\n",
      "2023-10-26 21:53:30.032148: W tensorflow/compiler/tf2tensorrt/utils/py_utils.cc:38] TF-TRT Warning: Could not find TensorRT\n"
     ]
    }
   ],
   "source": [
    "import tensorflow as tf\n",
    "import pandas as pd\n",
    "import numpy as np\n",
    "from matplotlib import pyplot as plt\n",
    "import time\n",
    "import random\n",
    "\n",
    "from sklearn.ensemble import RandomForestClassifier\n",
    "from sklearn.metrics import classification_report\n",
    "from sklearn.metrics import confusion_matrix, accuracy_score\n",
    "\n",
    "from transform_filter_data import transform_filter_data"
   ]
  },
  {
   "cell_type": "code",
   "execution_count": 2,
   "id": "49db2113-856e-4732-916e-c7653458a7eb",
   "metadata": {},
   "outputs": [],
   "source": [
    "history_lens = [\n",
    "    pd.Timedelta('365 days'),\n",
    "    pd.Timedelta('270 days'),\n",
    "    pd.Timedelta('180 days'),\n",
    "    pd.Timedelta('90 days'),\n",
    "]\n",
    "\n",
    "span_thresholds = [\n",
    "    pd.Timedelta('90 days'),\n",
    "    pd.Timedelta('60 days'),\n",
    "    pd.Timedelta('40 days'),\n",
    "    pd.Timedelta('20 days'),\n",
    "]\n",
    "\n",
    "idx = 0 # At first, let's try for 365 days access pattern length\n",
    "\n",
    "history_len = history_lens[idx]\n",
    "span_threshold = span_thresholds[idx]\n",
    "\n",
    "accesses_threshold = 30\n",
    "source_csv = (\n",
    "    '/home/mshubin/Desktop/datasets-popularity-task-data/' +\n",
    "    'datasets_popularity_DAOD_mixed_' + \n",
    "    'higgd-topq-susy-phys_mc16_13TeV_202308141254.csv'\n",
    ")\n",
    "finish_date_train_test = pd.Timestamp('2023-03-21')\n",
    "finish_date_validate = pd.Timestamp('2023-04-06')\n",
    "horizon = pd.Timedelta('7 days')\n",
    "test_frac = 0.05"
   ]
  },
  {
   "cell_type": "code",
   "execution_count": 3,
   "id": "2011718a-3382-4614-a486-06c180fc46e1",
   "metadata": {},
   "outputs": [
    {
     "name": "stdout",
     "output_type": "stream",
     "text": [
      "started: 2023-10-26 21:53:32\n",
      "merging datasets with different tids\n"
     ]
    },
    {
     "name": "stderr",
     "output_type": "stream",
     "text": [
      "100%|████████████████████████████| 5725288/5725288 [00:04<00:00, 1337664.75it/s]\n"
     ]
    },
    {
     "name": "stdout",
     "output_type": "stream",
     "text": [
      "filling 'y' and 'n_sub_datasets' columns\n"
     ]
    },
    {
     "name": "stderr",
     "output_type": "stream",
     "text": [
      "100%|█████████████████████████████████| 255430/255430 [00:48<00:00, 5241.01it/s]\n"
     ]
    },
    {
     "name": "stdout",
     "output_type": "stream",
     "text": [
      "after filtering by access number: 1746 / 31339\n",
      "filtering by history presence\n"
     ]
    },
    {
     "name": "stderr",
     "output_type": "stream",
     "text": [
      "100%|████████████████████████████████████| 31339/31339 [00:45<00:00, 686.04it/s]\n"
     ]
    },
    {
     "name": "stdout",
     "output_type": "stream",
     "text": [
      "after filtering: 1704 / 29457\n",
      "transforming date arrays to timeseries\n"
     ]
    },
    {
     "name": "stderr",
     "output_type": "stream",
     "text": [
      "100%|████████████████████████████████████| 29457/29457 [01:02<00:00, 469.73it/s]\n"
     ]
    },
    {
     "name": "stdout",
     "output_type": "stream",
     "text": [
      "finished: 2023-10-26 21:56:55\n",
      "Elapsed time (seconds): 203.104500441\n"
     ]
    }
   ],
   "source": [
    "print('started:', time.strftime('%Y-%m-%d %H:%M:%S'))\n",
    "t1 = time.clock_gettime_ns(time.CLOCK_REALTIME)\n",
    "\n",
    "\n",
    "objs_df = transform_filter_data(\n",
    "    source_csv = source_csv,\n",
    "    finish_date = finish_date_train_test,\n",
    "    horizon_date = finish_date_train_test + horizon,\n",
    "    span_threshold = span_threshold,\n",
    "    history_len = history_len,\n",
    "    accesses_threshold = accesses_threshold,\n",
    "    merge_tids=True\n",
    ")\n",
    "\n",
    "t2 = time.clock_gettime_ns(time.CLOCK_REALTIME)\n",
    "\n",
    "print('finished:', time.strftime('%Y-%m-%d %H:%M:%S'))\n",
    "print('Elapsed time (seconds):', (t2 - t1) / 1_000_000_000)"
   ]
  },
  {
   "cell_type": "markdown",
   "id": "263d9e08-2391-4eb0-8521-ac9bea1b0b9a",
   "metadata": {},
   "source": [
    "### Creating balanced train and balanced test sets (50 / 50 % for '0' and '1' classes)"
   ]
  },
  {
   "cell_type": "code",
   "execution_count": 4,
   "id": "2d481cfa-57f3-408e-93af-70fd26b6eb55",
   "metadata": {},
   "outputs": [],
   "source": [
    "objs_1 = objs_df[objs_df['y'] > 0]\n",
    "objs_1 = objs_1.sample(frac=1, random_state=41) # SHUFFLE\n",
    "n1 = len(objs_1)\n",
    "n1_test = int(n1 * test_frac)\n",
    "n1_train = n1 - n1_test\n",
    "\n",
    "\n",
    "train_df = pd.DataFrame(objs_1.iloc[:-n1_test])\n",
    "train_df = pd.concat(\n",
    "    [\n",
    "        train_df,\n",
    "        objs_df[objs_df['y'] == 0].sample(n1_train, random_state=42)\n",
    "    ]\n",
    ")\n",
    "\n",
    "test_df = pd.DataFrame(objs_1.iloc[-n1_test:])\n",
    "test_df = pd.concat(\n",
    "    [\n",
    "        test_df,\n",
    "        objs_df[objs_df['y'] == 0].sample(n1_test, random_state=43)\n",
    "    ]\n",
    ")\n",
    "\n",
    "train_df = train_df.sample(frac=1, random_state=44) # SHUFFLE\n",
    "test_df = test_df.sample(frac=1, random_state=45) # SHUFFLE"
   ]
  },
  {
   "cell_type": "code",
   "execution_count": 5,
   "id": "5b58a6ee-614b-4b5a-8d3c-dc725ae4cb42",
   "metadata": {},
   "outputs": [],
   "source": [
    "Xtrain = np.stack(train_df['history_ts'].to_numpy())\n",
    "Ytrain = (train_df['y'].to_numpy() > 0).astype('int')\n",
    "Xtest = np.stack(test_df['history_ts'].to_numpy())\n",
    "Ytest = (test_df['y'].to_numpy() > 0).astype('int')"
   ]
  },
  {
   "cell_type": "code",
   "execution_count": 6,
   "id": "577cfcd2-cd4c-4c8f-8ff2-666d0ef0d355",
   "metadata": {
    "collapsed": false,
    "jupyter": {
     "outputs_hidden": false
    },
    "pycharm": {
     "name": "#%%\n"
    }
   },
   "outputs": [],
   "source": [
    "T = Xtrain.shape[1] # num of time steps in time series\n",
    "D = 1               # dimenstion\n",
    "K = 2               # num of classes"
   ]
  },
  {
   "cell_type": "code",
   "execution_count": 7,
   "id": "28e53ce6-a139-48c8-8975-c054ed386832",
   "metadata": {},
   "outputs": [],
   "source": [
    "Xtrain = Xtrain.reshape((Xtrain.shape[0], Xtrain.shape[1], D))\n",
    "Xtest = Xtest.reshape((Xtest.shape[0], Xtest.shape[1], D))"
   ]
  },
  {
   "cell_type": "code",
   "execution_count": 8,
   "id": "e8dcbf30-9f38-4cd4-b763-2c9b9ae721c4",
   "metadata": {},
   "outputs": [
    {
     "name": "stderr",
     "output_type": "stream",
     "text": [
      "2023-10-26 21:56:55.828341: I tensorflow/core/common_runtime/gpu/gpu_device.cc:1886] Created device /job:localhost/replica:0/task:0/device:GPU:0 with 2138 MB memory:  -> device: 0, name: NVIDIA GeForce GTX 1650, pci bus id: 0000:03:00.0, compute capability: 7.5\n"
     ]
    },
    {
     "name": "stdout",
     "output_type": "stream",
     "text": [
      "Model: \"sequential\"\n",
      "_________________________________________________________________\n",
      " Layer (type)                Output Shape              Param #   \n",
      "=================================================================\n",
      " lstm (LSTM)                 (None, 365, 24)           2496      \n",
      "                                                                 \n",
      " lstm_1 (LSTM)               (None, 365, 24)           4704      \n",
      "                                                                 \n",
      " global_max_pooling1d (Glob  (None, 24)                0         \n",
      " alMaxPooling1D)                                                 \n",
      "                                                                 \n",
      " dense (Dense)               (None, 2)                 50        \n",
      "                                                                 \n",
      "=================================================================\n",
      "Total params: 7250 (28.32 KB)\n",
      "Trainable params: 7250 (28.32 KB)\n",
      "Non-trainable params: 0 (0.00 Byte)\n",
      "_________________________________________________________________\n"
     ]
    }
   ],
   "source": [
    "np.random.seed(123)\n",
    "random.seed(123)\n",
    "tf.random.set_seed(1234)\n",
    "\n",
    "model = tf.keras.models.Sequential()\n",
    "model.add(tf.keras.layers.Input(shape=(T,D)))\n",
    "model.add(tf.keras.layers.LSTM(24, return_sequences=True))\n",
    "model.add(tf.keras.layers.LSTM(24, return_sequences=True))\n",
    "model.add(tf.keras.layers.GlobalMaxPooling1D())\n",
    "model.add(tf.keras.layers.Dense(K))\n",
    "\n",
    "model.summary()"
   ]
  },
  {
   "cell_type": "code",
   "execution_count": 9,
   "id": "d3d6067f-bdfc-4e6f-82e4-9c24b7a03d5e",
   "metadata": {},
   "outputs": [],
   "source": [
    "model.compile(\n",
    "    loss=tf.keras.losses.SparseCategoricalCrossentropy(from_logits=True),\n",
    "    optimizer='adam',\n",
    "    metrics=['accuracy']\n",
    ")\n",
    "# The from_logits=True attribute inform the loss function that the output values\n",
    "# generated by the model are not normalized, a.k.a. logits. In other words, the\n",
    "# softmax function has not been applied on them to produce a probability\n",
    "# distribution. The softmax function would be automatically applied on the output\n",
    "# values by the loss function. Therefore, this does not make a difference with the\n",
    "# scenario when you use from_logits=False (default) and a softmax activation\n",
    "# function on last layer; however, in some cases, this might help with numerical\n",
    "# stability during training of the model."
   ]
  },
  {
   "cell_type": "code",
   "execution_count": 10,
   "id": "42fd0255-b887-4d88-ad94-3ee9f3f1edb0",
   "metadata": {},
   "outputs": [],
   "source": [
    "check_point = tf.keras.callbacks.ModelCheckpoint(\n",
    "    'model_states/lstm_best_model.h5', monitor='val_loss', save_best_only=True\n",
    ")"
   ]
  },
  {
   "cell_type": "code",
   "execution_count": 11,
   "id": "c1cb1c10-d1e3-4844-a642-0abe611d84df",
   "metadata": {},
   "outputs": [
    {
     "name": "stdout",
     "output_type": "stream",
     "text": [
      "Epoch 1/50\n"
     ]
    },
    {
     "name": "stderr",
     "output_type": "stream",
     "text": [
      "2023-10-26 21:57:01.400351: I tensorflow/compiler/xla/stream_executor/cuda/cuda_dnn.cc:442] Loaded cuDNN version 8904\n",
      "2023-10-26 21:57:01.649042: I tensorflow/compiler/xla/service/service.cc:168] XLA service 0x7ef9cc01c740 initialized for platform CUDA (this does not guarantee that XLA will be used). Devices:\n",
      "2023-10-26 21:57:01.649078: I tensorflow/compiler/xla/service/service.cc:176]   StreamExecutor device (0): NVIDIA GeForce GTX 1650, Compute Capability 7.5\n",
      "2023-10-26 21:57:01.660938: I tensorflow/compiler/mlir/tensorflow/utils/dump_mlir_util.cc:269] disabling MLIR crash reproducer, set env var `MLIR_CRASH_REPRODUCER_DIRECTORY` to enable.\n",
      "2023-10-26 21:57:01.810742: I ./tensorflow/compiler/jit/device_compiler.h:186] Compiled cluster using XLA!  This line is logged at most once for the lifetime of the process.\n"
     ]
    },
    {
     "name": "stdout",
     "output_type": "stream",
     "text": [
      "102/102 [==============================] - 10s 47ms/step - loss: 0.6418 - accuracy: 0.6130 - val_loss: 0.5823 - val_accuracy: 0.6706\n",
      "Epoch 2/50\n",
      "  5/102 [>.............................] - ETA: 3s - loss: 0.5617 - accuracy: 0.7125"
     ]
    },
    {
     "name": "stderr",
     "output_type": "stream",
     "text": [
      "/home/mshubin/soft/app/linux/python3-venv/lib/python3.11/site-packages/keras/src/engine/training.py:3079: UserWarning: You are saving your model as an HDF5 file via `model.save()`. This file format is considered legacy. We recommend using instead the native Keras format, e.g. `model.save('my_model.keras')`.\n",
      "  saving_api.save_model(\n"
     ]
    },
    {
     "name": "stdout",
     "output_type": "stream",
     "text": [
      "102/102 [==============================] - 4s 35ms/step - loss: 0.5204 - accuracy: 0.7421 - val_loss: 0.5028 - val_accuracy: 0.7824\n",
      "Epoch 3/50\n",
      "102/102 [==============================] - 4s 36ms/step - loss: 0.3906 - accuracy: 0.8425 - val_loss: 0.4199 - val_accuracy: 0.8176\n",
      "Epoch 4/50\n",
      "102/102 [==============================] - 4s 37ms/step - loss: 0.3069 - accuracy: 0.8731 - val_loss: 0.3233 - val_accuracy: 0.8647\n",
      "Epoch 5/50\n",
      "102/102 [==============================] - 4s 36ms/step - loss: 0.3271 - accuracy: 0.8684 - val_loss: 0.5582 - val_accuracy: 0.7294\n",
      "Epoch 6/50\n",
      "102/102 [==============================] - 4s 38ms/step - loss: 0.5504 - accuracy: 0.7230 - val_loss: 0.6979 - val_accuracy: 0.5059\n",
      "Epoch 7/50\n",
      "102/102 [==============================] - 4s 39ms/step - loss: 0.6718 - accuracy: 0.5389 - val_loss: 0.6426 - val_accuracy: 0.6294\n",
      "Epoch 8/50\n",
      "102/102 [==============================] - 4s 38ms/step - loss: 0.6326 - accuracy: 0.6208 - val_loss: 0.5972 - val_accuracy: 0.6765\n",
      "Epoch 9/50\n",
      "102/102 [==============================] - 4s 37ms/step - loss: 0.7319 - accuracy: 0.6133 - val_loss: 0.6742 - val_accuracy: 0.5235\n",
      "Epoch 10/50\n",
      "102/102 [==============================] - 4s 39ms/step - loss: 0.6465 - accuracy: 0.6266 - val_loss: 0.6287 - val_accuracy: 0.6471\n",
      "Epoch 11/50\n",
      "102/102 [==============================] - 4s 38ms/step - loss: 0.6158 - accuracy: 0.6810 - val_loss: 0.6200 - val_accuracy: 0.6882\n",
      "Epoch 12/50\n",
      "102/102 [==============================] - 4s 39ms/step - loss: 0.6029 - accuracy: 0.6850 - val_loss: 0.5917 - val_accuracy: 0.6882\n",
      "Epoch 13/50\n",
      "102/102 [==============================] - 4s 39ms/step - loss: 0.5986 - accuracy: 0.6671 - val_loss: 0.5545 - val_accuracy: 0.6824\n",
      "Epoch 14/50\n",
      "102/102 [==============================] - 4s 37ms/step - loss: 0.6235 - accuracy: 0.6411 - val_loss: 0.6281 - val_accuracy: 0.6529\n",
      "Epoch 15/50\n",
      "102/102 [==============================] - 4s 37ms/step - loss: 0.6134 - accuracy: 0.6553 - val_loss: 0.5998 - val_accuracy: 0.6588\n",
      "Epoch 16/50\n",
      "102/102 [==============================] - 4s 36ms/step - loss: 0.5795 - accuracy: 0.6986 - val_loss: 0.9758 - val_accuracy: 0.5000\n",
      "Epoch 17/50\n",
      "102/102 [==============================] - 4s 38ms/step - loss: 0.6735 - accuracy: 0.6075 - val_loss: 0.5992 - val_accuracy: 0.6765\n",
      "Epoch 18/50\n",
      "102/102 [==============================] - 4s 39ms/step - loss: 0.5967 - accuracy: 0.6640 - val_loss: 0.5789 - val_accuracy: 0.6647\n",
      "Epoch 19/50\n",
      "102/102 [==============================] - 4s 39ms/step - loss: 0.5599 - accuracy: 0.6992 - val_loss: 0.5070 - val_accuracy: 0.7706\n",
      "Epoch 20/50\n",
      "102/102 [==============================] - 4s 36ms/step - loss: 0.5380 - accuracy: 0.7245 - val_loss: 0.5327 - val_accuracy: 0.6941\n",
      "Epoch 21/50\n",
      "102/102 [==============================] - 4s 37ms/step - loss: 0.4018 - accuracy: 0.8558 - val_loss: 0.6069 - val_accuracy: 0.6824\n",
      "Epoch 22/50\n",
      "102/102 [==============================] - 4s 38ms/step - loss: 0.4938 - accuracy: 0.7776 - val_loss: 0.5948 - val_accuracy: 0.6647\n",
      "Epoch 23/50\n",
      "102/102 [==============================] - 4s 37ms/step - loss: 0.5565 - accuracy: 0.6791 - val_loss: 0.5420 - val_accuracy: 0.6882\n",
      "Epoch 24/50\n",
      "102/102 [==============================] - 4s 38ms/step - loss: 0.5120 - accuracy: 0.7168 - val_loss: 0.5286 - val_accuracy: 0.6824\n",
      "Epoch 25/50\n",
      "102/102 [==============================] - 4s 39ms/step - loss: 0.4740 - accuracy: 0.7452 - val_loss: 0.4289 - val_accuracy: 0.8529\n",
      "Epoch 26/50\n",
      "102/102 [==============================] - 4s 37ms/step - loss: 0.3928 - accuracy: 0.8360 - val_loss: 0.3774 - val_accuracy: 0.8294\n",
      "Epoch 27/50\n",
      "102/102 [==============================] - 4s 36ms/step - loss: 0.3445 - accuracy: 0.8697 - val_loss: 0.3623 - val_accuracy: 0.8824\n",
      "Epoch 28/50\n",
      "102/102 [==============================] - 4s 37ms/step - loss: 0.3229 - accuracy: 0.8836 - val_loss: 0.2952 - val_accuracy: 0.9176\n",
      "Epoch 29/50\n",
      "102/102 [==============================] - 4s 38ms/step - loss: 0.3005 - accuracy: 0.8965 - val_loss: 0.3000 - val_accuracy: 0.8706\n",
      "Epoch 30/50\n",
      "102/102 [==============================] - 4s 38ms/step - loss: 0.2066 - accuracy: 0.9351 - val_loss: 0.2410 - val_accuracy: 0.9294\n",
      "Epoch 31/50\n",
      "102/102 [==============================] - 4s 39ms/step - loss: 0.1848 - accuracy: 0.9444 - val_loss: 0.2241 - val_accuracy: 0.9353\n",
      "Epoch 32/50\n",
      "102/102 [==============================] - 4s 39ms/step - loss: 0.1719 - accuracy: 0.9472 - val_loss: 0.2604 - val_accuracy: 0.9176\n",
      "Epoch 33/50\n",
      "102/102 [==============================] - 4s 37ms/step - loss: 0.1731 - accuracy: 0.9466 - val_loss: 0.2506 - val_accuracy: 0.9235\n",
      "Epoch 34/50\n",
      "102/102 [==============================] - 4s 37ms/step - loss: 0.1637 - accuracy: 0.9512 - val_loss: 0.2121 - val_accuracy: 0.9412\n",
      "Epoch 35/50\n",
      "102/102 [==============================] - 4s 37ms/step - loss: 0.1679 - accuracy: 0.9460 - val_loss: 0.2082 - val_accuracy: 0.9412\n",
      "Epoch 36/50\n",
      "102/102 [==============================] - 4s 39ms/step - loss: 0.1522 - accuracy: 0.9568 - val_loss: 0.2343 - val_accuracy: 0.9294\n",
      "Epoch 37/50\n",
      "102/102 [==============================] - 4s 39ms/step - loss: 0.1567 - accuracy: 0.9497 - val_loss: 0.2167 - val_accuracy: 0.9412\n",
      "Epoch 38/50\n",
      "102/102 [==============================] - 4s 39ms/step - loss: 0.1497 - accuracy: 0.9558 - val_loss: 0.2408 - val_accuracy: 0.9294\n",
      "Epoch 39/50\n",
      "102/102 [==============================] - 4s 38ms/step - loss: 0.1614 - accuracy: 0.9503 - val_loss: 0.2125 - val_accuracy: 0.9294\n",
      "Epoch 40/50\n",
      "102/102 [==============================] - 4s 38ms/step - loss: 0.1409 - accuracy: 0.9580 - val_loss: 0.2042 - val_accuracy: 0.9471\n",
      "Epoch 41/50\n",
      "102/102 [==============================] - 4s 38ms/step - loss: 0.1476 - accuracy: 0.9568 - val_loss: 0.2030 - val_accuracy: 0.9412\n",
      "Epoch 42/50\n",
      "102/102 [==============================] - 4s 39ms/step - loss: 0.1388 - accuracy: 0.9602 - val_loss: 0.1959 - val_accuracy: 0.9529\n",
      "Epoch 43/50\n",
      "102/102 [==============================] - 4s 37ms/step - loss: 0.1527 - accuracy: 0.9518 - val_loss: 0.2284 - val_accuracy: 0.9353\n",
      "Epoch 44/50\n",
      "102/102 [==============================] - 4s 39ms/step - loss: 0.1338 - accuracy: 0.9629 - val_loss: 0.2110 - val_accuracy: 0.9529\n",
      "Epoch 45/50\n",
      "102/102 [==============================] - 4s 39ms/step - loss: 0.1406 - accuracy: 0.9611 - val_loss: 0.1994 - val_accuracy: 0.9412\n",
      "Epoch 46/50\n",
      "102/102 [==============================] - 4s 40ms/step - loss: 0.1360 - accuracy: 0.9589 - val_loss: 0.2206 - val_accuracy: 0.9353\n",
      "Epoch 47/50\n",
      "102/102 [==============================] - 4s 38ms/step - loss: 0.1356 - accuracy: 0.9565 - val_loss: 0.1850 - val_accuracy: 0.9471\n",
      "Epoch 48/50\n",
      "102/102 [==============================] - 4s 39ms/step - loss: 0.1369 - accuracy: 0.9599 - val_loss: 0.1849 - val_accuracy: 0.9529\n",
      "Epoch 49/50\n",
      "102/102 [==============================] - 4s 39ms/step - loss: 0.1322 - accuracy: 0.9571 - val_loss: 0.2090 - val_accuracy: 0.9412\n",
      "Epoch 50/50\n",
      "102/102 [==============================] - 4s 37ms/step - loss: 0.1286 - accuracy: 0.9599 - val_loss: 0.1983 - val_accuracy: 0.9471\n"
     ]
    }
   ],
   "source": [
    "r = model.fit(\n",
    "    Xtrain,\n",
    "    Ytrain,\n",
    "    epochs=50,\n",
    "    callbacks=[check_point],\n",
    "    validation_data=(Xtest, Ytest)\n",
    ")"
   ]
  },
  {
   "cell_type": "code",
   "execution_count": 12,
   "id": "aa4f8557-b0db-4694-a222-77eaa098cc50",
   "metadata": {},
   "outputs": [
    {
     "data": {
      "image/png": "[encoded data removed]",
      "text/plain": [
       "<Figure size 640x480 with 1 Axes>"
      ]
     },
     "metadata": {},
     "output_type": "display_data"
    }
   ],
   "source": [
    "plt.plot(r.history['loss'], label='train loss')\n",
    "plt.plot(r.history['val_loss'], label='test loss')\n",
    "plt.legend();"
   ]
  },
  {
   "cell_type": "code",
   "execution_count": 13,
   "id": "0ded5789-86a4-4623-9c43-563b2f656e88",
   "metadata": {},
   "outputs": [
    {
     "data": {
      "image/png": "[encoded data removed]",
      "text/plain": [
       "<Figure size 640x480 with 1 Axes>"
      ]
     },
     "metadata": {},
     "output_type": "display_data"
    }
   ],
   "source": [
    "plt.plot(r.history['accuracy'], label='train acc')\n",
    "plt.plot(r.history['val_accuracy'], label='test acc')\n",
    "plt.legend();"
   ]
  },
  {
   "cell_type": "code",
   "execution_count": 14,
   "id": "edbacd10-6204-4990-b5d7-ed79cfdf7f10",
   "metadata": {},
   "outputs": [],
   "source": [
    "best_model = tf.keras.models.load_model('model_states/lstm_best_model.h5')"
   ]
  },
  {
   "cell_type": "code",
   "execution_count": 15,
   "id": "77aa7550-699b-4a4a-a900-4b6b43444412",
   "metadata": {},
   "outputs": [
    {
     "name": "stdout",
     "output_type": "stream",
     "text": [
      "6/6 [==============================] - 1s 17ms/step\n"
     ]
    }
   ],
   "source": [
    "Ptest = best_model.predict(Xtest)"
   ]
  },
  {
   "cell_type": "code",
   "execution_count": 16,
   "id": "06468b1c-c47c-4325-b4de-cd674b3b44ce",
   "metadata": {},
   "outputs": [
    {
     "data": {
      "text/plain": [
       "array([[ 2.52704692e+00, -1.42154384e+00],\n",
       "       [-1.34775877e+00,  2.45586276e+00],\n",
       "       [-9.67911959e-01,  2.41607261e+00],\n",
       "       [ 2.75930786e+00, -1.72419190e+00],\n",
       "       [-2.00339627e+00,  2.89925408e+00],\n",
       "       [-1.40716219e+00,  2.59000802e+00],\n",
       "       [-2.05309486e+00,  2.30537868e+00],\n",
       "       [ 2.97733235e+00, -1.81526542e+00],\n",
       "       [ 3.49289107e+00, -2.26066089e+00],\n",
       "       [ 3.05728817e+00, -1.97115493e+00],\n",
       "       [ 3.13655305e+00, -1.93660927e+00],\n",
       "       [ 3.14848351e+00, -2.12051749e+00],\n",
       "       [-1.65824860e-01,  9.90785778e-01],\n",
       "       [-1.67398250e+00,  2.79256153e+00],\n",
       "       [ 2.26203012e+00, -1.16226125e+00],\n",
       "       [ 2.89644504e+00, -1.85730815e+00],\n",
       "       [ 8.63235116e-01, -8.35780799e-02],\n",
       "       [ 3.02395797e+00, -1.96029472e+00],\n",
       "       [-1.19035673e+00,  2.43778181e+00],\n",
       "       [ 3.09979987e+00, -2.05587459e+00],\n",
       "       [-1.20225084e+00,  2.46152520e+00],\n",
       "       [-3.37019891e-01,  1.07702470e+00],\n",
       "       [ 1.20690215e+00, -3.58971059e-01],\n",
       "       [-9.13117290e-01,  1.86851692e+00],\n",
       "       [-1.39888275e+00,  2.58152199e+00],\n",
       "       [ 3.28974485e+00, -2.24298811e+00],\n",
       "       [ 2.85526681e+00, -1.77830124e+00],\n",
       "       [-1.18535042e+00,  2.43723583e+00],\n",
       "       [ 2.37995791e+00, -1.44904852e+00],\n",
       "       [ 3.38702989e+00, -2.34490061e+00],\n",
       "       [-1.12225652e+00,  2.42109871e+00],\n",
       "       [-2.09720874e+00,  2.76873350e+00],\n",
       "       [-1.42375088e+00,  2.60641146e+00],\n",
       "       [ 2.40800571e+00, -1.26203036e+00],\n",
       "       [ 2.15564036e+00, -1.32692409e+00],\n",
       "       [ 2.48396128e-01,  8.50872219e-01],\n",
       "       [ 2.43205214e+00, -1.40706348e+00],\n",
       "       [ 7.63474584e-01,  4.91651893e-03],\n",
       "       [ 2.40686250e+00, -1.35867095e+00],\n",
       "       [-1.35734701e+00,  2.42806053e+00],\n",
       "       [ 1.73016644e+00, -8.22943747e-01],\n",
       "       [-2.15925026e+00,  2.39654112e+00],\n",
       "       [-3.79791707e-01,  1.75275469e+00],\n",
       "       [ 3.08800650e+00, -2.02779293e+00],\n",
       "       [ 2.48774838e+00, -1.52670121e+00],\n",
       "       [-1.54571044e+00,  2.70334697e+00],\n",
       "       [-1.18526578e+00,  2.43713546e+00],\n",
       "       [-1.20442510e+00,  2.47333241e+00],\n",
       "       [-5.85280299e-01,  1.65719628e+00],\n",
       "       [ 2.41153741e+00, -1.50725031e+00],\n",
       "       [-1.34634459e+00,  2.53595161e+00],\n",
       "       [-1.45494092e+00,  2.63071012e+00],\n",
       "       [-1.07283545e+00,  2.11566234e+00],\n",
       "       [-1.59363317e+00,  2.07712126e+00],\n",
       "       [ 2.95594239e+00, -1.97936940e+00],\n",
       "       [-1.50887752e+00,  2.65507627e+00],\n",
       "       [ 3.43091130e+00, -2.33441162e+00],\n",
       "       [-9.37009215e-01,  1.89693284e+00],\n",
       "       [-2.82038420e-01,  1.10505915e+00],\n",
       "       [-9.48235750e-01,  1.91124797e+00],\n",
       "       [-1.69925129e+00,  2.82289553e+00],\n",
       "       [-2.18612289e+00,  2.88252926e+00],\n",
       "       [ 2.44949293e+00, -1.42730093e+00],\n",
       "       [ 2.98695183e+00, -1.99561405e+00],\n",
       "       [ 2.73036575e+00, -1.77082586e+00],\n",
       "       [-1.54765415e+00,  2.70375013e+00],\n",
       "       [ 3.35909009e+00, -2.21865177e+00],\n",
       "       [ 3.36158276e-03,  1.00943136e+00],\n",
       "       [ 6.28203154e-01,  5.07711112e-01],\n",
       "       [-1.64370084e+00,  2.75401807e+00],\n",
       "       [ 3.20088649e+00, -2.06141186e+00],\n",
       "       [-1.19096243e+00,  2.43835044e+00],\n",
       "       [-1.35734701e+00,  2.42806053e+00],\n",
       "       [ 1.30286336e-01,  8.92189920e-01],\n",
       "       [ 2.64239407e+00, -1.70342612e+00],\n",
       "       [-1.21305168e+00,  2.48498797e+00],\n",
       "       [-1.18431044e+00,  2.43132567e+00],\n",
       "       [ 3.34389019e+00, -2.26467252e+00],\n",
       "       [-3.22814852e-01,  1.32441831e+00],\n",
       "       [ 3.34829926e+00, -2.04869390e+00],\n",
       "       [ 3.36369061e+00, -2.29619813e+00],\n",
       "       [-1.16836882e+00,  2.41370797e+00],\n",
       "       [-1.08710217e+00,  1.68300128e+00],\n",
       "       [-1.36082196e+00,  2.47145677e+00],\n",
       "       [ 2.45591903e+00, -1.44023252e+00],\n",
       "       [ 2.69172740e+00, -1.68254113e+00],\n",
       "       [-2.08658099e+00,  2.80828834e+00],\n",
       "       [-1.41062295e+00,  2.54287529e+00],\n",
       "       [-2.87854671e+00,  3.37230420e+00],\n",
       "       [-1.33750343e+00,  2.44928718e+00],\n",
       "       [ 2.40935969e+00, -1.39223456e+00],\n",
       "       [-1.04232943e+00,  1.55988550e+00],\n",
       "       [-4.72129732e-01,  1.15016294e+00],\n",
       "       [-1.11851275e-01,  1.03761292e+00],\n",
       "       [ 3.12557864e+00, -1.97278118e+00],\n",
       "       [-3.35235745e-01,  1.04865813e+00],\n",
       "       [ 2.40589643e+00, -1.38916135e+00],\n",
       "       [ 2.36750865e+00, -1.35783410e+00],\n",
       "       [ 2.52575660e+00, -1.30749130e+00],\n",
       "       [-8.19984555e-01,  1.78579736e+00],\n",
       "       [-1.39899135e+00,  2.58451748e+00],\n",
       "       [ 3.14538598e+00, -2.02170444e+00],\n",
       "       [-1.41714597e+00,  2.59014583e+00],\n",
       "       [-1.36580002e+00,  2.47709966e+00],\n",
       "       [ 2.73036575e+00, -1.77082586e+00],\n",
       "       [ 2.29411292e+00, -1.40858173e+00],\n",
       "       [ 2.93018222e+00, -1.82070398e+00],\n",
       "       [ 3.03824615e+00, -1.96776605e+00],\n",
       "       [-9.06183600e-01,  1.86197352e+00],\n",
       "       [ 1.32909167e+00, -4.11035836e-01],\n",
       "       [ 2.39382005e+00, -1.43878436e+00],\n",
       "       [ 2.64969134e+00, -1.61635900e+00],\n",
       "       [-1.34559774e+00,  2.45101380e+00],\n",
       "       [ 2.40309381e+00, -1.39530683e+00],\n",
       "       [-2.08693236e-01,  1.15543509e+00],\n",
       "       [ 1.83859575e+00, -1.07922471e+00],\n",
       "       [ 2.99131727e+00, -1.93807864e+00],\n",
       "       [-6.06673479e-01,  9.06825602e-01],\n",
       "       [ 2.06976295e+00, -1.15802383e+00],\n",
       "       [-1.12686336e-01,  9.72421229e-01],\n",
       "       [-1.08813035e+00,  2.42690277e+00],\n",
       "       [-3.66343945e-01,  1.22944188e+00],\n",
       "       [ 3.02004361e+00, -1.89988327e+00],\n",
       "       [-1.27077174e+00,  2.54665637e+00],\n",
       "       [ 3.12706900e+00, -2.12528157e+00],\n",
       "       [-1.53793919e+00,  2.69236732e+00],\n",
       "       [ 2.29615927e+00, -1.39849186e+00],\n",
       "       [ 1.74172366e+00, -8.12731504e-01],\n",
       "       [ 2.72687054e+00, -1.76807952e+00],\n",
       "       [-6.07965350e-01,  1.53600073e+00],\n",
       "       [-1.70307219e+00,  2.83140206e+00],\n",
       "       [ 2.78983879e+00, -1.77692175e+00],\n",
       "       [-9.29669142e-01,  1.88987255e+00],\n",
       "       [ 2.77279401e+00, -1.80543709e+00],\n",
       "       [-1.34553337e+00,  2.45134115e+00],\n",
       "       [-5.82982898e-01,  8.90469849e-01],\n",
       "       [ 2.40128279e+00, -1.45183659e+00],\n",
       "       [-1.48428059e+00,  2.63121200e+00],\n",
       "       [-7.29532123e-01,  2.16547894e+00],\n",
       "       [ 2.61739326e+00, -1.65473628e+00],\n",
       "       [-1.67107141e+00,  2.78871393e+00],\n",
       "       [ 2.47174621e+00, -1.54669023e+00],\n",
       "       [-2.16779184e+00,  2.81302309e+00],\n",
       "       [-2.44413942e-01,  1.14347601e+00],\n",
       "       [-7.54780412e-01,  2.15054917e+00],\n",
       "       [-1.51691520e+00,  2.68194485e+00],\n",
       "       [ 2.81858635e+00, -1.76858258e+00],\n",
       "       [ 2.72275829e+00, -1.75370955e+00],\n",
       "       [-9.37009215e-01,  1.89693284e+00],\n",
       "       [-3.14438313e-01,  1.20758057e+00],\n",
       "       [-3.66343945e-01,  1.22944188e+00],\n",
       "       [ 3.01749015e+00, -1.96184993e+00],\n",
       "       [ 3.14848351e+00, -2.12051749e+00],\n",
       "       [-1.17463887e+00,  2.41955304e+00],\n",
       "       [-7.76821375e-03,  9.54445899e-01],\n",
       "       [ 3.27241921e+00, -2.09299397e+00],\n",
       "       [-5.85280299e-01,  1.65719628e+00],\n",
       "       [-1.39289999e+00,  2.58305287e+00],\n",
       "       [ 2.40090084e+00, -1.48710346e+00],\n",
       "       [-3.61501724e-01,  1.09837079e+00],\n",
       "       [-2.09720850e+00,  2.76873350e+00],\n",
       "       [ 2.83063221e+00, -1.58708358e+00],\n",
       "       [ 2.44304967e+00, -1.41994143e+00],\n",
       "       [ 8.37021768e-02,  7.27811754e-01],\n",
       "       [ 3.27048898e+00, -2.16750193e+00],\n",
       "       [-1.16872299e+00,  2.38043809e+00],\n",
       "       [-1.06636322e+00,  2.41854000e+00],\n",
       "       [ 3.07269526e+00, -2.05135465e+00],\n",
       "       [ 2.44665194e+00, -1.42853189e+00],\n",
       "       [ 2.97046304e+00, -1.85396767e+00]], dtype=float32)"
      ]
     },
     "execution_count": 16,
     "metadata": {},
     "output_type": "execute_result"
    }
   ],
   "source": [
    "Ptest"
   ]
  },
  {
   "cell_type": "code",
   "execution_count": 17,
   "id": "bfb798ba-7d3d-4a38-ba96-9513343e488d",
   "metadata": {},
   "outputs": [
    {
     "data": {
      "text/plain": [
       "array([0, 1, 1, 0, 1, 1, 1, 0, 0, 0, 0, 0, 1, 1, 0, 0, 0, 0, 1, 0, 1, 1,\n",
       "       0, 1, 1, 0, 0, 1, 0, 0, 1, 1, 1, 0, 0, 1, 0, 0, 0, 1, 0, 1, 1, 0,\n",
       "       0, 1, 1, 1, 1, 0, 1, 1, 1, 1, 0, 1, 0, 1, 1, 1, 1, 1, 0, 0, 0, 1,\n",
       "       0, 1, 0, 1, 0, 1, 1, 1, 0, 1, 1, 0, 1, 0, 0, 1, 1, 1, 0, 0, 1, 1,\n",
       "       1, 1, 0, 1, 1, 1, 0, 1, 0, 0, 0, 1, 1, 0, 1, 1, 0, 0, 0, 0, 1, 0,\n",
       "       0, 0, 1, 0, 1, 0, 0, 1, 0, 1, 1, 1, 0, 1, 0, 1, 0, 0, 0, 1, 1, 0,\n",
       "       1, 0, 1, 1, 0, 1, 1, 0, 1, 0, 1, 1, 1, 1, 0, 0, 1, 1, 1, 0, 0, 1,\n",
       "       1, 0, 1, 1, 0, 1, 1, 0, 0, 1, 0, 1, 1, 0, 0, 0])"
      ]
     },
     "execution_count": 17,
     "metadata": {},
     "output_type": "execute_result"
    }
   ],
   "source": [
    "Ypred = np.argmax(Ptest, axis=1)\n",
    "Ypred"
   ]
  },
  {
   "cell_type": "code",
   "execution_count": 18,
   "id": "8d3dea2a-84fe-4f74-bed9-d685d5348ab6",
   "metadata": {},
   "outputs": [
    {
     "data": {
      "text/plain": [
       "0.9529411764705882"
      ]
     },
     "execution_count": 18,
     "metadata": {},
     "output_type": "execute_result"
    }
   ],
   "source": [
    "np.mean(Ypred == Ytest)"
   ]
  },
  {
   "cell_type": "code",
   "execution_count": 19,
   "id": "fc677c4e-1d88-4650-8ef9-524183c1e5f4",
   "metadata": {},
   "outputs": [
    {
     "name": "stdout",
     "output_type": "stream",
     "text": [
      "Accuracy: 0.9529411764705882\n",
      "Confusion Matrix\n",
      "[[78  7]\n",
      " [ 1 84]]\n",
      "              precision    recall  f1-score   support\n",
      "\n",
      "           0       0.99      0.92      0.95        85\n",
      "           1       0.92      0.99      0.95        85\n",
      "\n",
      "    accuracy                           0.95       170\n",
      "   macro avg       0.96      0.95      0.95       170\n",
      "weighted avg       0.96      0.95      0.95       170\n",
      "\n"
     ]
    }
   ],
   "source": [
    "result = {}\n",
    "\n",
    "result['test_accuracy'] = accuracy_score(Ytest, Ypred)\n",
    "result['test_confusion_matrix'] = confusion_matrix(Ytest, Ypred)\n",
    "result['test_classification_report'] = classification_report(Ytest, Ypred)\n",
    "\n",
    "print(f\"Accuracy: {result['test_accuracy']}\")\n",
    "print('Confusion Matrix')\n",
    "print(result['test_confusion_matrix'])\n",
    "print(result['test_classification_report'])"
   ]
  },
  {
   "cell_type": "markdown",
   "id": "8bb554d2-7781-402c-abb3-d9f8cc776bd2",
   "metadata": {},
   "source": [
    "## Trying to test on another datetime cutoff"
   ]
  },
  {
   "cell_type": "code",
   "execution_count": 20,
   "id": "5362ddae-eb1b-4443-90e7-402bc9c0303b",
   "metadata": {},
   "outputs": [
    {
     "name": "stdout",
     "output_type": "stream",
     "text": [
      "started: 2023-10-26 22:00:18\n",
      "merging datasets with different tids\n"
     ]
    },
    {
     "name": "stderr",
     "output_type": "stream",
     "text": [
      "100%|████████████████████████████| 5725288/5725288 [00:04<00:00, 1331608.46it/s]\n"
     ]
    },
    {
     "name": "stdout",
     "output_type": "stream",
     "text": [
      "filling 'y' and 'n_sub_datasets' columns\n"
     ]
    },
    {
     "name": "stderr",
     "output_type": "stream",
     "text": [
      "100%|█████████████████████████████████| 256798/256798 [00:45<00:00, 5640.73it/s]\n"
     ]
    },
    {
     "name": "stdout",
     "output_type": "stream",
     "text": [
      "after filtering by access number: 1027 / 31471\n",
      "filtering by history presence\n"
     ]
    },
    {
     "name": "stderr",
     "output_type": "stream",
     "text": [
      "100%|████████████████████████████████████| 31471/31471 [00:43<00:00, 716.31it/s]\n"
     ]
    },
    {
     "name": "stdout",
     "output_type": "stream",
     "text": [
      "after filtering: 999 / 29647\n",
      "transforming date arrays to timeseries\n"
     ]
    },
    {
     "name": "stderr",
     "output_type": "stream",
     "text": [
      "100%|████████████████████████████████████| 29647/29647 [00:59<00:00, 497.81it/s]\n"
     ]
    },
    {
     "name": "stdout",
     "output_type": "stream",
     "text": [
      "finished: 2023-10-26 22:03:32\n",
      "Elapsed time (seconds): 194.218889168\n"
     ]
    }
   ],
   "source": [
    "print('started:', time.strftime('%Y-%m-%d %H:%M:%S'))\n",
    "t1 = time.clock_gettime_ns(time.CLOCK_REALTIME)\n",
    "\n",
    "\n",
    "objs_df_test = transform_filter_data(\n",
    "    source_csv = source_csv,\n",
    "    finish_date = finish_date_validate,\n",
    "    horizon_date = finish_date_validate + horizon,\n",
    "    span_threshold = span_threshold,\n",
    "    history_len = history_len,\n",
    "    accesses_threshold = accesses_threshold,\n",
    "    merge_tids=True\n",
    ")\n",
    "\n",
    "t2 = time.clock_gettime_ns(time.CLOCK_REALTIME)\n",
    "\n",
    "print('finished:', time.strftime('%Y-%m-%d %H:%M:%S'))\n",
    "print('Elapsed time (seconds):', (t2 - t1) / 1_000_000_000)"
   ]
  },
  {
   "cell_type": "code",
   "execution_count": 21,
   "id": "afc76bfc-5990-4098-b237-c8d356a3a4b6",
   "metadata": {},
   "outputs": [],
   "source": [
    "objs_test_1 = objs_df_test[objs_df_test['y'] > 0]\n",
    "\n",
    "test2_df = pd.DataFrame(objs_test_1)\n",
    "test2_df = pd.concat(\n",
    "    [\n",
    "        test2_df,\n",
    "        objs_df_test[objs_df_test['y'] == 0].sample(len(test2_df),\n",
    "                                                    random_state=46)\n",
    "    ]\n",
    ")"
   ]
  },
  {
   "cell_type": "code",
   "execution_count": 22,
   "id": "b487b3c0-00e8-494b-9ecf-f4b9153bfbc6",
   "metadata": {},
   "outputs": [],
   "source": [
    "Xtest2 = np.stack(test2_df['history_ts'].to_numpy())\n",
    "Ytest2 = (test2_df['y'].to_numpy() > 0).astype('int')\n",
    "Xtest2 = Xtest2.reshape((Xtest2.shape[0], Xtest2.shape[1], D))"
   ]
  },
  {
   "cell_type": "code",
   "execution_count": 23,
   "id": "dbe1e760-d86f-486d-8c05-c942eeb7d85b",
   "metadata": {},
   "outputs": [
    {
     "name": "stdout",
     "output_type": "stream",
     "text": [
      "63/63 [==============================] - 1s 15ms/step\n"
     ]
    }
   ],
   "source": [
    "Ptest2 = best_model.predict(Xtest2)"
   ]
  },
  {
   "cell_type": "code",
   "execution_count": 24,
   "id": "bf528fef-c05d-46c6-8acc-dc1591938e90",
   "metadata": {},
   "outputs": [
    {
     "name": "stdout",
     "output_type": "stream",
     "text": [
      "Accuracy: 0.9104104104104104\n",
      "Confusion Matrix\n",
      "[[941  58]\n",
      " [121 878]]\n",
      "              precision    recall  f1-score   support\n",
      "\n",
      "           0       0.89      0.94      0.91       999\n",
      "           1       0.94      0.88      0.91       999\n",
      "\n",
      "    accuracy                           0.91      1998\n",
      "   macro avg       0.91      0.91      0.91      1998\n",
      "weighted avg       0.91      0.91      0.91      1998\n",
      "\n"
     ]
    }
   ],
   "source": [
    "Ypred2 = np.argmax(Ptest2, axis=1)\n",
    "\n",
    "result2 = {}\n",
    "\n",
    "result2['test_accuracy'] = accuracy_score(Ytest2, Ypred2)\n",
    "result2['test_confusion_matrix'] = confusion_matrix(Ytest2, Ypred2)\n",
    "result2['test_classification_report'] = classification_report(Ytest2, Ypred2)\n",
    "\n",
    "print(f\"Accuracy: {result2['test_accuracy']}\")\n",
    "print('Confusion Matrix')\n",
    "print(result2['test_confusion_matrix'])\n",
    "print(result2['test_classification_report'])"
   ]
  },
  {
   "cell_type": "markdown",
   "id": "5f7f988a-aae9-4f4c-aeee-63d92ace7c12",
   "metadata": {},
   "source": [
    "### Не дурно ☝☝☝."
   ]
  },
  {
   "cell_type": "markdown",
   "id": "00a75706-e63b-4ebd-a62c-45cde25f8435",
   "metadata": {},
   "source": [
    "### А что, если теперь взять и оценить модель на несбалансированном наборе (где много ответов 0)?"
   ]
  },
  {
   "cell_type": "code",
   "execution_count": 25,
   "id": "a296bb3f-5161-4ab1-934b-a6aa47f1b85f",
   "metadata": {},
   "outputs": [
    {
     "name": "stdout",
     "output_type": "stream",
     "text": [
      "63/63 [==============================] - 1s 16ms/step\n",
      "Accuracy: 0.93993993993994\n",
      "Confusion Matrix\n",
      "[[1820  117]\n",
      " [   3   58]]\n",
      "              precision    recall  f1-score   support\n",
      "\n",
      "           0       1.00      0.94      0.97      1937\n",
      "           1       0.33      0.95      0.49        61\n",
      "\n",
      "    accuracy                           0.94      1998\n",
      "   macro avg       0.66      0.95      0.73      1998\n",
      "weighted avg       0.98      0.94      0.95      1998\n",
      "\n"
     ]
    }
   ],
   "source": [
    "test3_df = objs_df_test.sample(len(test2_df), random_state=47)\n",
    "Xtest3 = np.stack(test3_df['history_ts'].to_numpy())\n",
    "Ytest3 = (test3_df['y'].to_numpy() > 0).astype('int')\n",
    "Xtest3 = Xtest3.reshape((Xtest3.shape[0], Xtest3.shape[1], D))\n",
    "Ptest3 = best_model.predict(Xtest3)\n",
    "\n",
    "Ypred3 = np.argmax(Ptest3, axis=1)\n",
    "\n",
    "result3 = {}\n",
    "\n",
    "result3['test_accuracy'] = accuracy_score(Ytest3, Ypred3)\n",
    "result3['test_confusion_matrix'] = confusion_matrix(Ytest3, Ypred3)\n",
    "result3['test_classification_report'] = classification_report(Ytest3, Ypred3)\n",
    "\n",
    "print(f\"Accuracy: {result3['test_accuracy']}\")\n",
    "print('Confusion Matrix')\n",
    "print(result3['test_confusion_matrix'])\n",
    "print(result3['test_classification_report'])"
   ]
  },
  {
   "cell_type": "markdown",
   "id": "2c9acf44-9c6b-472a-97cb-2dafbe06336d",
   "metadata": {},
   "source": [
    "Многовато ложноположительных ответов в конфьюжн матрице (117).\n",
    "Т.е. наш предсказатель будет предлагать создавать много лишних реплик.\n",
    "Зато любой популярный датасет с высокой вероятностью не останется без реплики..."
   ]
  }
 ],
 "metadata": {
  "kernelspec": {
   "display_name": "Python 3 (ipykernel)",
   "language": "python",
   "name": "python3"
  },
  "language_info": {
   "codemirror_mode": {
    "name": "ipython",
    "version": 3
   },
   "file_extension": ".py",
   "mimetype": "text/x-python",
   "name": "python",
   "nbconvert_exporter": "python",
   "pygments_lexer": "ipython3",
   "version": "3.11.2"
  }
 },
 "nbformat": 4,
 "nbformat_minor": 5
}
