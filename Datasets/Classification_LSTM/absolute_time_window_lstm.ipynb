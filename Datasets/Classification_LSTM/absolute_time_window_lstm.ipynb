{
 "cells": [
  {
   "cell_type": "code",
   "execution_count": 1,
   "outputs": [],
   "source": [
    "import matplotlib.pyplot as plt\n",
    "import pandas as pd\n",
    "import numpy as np\n",
    "from sklearn.ensemble import RandomForestClassifier\n",
    "import pprint\n",
    "import tensorflow as tf\n",
    "from tensorflow.keras.layers import Dense, Input, GlobalMaxPooling1D\n",
    "from tensorflow.keras.layers import LSTM, Concatenate\n",
    "from tensorflow.keras.models import Model\n",
    "from tensorflow.keras.losses import SparseCategoricalCrossentropy\n",
    "from tensorflow.keras.callbacks import ModelCheckpoint\n",
    "\n",
    "np.random.seed(0)\n",
    "tf.random.set_seed(0)"
   ],
   "metadata": {
    "collapsed": false,
    "pycharm": {
     "name": "#%%\n"
    }
   }
  },
  {
   "cell_type": "code",
   "execution_count": 60,
   "outputs": [],
   "source": [
    "df = pd.read_csv('../../dataset_samples/DAOD_all_sequences.csv')"
   ],
   "metadata": {
    "collapsed": false,
    "pycharm": {
     "name": "#%%\n"
    }
   }
  },
  {
   "cell_type": "code",
   "execution_count": 61,
   "outputs": [],
   "source": [
    "df = df.reindex(np.random.permutation(df.index))"
   ],
   "metadata": {
    "collapsed": false,
    "pycharm": {
     "name": "#%%\n"
    }
   }
  },
  {
   "cell_type": "code",
   "execution_count": 62,
   "outputs": [],
   "source": [
    "df['n_tasks'] = df['n_tasks'].apply(lambda x: [int(item) for item in x[1:-1].split(',')])"
   ],
   "metadata": {
    "collapsed": false,
    "pycharm": {
     "name": "#%%\n"
    }
   }
  },
  {
   "cell_type": "code",
   "execution_count": 63,
   "outputs": [],
   "source": [
    "w_start, w_end = 230, 260"
   ],
   "metadata": {
    "collapsed": false,
    "pycharm": {
     "name": "#%%\n"
    }
   }
  },
  {
   "cell_type": "code",
   "execution_count": 64,
   "outputs": [],
   "source": [
    "train_sequence = df['n_tasks'].apply(lambda x: [item for item in x][w_start:w_end])\n",
    "train_labels = df['n_tasks'].apply(lambda x: [1 if item>0 else 0 for item in x][w_end])"
   ],
   "metadata": {
    "collapsed": false,
    "pycharm": {
     "name": "#%%\n"
    }
   }
  },
  {
   "cell_type": "code",
   "execution_count": 65,
   "outputs": [],
   "source": [
    "sequences = np.array(list(train_sequence.values))\n",
    "labels = np.array(list(train_labels.values))"
   ],
   "metadata": {
    "collapsed": false,
    "pycharm": {
     "name": "#%%\n"
    }
   }
  },
  {
   "cell_type": "code",
   "execution_count": 70,
   "outputs": [],
   "source": [
    "new_sequences = []\n",
    "new_labels = []\n",
    "for idx,sequence in enumerate(sequences):\n",
    "    number_of_accesses = sum(sequence)\n",
    "    # skip not popular datasets\n",
    "    if number_of_accesses > 30:\n",
    "        new_sequences.append(sequence)\n",
    "        new_labels.append(labels[idx])"
   ],
   "metadata": {
    "collapsed": false,
    "pycharm": {
     "name": "#%%\n"
    }
   }
  },
  {
   "cell_type": "code",
   "execution_count": 71,
   "outputs": [],
   "source": [
    "new_sequences = np.array(new_sequences)"
   ],
   "metadata": {
    "collapsed": false,
    "pycharm": {
     "name": "#%%\n"
    }
   }
  },
  {
   "cell_type": "code",
   "execution_count": 72,
   "outputs": [
    {
     "name": "stdout",
     "output_type": "stream",
     "text": [
      "[[0 0 0 ... 0 0 0]\n",
      " [1 0 0 ... 2 1 4]\n",
      " [0 0 1 ... 3 0 4]\n",
      " ...\n",
      " [1 0 0 ... 3 2 1]\n",
      " [1 2 2 ... 1 0 0]\n",
      " [2 1 1 ... 8 1 6]]\n"
     ]
    }
   ],
   "source": [
    "print(new_sequences)"
   ],
   "metadata": {
    "collapsed": false,
    "pycharm": {
     "name": "#%%\n"
    }
   }
  },
  {
   "cell_type": "code",
   "execution_count": 73,
   "outputs": [
    {
     "data": {
      "text/plain": "(10627, 30)"
     },
     "execution_count": 73,
     "metadata": {},
     "output_type": "execute_result"
    }
   ],
   "source": [
    "new_sequences.shape"
   ],
   "metadata": {
    "collapsed": false,
    "pycharm": {
     "name": "#%%\n"
    }
   }
  },
  {
   "cell_type": "code",
   "execution_count": 74,
   "outputs": [],
   "source": [
    "Y = np.array(new_labels)"
   ],
   "metadata": {
    "collapsed": false,
    "pycharm": {
     "name": "#%%\n"
    }
   }
  },
  {
   "cell_type": "code",
   "execution_count": 75,
   "outputs": [
    {
     "name": "stdout",
     "output_type": "stream",
     "text": [
      "[[[ 0]\n",
      "  [ 0]\n",
      "  [ 0]\n",
      "  [ 0]\n",
      "  [ 0]\n",
      "  [ 0]\n",
      "  [ 0]\n",
      "  [ 0]\n",
      "  [ 0]\n",
      "  [ 0]\n",
      "  [ 0]\n",
      "  [ 0]\n",
      "  [ 0]\n",
      "  [ 0]\n",
      "  [11]\n",
      "  [ 7]\n",
      "  [ 1]\n",
      "  [ 0]\n",
      "  [ 0]\n",
      "  [ 0]\n",
      "  [17]\n",
      "  [ 3]\n",
      "  [ 0]\n",
      "  [ 0]\n",
      "  [ 0]\n",
      "  [ 0]\n",
      "  [ 0]\n",
      "  [ 0]\n",
      "  [ 0]\n",
      "  [ 0]]\n",
      "\n",
      " [[ 1]\n",
      "  [ 0]\n",
      "  [ 0]\n",
      "  [ 0]\n",
      "  [ 3]\n",
      "  [ 1]\n",
      "  [ 1]\n",
      "  [ 4]\n",
      "  [ 1]\n",
      "  [ 2]\n",
      "  [ 0]\n",
      "  [ 5]\n",
      "  [ 6]\n",
      "  [ 6]\n",
      "  [ 0]\n",
      "  [ 3]\n",
      "  [ 0]\n",
      "  [ 0]\n",
      "  [ 1]\n",
      "  [ 1]\n",
      "  [ 0]\n",
      "  [ 0]\n",
      "  [ 0]\n",
      "  [ 0]\n",
      "  [ 0]\n",
      "  [ 0]\n",
      "  [ 0]\n",
      "  [ 2]\n",
      "  [ 1]\n",
      "  [ 4]]]\n"
     ]
    }
   ],
   "source": [
    "n_features = 1\n",
    "X = new_sequences.reshape((new_sequences.shape[0], new_sequences.shape[1], n_features))\n",
    "print(X[:2])"
   ],
   "metadata": {
    "collapsed": false,
    "pycharm": {
     "name": "#%%\n"
    }
   }
  },
  {
   "cell_type": "code",
   "execution_count": 76,
   "outputs": [
    {
     "data": {
      "text/plain": "(10627, 30, 1)"
     },
     "execution_count": 76,
     "metadata": {},
     "output_type": "execute_result"
    }
   ],
   "source": [
    "X.shape"
   ],
   "metadata": {
    "collapsed": false,
    "pycharm": {
     "name": "#%%\n"
    }
   }
  },
  {
   "cell_type": "code",
   "execution_count": 78,
   "outputs": [],
   "source": [
    "Ntest = 3000\n",
    "# Nval = 3000\n",
    "\n",
    "Xtrain = X[:-Ntest]\n",
    "Xtest = X[-Ntest:]\n",
    "Ytrain = Y[:-Ntest]\n",
    "Ytest = Y[-Ntest:]\n",
    "# Xval = X[-Nval:]\n",
    "# Yval = Y[-Nval:]\n"
   ],
   "metadata": {
    "collapsed": false,
    "pycharm": {
     "name": "#%%\n"
    }
   }
  },
  {
   "cell_type": "code",
   "execution_count": 79,
   "outputs": [
    {
     "data": {
      "text/plain": "array([0, 0, 1, ..., 0, 1, 1])"
     },
     "execution_count": 79,
     "metadata": {},
     "output_type": "execute_result"
    }
   ],
   "source": [
    "Ytrain"
   ],
   "metadata": {
    "collapsed": false,
    "pycharm": {
     "name": "#%%\n"
    }
   }
  },
  {
   "cell_type": "code",
   "execution_count": 80,
   "outputs": [],
   "source": [
    "# optimal number of units\n",
    "# n_units = Xtrain.shape[0]/(2*())"
   ],
   "metadata": {
    "collapsed": false,
    "pycharm": {
     "name": "#%%\n"
    }
   }
  },
  {
   "cell_type": "code",
   "execution_count": 81,
   "outputs": [],
   "source": [
    "T = 30\n",
    "D = 1\n",
    "K = 2"
   ],
   "metadata": {
    "collapsed": false,
    "pycharm": {
     "name": "#%%\n"
    }
   }
  },
  {
   "cell_type": "code",
   "execution_count": 82,
   "outputs": [],
   "source": [
    "i = Input(shape=(T,D))\n",
    "x = LSTM(16, return_sequences=True)(i)\n",
    "# x = LSTM(16, return_sequences=True)(x)\n",
    "x = GlobalMaxPooling1D()(x)\n",
    "x = Dense(K)(x)\n",
    "model = Model(i, x)"
   ],
   "metadata": {
    "collapsed": false,
    "pycharm": {
     "name": "#%%\n"
    }
   }
  },
  {
   "cell_type": "code",
   "execution_count": 83,
   "outputs": [],
   "source": [
    "# i = Input(shape=(30,1))\n",
    "# x = LSTM(32, return_sequences=True)(i)\n",
    "# x = GlobalMaxPooling1D()(x)\n",
    "# x = Dense(2)(x)\n",
    "# model = Model(i,x)"
   ],
   "metadata": {
    "collapsed": false,
    "pycharm": {
     "name": "#%%\n"
    }
   }
  },
  {
   "cell_type": "code",
   "execution_count": 84,
   "outputs": [
    {
     "name": "stdout",
     "output_type": "stream",
     "text": [
      "Model: \"model_1\"\n",
      "_________________________________________________________________\n",
      " Layer (type)                Output Shape              Param #   \n",
      "=================================================================\n",
      " input_2 (InputLayer)        [(None, 30, 1)]           0         \n",
      "                                                                 \n",
      " lstm_1 (LSTM)               (None, 30, 16)            1152      \n",
      "                                                                 \n",
      " global_max_pooling1d_1 (Glo  (None, 16)               0         \n",
      " balMaxPooling1D)                                                \n",
      "                                                                 \n",
      " dense_1 (Dense)             (None, 2)                 34        \n",
      "                                                                 \n",
      "=================================================================\n",
      "Total params: 1,186\n",
      "Trainable params: 1,186\n",
      "Non-trainable params: 0\n",
      "_________________________________________________________________\n"
     ]
    }
   ],
   "source": [
    "model.summary()"
   ],
   "metadata": {
    "collapsed": false,
    "pycharm": {
     "name": "#%%\n"
    }
   }
  },
  {
   "cell_type": "code",
   "execution_count": 85,
   "outputs": [
    {
     "data": {
      "image/png": "[encoded data removed]",
      "text/plain": "<IPython.core.display.Image object>"
     },
     "execution_count": 85,
     "metadata": {},
     "output_type": "execute_result"
    }
   ],
   "source": [
    "tf.keras.utils.plot_model(model)"
   ],
   "metadata": {
    "collapsed": false,
    "pycharm": {
     "name": "#%%\n"
    }
   }
  },
  {
   "cell_type": "code",
   "execution_count": 86,
   "outputs": [],
   "source": [
    "check_point = ModelCheckpoint(\n",
    "    'best_model.h5', monitor='val_loss', save_best_only=True\n",
    ")"
   ],
   "metadata": {
    "collapsed": false,
    "pycharm": {
     "name": "#%%\n"
    }
   }
  },
  {
   "cell_type": "code",
   "execution_count": 87,
   "outputs": [
    {
     "data": {
      "text/plain": "<Figure size 432x288 with 1 Axes>",
      "image/png": "[encoded data removed]"
     },
     "metadata": {
      "needs_background": "light"
     },
     "output_type": "display_data"
    }
   ],
   "source": [
    "plt.plot(Xtrain[200, :, :]);"
   ],
   "metadata": {
    "collapsed": false,
    "pycharm": {
     "name": "#%%\n"
    }
   }
  },
  {
   "cell_type": "code",
   "execution_count": 88,
   "outputs": [],
   "source": [
    "model.compile(\n",
    "    loss=SparseCategoricalCrossentropy(from_logits=True),\n",
    "    optimizer='adam',\n",
    "    metrics=['accuracy']\n",
    ")\n",
    "# The from_logits=True attribute inform the loss function that the output values generated by the model are not normalized, a.k.a. logits. In other words, the softmax function has not been applied on them to produce a probability distribution. The softmax function would be automatically applied on the output values by the loss function. Therefore, this does not make a difference with the scenario when you use from_logits=False (default) and a softmax activation function on last layer; however, in some cases, this might help with numerical stability during training of the model."
   ],
   "metadata": {
    "collapsed": false,
    "pycharm": {
     "name": "#%%\n"
    }
   }
  },
  {
   "cell_type": "code",
   "execution_count": 89,
   "outputs": [
    {
     "name": "stdout",
     "output_type": "stream",
     "text": [
      "Epoch 1/100\n",
      "WARNING:tensorflow:AutoGraph could not transform <function Model.make_train_function.<locals>.train_function at 0x7fbfad867290> and will run it as-is.\n",
      "Please report this to the TensorFlow team. When filing the bug, set the verbosity to 10 (on Linux, `export AUTOGRAPH_VERBOSITY=10`) and attach the full output.\n",
      "Cause: 'arguments' object has no attribute 'posonlyargs'\n",
      "To silence this warning, decorate the function with @tf.autograph.experimental.do_not_convert\n",
      "WARNING: AutoGraph could not transform <function Model.make_train_function.<locals>.train_function at 0x7fbfad867290> and will run it as-is.\n",
      "Please report this to the TensorFlow team. When filing the bug, set the verbosity to 10 (on Linux, `export AUTOGRAPH_VERBOSITY=10`) and attach the full output.\n",
      "Cause: 'arguments' object has no attribute 'posonlyargs'\n",
      "To silence this warning, decorate the function with @tf.autograph.experimental.do_not_convert\n",
      "239/239 [==============================] - ETA: 0s - loss: 0.5749 - accuracy: 0.7131WARNING:tensorflow:AutoGraph could not transform <function Model.make_test_function.<locals>.test_function at 0x7fbfada19c20> and will run it as-is.\n",
      "Please report this to the TensorFlow team. When filing the bug, set the verbosity to 10 (on Linux, `export AUTOGRAPH_VERBOSITY=10`) and attach the full output.\n",
      "Cause: 'arguments' object has no attribute 'posonlyargs'\n",
      "To silence this warning, decorate the function with @tf.autograph.experimental.do_not_convert\n",
      "WARNING: AutoGraph could not transform <function Model.make_test_function.<locals>.test_function at 0x7fbfada19c20> and will run it as-is.\n",
      "Please report this to the TensorFlow team. When filing the bug, set the verbosity to 10 (on Linux, `export AUTOGRAPH_VERBOSITY=10`) and attach the full output.\n",
      "Cause: 'arguments' object has no attribute 'posonlyargs'\n",
      "To silence this warning, decorate the function with @tf.autograph.experimental.do_not_convert\n",
      "239/239 [==============================] - 6s 11ms/step - loss: 0.5749 - accuracy: 0.7131 - val_loss: 0.4561 - val_accuracy: 0.8297\n",
      "Epoch 2/100\n",
      "239/239 [==============================] - 3s 14ms/step - loss: 0.4138 - accuracy: 0.8365 - val_loss: 0.3785 - val_accuracy: 0.8467\n",
      "Epoch 3/100\n",
      "239/239 [==============================] - 4s 16ms/step - loss: 0.3577 - accuracy: 0.8505 - val_loss: 0.3457 - val_accuracy: 0.8507\n",
      "Epoch 4/100\n",
      "239/239 [==============================] - 3s 14ms/step - loss: 0.3332 - accuracy: 0.8501 - val_loss: 0.3260 - val_accuracy: 0.8503\n",
      "Epoch 5/100\n",
      "239/239 [==============================] - 2s 9ms/step - loss: 0.3142 - accuracy: 0.8526 - val_loss: 0.3131 - val_accuracy: 0.8593\n",
      "Epoch 6/100\n",
      "239/239 [==============================] - 2s 9ms/step - loss: 0.3003 - accuracy: 0.8583 - val_loss: 0.3086 - val_accuracy: 0.8440\n",
      "Epoch 7/100\n",
      "239/239 [==============================] - 2s 9ms/step - loss: 0.2868 - accuracy: 0.8627 - val_loss: 0.2874 - val_accuracy: 0.8683\n",
      "Epoch 8/100\n",
      "239/239 [==============================] - 2s 9ms/step - loss: 0.2745 - accuracy: 0.8698 - val_loss: 0.2719 - val_accuracy: 0.8703\n",
      "Epoch 9/100\n",
      "239/239 [==============================] - 2s 9ms/step - loss: 0.2591 - accuracy: 0.8807 - val_loss: 0.2680 - val_accuracy: 0.8927\n",
      "Epoch 10/100\n",
      "239/239 [==============================] - 3s 11ms/step - loss: 0.2399 - accuracy: 0.8910 - val_loss: 0.2380 - val_accuracy: 0.9007\n",
      "Epoch 11/100\n",
      "239/239 [==============================] - 2s 9ms/step - loss: 0.2256 - accuracy: 0.8985 - val_loss: 0.2308 - val_accuracy: 0.8973\n",
      "Epoch 12/100\n",
      "239/239 [==============================] - 2s 8ms/step - loss: 0.2174 - accuracy: 0.9059 - val_loss: 0.2171 - val_accuracy: 0.9043\n",
      "Epoch 13/100\n",
      "239/239 [==============================] - 2s 9ms/step - loss: 0.2074 - accuracy: 0.9077 - val_loss: 0.2109 - val_accuracy: 0.9097\n",
      "Epoch 14/100\n",
      "239/239 [==============================] - 2s 9ms/step - loss: 0.2018 - accuracy: 0.9140 - val_loss: 0.2115 - val_accuracy: 0.9077\n",
      "Epoch 15/100\n",
      "239/239 [==============================] - 2s 9ms/step - loss: 0.2027 - accuracy: 0.9120 - val_loss: 0.2004 - val_accuracy: 0.9057\n",
      "Epoch 16/100\n",
      "239/239 [==============================] - 2s 10ms/step - loss: 0.1920 - accuracy: 0.9205 - val_loss: 0.2124 - val_accuracy: 0.9110\n",
      "Epoch 17/100\n",
      "239/239 [==============================] - 2s 9ms/step - loss: 0.1863 - accuracy: 0.9236 - val_loss: 0.1975 - val_accuracy: 0.9177\n",
      "Epoch 18/100\n",
      "239/239 [==============================] - 2s 8ms/step - loss: 0.1740 - accuracy: 0.9293 - val_loss: 0.1845 - val_accuracy: 0.9220\n",
      "Epoch 19/100\n",
      "239/239 [==============================] - 2s 9ms/step - loss: 0.1709 - accuracy: 0.9306 - val_loss: 0.1816 - val_accuracy: 0.9237\n",
      "Epoch 20/100\n",
      "239/239 [==============================] - 2s 9ms/step - loss: 0.1673 - accuracy: 0.9293 - val_loss: 0.1890 - val_accuracy: 0.9137\n",
      "Epoch 21/100\n",
      "239/239 [==============================] - 2s 10ms/step - loss: 0.1639 - accuracy: 0.9313 - val_loss: 0.1910 - val_accuracy: 0.9143\n",
      "Epoch 22/100\n",
      "239/239 [==============================] - 2s 9ms/step - loss: 0.1569 - accuracy: 0.9358 - val_loss: 0.1754 - val_accuracy: 0.9190\n",
      "Epoch 23/100\n",
      "239/239 [==============================] - 2s 9ms/step - loss: 0.1623 - accuracy: 0.9323 - val_loss: 0.1668 - val_accuracy: 0.9243\n",
      "Epoch 24/100\n",
      "239/239 [==============================] - 2s 9ms/step - loss: 0.1563 - accuracy: 0.9347 - val_loss: 0.1726 - val_accuracy: 0.9273\n",
      "Epoch 25/100\n",
      "239/239 [==============================] - 3s 12ms/step - loss: 0.1477 - accuracy: 0.9403 - val_loss: 0.1682 - val_accuracy: 0.9327\n",
      "Epoch 26/100\n",
      "239/239 [==============================] - 3s 12ms/step - loss: 0.1424 - accuracy: 0.9406 - val_loss: 0.1576 - val_accuracy: 0.9313\n",
      "Epoch 27/100\n",
      "239/239 [==============================] - 3s 11ms/step - loss: 0.1505 - accuracy: 0.9397 - val_loss: 0.1965 - val_accuracy: 0.9193\n",
      "Epoch 28/100\n",
      "239/239 [==============================] - 3s 12ms/step - loss: 0.1448 - accuracy: 0.9403 - val_loss: 0.1520 - val_accuracy: 0.9360\n",
      "Epoch 29/100\n",
      "239/239 [==============================] - 3s 12ms/step - loss: 0.1693 - accuracy: 0.9301 - val_loss: 0.2544 - val_accuracy: 0.9137\n",
      "Epoch 30/100\n",
      "239/239 [==============================] - 2s 9ms/step - loss: 0.1676 - accuracy: 0.9358 - val_loss: 0.1700 - val_accuracy: 0.9293\n",
      "Epoch 31/100\n",
      "239/239 [==============================] - 3s 11ms/step - loss: 0.1430 - accuracy: 0.9427 - val_loss: 0.1548 - val_accuracy: 0.9287\n",
      "Epoch 32/100\n",
      "239/239 [==============================] - 2s 10ms/step - loss: 0.1440 - accuracy: 0.9398 - val_loss: 0.1475 - val_accuracy: 0.9317\n",
      "Epoch 33/100\n",
      "239/239 [==============================] - 3s 10ms/step - loss: 0.1352 - accuracy: 0.9461 - val_loss: 0.1545 - val_accuracy: 0.9293\n",
      "Epoch 34/100\n",
      "239/239 [==============================] - 2s 9ms/step - loss: 0.1352 - accuracy: 0.9440 - val_loss: 0.1506 - val_accuracy: 0.9397\n",
      "Epoch 35/100\n",
      "239/239 [==============================] - 2s 9ms/step - loss: 0.1377 - accuracy: 0.9428 - val_loss: 0.1649 - val_accuracy: 0.9370\n",
      "Epoch 36/100\n",
      "239/239 [==============================] - 2s 9ms/step - loss: 0.1444 - accuracy: 0.9397 - val_loss: 0.1444 - val_accuracy: 0.9400\n",
      "Epoch 37/100\n",
      "239/239 [==============================] - 2s 10ms/step - loss: 0.1308 - accuracy: 0.9468 - val_loss: 0.1526 - val_accuracy: 0.9350\n",
      "Epoch 38/100\n",
      "239/239 [==============================] - 2s 10ms/step - loss: 0.1241 - accuracy: 0.9502 - val_loss: 0.1790 - val_accuracy: 0.9293\n",
      "Epoch 39/100\n",
      "239/239 [==============================] - 2s 10ms/step - loss: 0.1274 - accuracy: 0.9493 - val_loss: 0.1418 - val_accuracy: 0.9427\n",
      "Epoch 40/100\n",
      "239/239 [==============================] - 2s 9ms/step - loss: 0.1235 - accuracy: 0.9504 - val_loss: 0.1338 - val_accuracy: 0.9417\n",
      "Epoch 41/100\n",
      "239/239 [==============================] - 2s 9ms/step - loss: 0.1206 - accuracy: 0.9506 - val_loss: 0.1387 - val_accuracy: 0.9420\n",
      "Epoch 42/100\n",
      "239/239 [==============================] - 2s 9ms/step - loss: 0.1237 - accuracy: 0.9493 - val_loss: 0.1418 - val_accuracy: 0.9403\n",
      "Epoch 43/100\n",
      "239/239 [==============================] - 2s 10ms/step - loss: 0.1169 - accuracy: 0.9538 - val_loss: 0.1367 - val_accuracy: 0.9413\n",
      "Epoch 44/100\n",
      "239/239 [==============================] - 3s 11ms/step - loss: 0.1142 - accuracy: 0.9538 - val_loss: 0.1309 - val_accuracy: 0.9477\n",
      "Epoch 45/100\n",
      "239/239 [==============================] - 2s 10ms/step - loss: 0.1166 - accuracy: 0.9498 - val_loss: 0.1295 - val_accuracy: 0.9453\n",
      "Epoch 46/100\n",
      "239/239 [==============================] - 2s 9ms/step - loss: 0.1156 - accuracy: 0.9508 - val_loss: 0.1279 - val_accuracy: 0.9453\n",
      "Epoch 47/100\n",
      "239/239 [==============================] - 2s 9ms/step - loss: 0.1107 - accuracy: 0.9537 - val_loss: 0.1266 - val_accuracy: 0.9480\n",
      "Epoch 48/100\n",
      "239/239 [==============================] - 2s 9ms/step - loss: 0.1112 - accuracy: 0.9549 - val_loss: 0.1391 - val_accuracy: 0.9430\n",
      "Epoch 49/100\n",
      "239/239 [==============================] - 2s 9ms/step - loss: 0.1092 - accuracy: 0.9540 - val_loss: 0.1392 - val_accuracy: 0.9453\n",
      "Epoch 50/100\n",
      "239/239 [==============================] - 2s 9ms/step - loss: 0.1067 - accuracy: 0.9565 - val_loss: 0.1272 - val_accuracy: 0.9470\n",
      "Epoch 51/100\n",
      "239/239 [==============================] - 2s 9ms/step - loss: 0.1094 - accuracy: 0.9563 - val_loss: 0.1289 - val_accuracy: 0.9507\n",
      "Epoch 52/100\n",
      "239/239 [==============================] - 2s 10ms/step - loss: 0.1061 - accuracy: 0.9562 - val_loss: 0.1310 - val_accuracy: 0.9487\n",
      "Epoch 53/100\n",
      "239/239 [==============================] - 2s 9ms/step - loss: 0.1029 - accuracy: 0.9603 - val_loss: 0.1237 - val_accuracy: 0.9510\n",
      "Epoch 54/100\n",
      "239/239 [==============================] - 2s 10ms/step - loss: 0.1066 - accuracy: 0.9570 - val_loss: 0.1310 - val_accuracy: 0.9470\n",
      "Epoch 55/100\n",
      "239/239 [==============================] - 2s 9ms/step - loss: 0.1005 - accuracy: 0.9577 - val_loss: 0.1206 - val_accuracy: 0.9523\n",
      "Epoch 56/100\n",
      "239/239 [==============================] - 2s 10ms/step - loss: 0.0978 - accuracy: 0.9616 - val_loss: 0.1142 - val_accuracy: 0.9513\n",
      "Epoch 57/100\n",
      "239/239 [==============================] - 2s 10ms/step - loss: 0.0997 - accuracy: 0.9584 - val_loss: 0.1208 - val_accuracy: 0.9437\n",
      "Epoch 58/100\n",
      "239/239 [==============================] - 3s 12ms/step - loss: 0.0970 - accuracy: 0.9596 - val_loss: 0.1323 - val_accuracy: 0.9477\n",
      "Epoch 59/100\n",
      "239/239 [==============================] - 2s 10ms/step - loss: 0.0976 - accuracy: 0.9597 - val_loss: 0.1225 - val_accuracy: 0.9490\n",
      "Epoch 60/100\n",
      "239/239 [==============================] - 2s 10ms/step - loss: 0.0954 - accuracy: 0.9617 - val_loss: 0.1244 - val_accuracy: 0.9507\n",
      "Epoch 61/100\n",
      "239/239 [==============================] - 3s 14ms/step - loss: 0.0935 - accuracy: 0.9600 - val_loss: 0.1064 - val_accuracy: 0.9523\n",
      "Epoch 62/100\n",
      "239/239 [==============================] - 3s 12ms/step - loss: 0.0937 - accuracy: 0.9605 - val_loss: 0.1060 - val_accuracy: 0.9507\n",
      "Epoch 63/100\n",
      "239/239 [==============================] - 2s 10ms/step - loss: 0.0910 - accuracy: 0.9624 - val_loss: 0.1183 - val_accuracy: 0.9537\n",
      "Epoch 64/100\n",
      "239/239 [==============================] - 2s 9ms/step - loss: 0.0910 - accuracy: 0.9615 - val_loss: 0.1048 - val_accuracy: 0.9557\n",
      "Epoch 65/100\n",
      "239/239 [==============================] - 3s 11ms/step - loss: 0.0896 - accuracy: 0.9643 - val_loss: 0.1084 - val_accuracy: 0.9563\n",
      "Epoch 66/100\n",
      "239/239 [==============================] - 2s 9ms/step - loss: 0.0946 - accuracy: 0.9605 - val_loss: 0.1058 - val_accuracy: 0.9527\n",
      "Epoch 67/100\n",
      "239/239 [==============================] - 2s 10ms/step - loss: 0.0880 - accuracy: 0.9630 - val_loss: 0.0986 - val_accuracy: 0.9567\n",
      "Epoch 68/100\n",
      "239/239 [==============================] - 2s 10ms/step - loss: 0.0896 - accuracy: 0.9636 - val_loss: 0.1023 - val_accuracy: 0.9583\n",
      "Epoch 69/100\n",
      "239/239 [==============================] - 3s 12ms/step - loss: 0.0918 - accuracy: 0.9626 - val_loss: 0.1233 - val_accuracy: 0.9517\n",
      "Epoch 70/100\n",
      "239/239 [==============================] - 3s 13ms/step - loss: 0.0899 - accuracy: 0.9620 - val_loss: 0.1011 - val_accuracy: 0.9603\n",
      "Epoch 71/100\n",
      "239/239 [==============================] - 2s 10ms/step - loss: 0.0855 - accuracy: 0.9659 - val_loss: 0.0960 - val_accuracy: 0.9583\n",
      "Epoch 72/100\n",
      "239/239 [==============================] - 2s 9ms/step - loss: 0.0859 - accuracy: 0.9656 - val_loss: 0.0978 - val_accuracy: 0.9580\n",
      "Epoch 73/100\n",
      "239/239 [==============================] - 2s 9ms/step - loss: 0.0836 - accuracy: 0.9668 - val_loss: 0.1018 - val_accuracy: 0.9607\n",
      "Epoch 74/100\n",
      "239/239 [==============================] - 3s 11ms/step - loss: 0.0865 - accuracy: 0.9664 - val_loss: 0.1005 - val_accuracy: 0.9560\n",
      "Epoch 75/100\n",
      "239/239 [==============================] - 3s 12ms/step - loss: 0.1050 - accuracy: 0.9586 - val_loss: 0.0985 - val_accuracy: 0.9583\n",
      "Epoch 76/100\n",
      "239/239 [==============================] - 2s 10ms/step - loss: 0.0831 - accuracy: 0.9656 - val_loss: 0.0954 - val_accuracy: 0.9600\n",
      "Epoch 77/100\n",
      "239/239 [==============================] - 2s 10ms/step - loss: 0.0793 - accuracy: 0.9689 - val_loss: 0.0978 - val_accuracy: 0.9597\n",
      "Epoch 78/100\n",
      "239/239 [==============================] - 2s 10ms/step - loss: 0.0822 - accuracy: 0.9691 - val_loss: 0.1065 - val_accuracy: 0.9540\n",
      "Epoch 79/100\n",
      "239/239 [==============================] - 2s 10ms/step - loss: 0.0778 - accuracy: 0.9696 - val_loss: 0.0952 - val_accuracy: 0.9580\n",
      "Epoch 80/100\n",
      "239/239 [==============================] - 2s 10ms/step - loss: 0.0807 - accuracy: 0.9683 - val_loss: 0.0982 - val_accuracy: 0.9623\n",
      "Epoch 81/100\n",
      "239/239 [==============================] - 2s 10ms/step - loss: 0.0836 - accuracy: 0.9668 - val_loss: 0.0980 - val_accuracy: 0.9600\n",
      "Epoch 82/100\n",
      "239/239 [==============================] - 2s 10ms/step - loss: 0.0782 - accuracy: 0.9705 - val_loss: 0.0894 - val_accuracy: 0.9683\n",
      "Epoch 83/100\n",
      "239/239 [==============================] - 3s 11ms/step - loss: 0.0764 - accuracy: 0.9689 - val_loss: 0.1154 - val_accuracy: 0.9523\n",
      "Epoch 84/100\n",
      "239/239 [==============================] - 2s 10ms/step - loss: 0.0734 - accuracy: 0.9722 - val_loss: 0.1051 - val_accuracy: 0.9550\n",
      "Epoch 85/100\n",
      "239/239 [==============================] - 2s 10ms/step - loss: 0.0758 - accuracy: 0.9704 - val_loss: 0.1041 - val_accuracy: 0.9570\n",
      "Epoch 86/100\n",
      "239/239 [==============================] - 2s 10ms/step - loss: 0.0724 - accuracy: 0.9710 - val_loss: 0.1039 - val_accuracy: 0.9570\n",
      "Epoch 87/100\n",
      "239/239 [==============================] - 2s 10ms/step - loss: 0.0755 - accuracy: 0.9714 - val_loss: 0.0913 - val_accuracy: 0.9603\n",
      "Epoch 88/100\n",
      "239/239 [==============================] - 2s 10ms/step - loss: 0.0740 - accuracy: 0.9723 - val_loss: 0.0952 - val_accuracy: 0.9610\n",
      "Epoch 89/100\n",
      "239/239 [==============================] - 3s 11ms/step - loss: 0.0739 - accuracy: 0.9710 - val_loss: 0.0917 - val_accuracy: 0.9647\n",
      "Epoch 90/100\n",
      "239/239 [==============================] - 2s 9ms/step - loss: 0.0733 - accuracy: 0.9715 - val_loss: 0.0883 - val_accuracy: 0.9650\n",
      "Epoch 91/100\n",
      "239/239 [==============================] - 2s 10ms/step - loss: 0.0700 - accuracy: 0.9731 - val_loss: 0.0905 - val_accuracy: 0.9603\n",
      "Epoch 92/100\n",
      "239/239 [==============================] - 2s 9ms/step - loss: 0.0732 - accuracy: 0.9719 - val_loss: 0.0871 - val_accuracy: 0.9683\n",
      "Epoch 93/100\n",
      "239/239 [==============================] - 2s 9ms/step - loss: 0.0695 - accuracy: 0.9735 - val_loss: 0.0829 - val_accuracy: 0.9673\n",
      "Epoch 94/100\n",
      "239/239 [==============================] - 2s 10ms/step - loss: 0.0697 - accuracy: 0.9738 - val_loss: 0.0941 - val_accuracy: 0.9620\n",
      "Epoch 95/100\n",
      "239/239 [==============================] - 2s 9ms/step - loss: 0.0672 - accuracy: 0.9730 - val_loss: 0.0912 - val_accuracy: 0.9627\n",
      "Epoch 96/100\n",
      "239/239 [==============================] - 2s 9ms/step - loss: 0.0680 - accuracy: 0.9725 - val_loss: 0.0856 - val_accuracy: 0.9680\n",
      "Epoch 97/100\n",
      "239/239 [==============================] - 2s 9ms/step - loss: 0.0726 - accuracy: 0.9713 - val_loss: 0.0850 - val_accuracy: 0.9663\n",
      "Epoch 98/100\n",
      "239/239 [==============================] - 2s 8ms/step - loss: 0.0650 - accuracy: 0.9744 - val_loss: 0.0914 - val_accuracy: 0.9600\n",
      "Epoch 99/100\n",
      "239/239 [==============================] - 2s 8ms/step - loss: 0.0643 - accuracy: 0.9750 - val_loss: 0.1152 - val_accuracy: 0.9570\n",
      "Epoch 100/100\n",
      "239/239 [==============================] - 2s 9ms/step - loss: 0.0699 - accuracy: 0.9723 - val_loss: 0.0974 - val_accuracy: 0.9613\n"
     ]
    }
   ],
   "source": [
    "r = model.fit(\n",
    "    Xtrain,\n",
    "    Ytrain,\n",
    "    epochs=100,\n",
    "    callbacks=[check_point],\n",
    "    validation_data=(Xtest, Ytest)\n",
    ")"
   ],
   "metadata": {
    "collapsed": false,
    "pycharm": {
     "name": "#%%\n"
    }
   }
  },
  {
   "cell_type": "code",
   "execution_count": 90,
   "outputs": [
    {
     "data": {
      "text/plain": "<Figure size 432x288 with 1 Axes>",
      "image/png": "[encoded data removed]"
     },
     "metadata": {
      "needs_background": "light"
     },
     "output_type": "display_data"
    }
   ],
   "source": [
    "plt.plot(r.history['loss'], label='train loss')\n",
    "plt.plot(r.history['val_loss'], label='test loss')\n",
    "plt.legend();"
   ],
   "metadata": {
    "collapsed": false,
    "pycharm": {
     "name": "#%%\n"
    }
   }
  },
  {
   "cell_type": "code",
   "execution_count": 91,
   "outputs": [
    {
     "data": {
      "text/plain": "<Figure size 432x288 with 1 Axes>",
      "image/png": "[encoded data removed]"
     },
     "metadata": {
      "needs_background": "light"
     },
     "output_type": "display_data"
    }
   ],
   "source": [
    "plt.plot(r.history['accuracy'], label='train acc')\n",
    "plt.plot(r.history['val_accuracy'], label='test acc')\n",
    "plt.legend();"
   ],
   "metadata": {
    "collapsed": false,
    "pycharm": {
     "name": "#%%\n"
    }
   }
  },
  {
   "cell_type": "code",
   "execution_count": 92,
   "outputs": [],
   "source": [
    "# load best model\n",
    "best_model = tf.keras.models.load_model('best_model.h5')"
   ],
   "metadata": {
    "collapsed": false,
    "pycharm": {
     "name": "#%%\n"
    }
   }
  },
  {
   "cell_type": "code",
   "execution_count": 93,
   "outputs": [
    {
     "name": "stdout",
     "output_type": "stream",
     "text": [
      "WARNING:tensorflow:AutoGraph could not transform <function Model.make_predict_function.<locals>.predict_function at 0x7fbfaed3e8c0> and will run it as-is.\n",
      "Please report this to the TensorFlow team. When filing the bug, set the verbosity to 10 (on Linux, `export AUTOGRAPH_VERBOSITY=10`) and attach the full output.\n",
      "Cause: 'arguments' object has no attribute 'posonlyargs'\n",
      "To silence this warning, decorate the function with @tf.autograph.experimental.do_not_convert\n",
      "WARNING: AutoGraph could not transform <function Model.make_predict_function.<locals>.predict_function at 0x7fbfaed3e8c0> and will run it as-is.\n",
      "Please report this to the TensorFlow team. When filing the bug, set the verbosity to 10 (on Linux, `export AUTOGRAPH_VERBOSITY=10`) and attach the full output.\n",
      "Cause: 'arguments' object has no attribute 'posonlyargs'\n",
      "To silence this warning, decorate the function with @tf.autograph.experimental.do_not_convert\n",
      "94/94 [==============================] - 1s 3ms/step\n"
     ]
    }
   ],
   "source": [
    "# make predictions\n",
    "Ptest = best_model.predict(Xtest)"
   ],
   "metadata": {
    "collapsed": false,
    "pycharm": {
     "name": "#%%\n"
    }
   }
  },
  {
   "cell_type": "code",
   "execution_count": 94,
   "outputs": [
    {
     "data": {
      "text/plain": "array([[-1.3593544,  0.676535 ],\n       [ 6.4341555, -6.230569 ],\n       [ 1.686124 , -2.9982786],\n       ...,\n       [-4.6873317,  3.1254525],\n       [-1.659481 , -0.3283648],\n       [-7.1753917,  5.3675294]], dtype=float32)"
     },
     "execution_count": 94,
     "metadata": {},
     "output_type": "execute_result"
    }
   ],
   "source": [
    "Ptest"
   ],
   "metadata": {
    "collapsed": false,
    "pycharm": {
     "name": "#%%\n"
    }
   }
  },
  {
   "cell_type": "code",
   "execution_count": 95,
   "outputs": [
    {
     "data": {
      "text/plain": "array([1, 0, 0, ..., 1, 1, 1])"
     },
     "execution_count": 95,
     "metadata": {},
     "output_type": "execute_result"
    }
   ],
   "source": [
    "np.argmax(Ptest, axis=1)"
   ],
   "metadata": {
    "collapsed": false,
    "pycharm": {
     "name": "#%%\n"
    }
   }
  },
  {
   "cell_type": "code",
   "execution_count": 96,
   "outputs": [
    {
     "data": {
      "text/plain": "0.9673333333333334"
     },
     "execution_count": 96,
     "metadata": {},
     "output_type": "execute_result"
    }
   ],
   "source": [
    "# evaluate\n",
    "np.mean(np.argmax(Ptest, axis=1) == Ytest)"
   ],
   "metadata": {
    "collapsed": false,
    "pycharm": {
     "name": "#%%\n"
    }
   }
  },
  {
   "cell_type": "code",
   "execution_count": 97,
   "outputs": [
    {
     "data": {
      "text/plain": "array([1, 0, 0, ..., 1, 1, 1])"
     },
     "execution_count": 97,
     "metadata": {},
     "output_type": "execute_result"
    }
   ],
   "source": [
    "Ytest"
   ],
   "metadata": {
    "collapsed": false,
    "pycharm": {
     "name": "#%%\n"
    }
   }
  },
  {
   "cell_type": "code",
   "execution_count": 98,
   "outputs": [
    {
     "data": {
      "text/plain": "array([1, 0, 0, ..., 1, 1, 1])"
     },
     "execution_count": 98,
     "metadata": {},
     "output_type": "execute_result"
    }
   ],
   "source": [
    "np.argmax(Ptest, axis=1)"
   ],
   "metadata": {
    "collapsed": false,
    "pycharm": {
     "name": "#%%\n"
    }
   }
  },
  {
   "cell_type": "code",
   "execution_count": 99,
   "outputs": [
    {
     "name": "stdout",
     "output_type": "stream",
     "text": [
      "Accuracy: 0.9673333333333334\n",
      "Confusion Matrix\n",
      "[[1744   32]\n",
      " [  66 1158]]\n",
      "Classification Report\n",
      "              precision    recall  f1-score   support\n",
      "\n",
      "           0       0.96      0.98      0.97      1776\n",
      "           1       0.97      0.95      0.96      1224\n",
      "\n",
      "    accuracy                           0.97      3000\n",
      "   macro avg       0.97      0.96      0.97      3000\n",
      "weighted avg       0.97      0.97      0.97      3000\n",
      "\n"
     ]
    }
   ],
   "source": [
    "# Print results:\n",
    "from sklearn.metrics import classification_report, confusion_matrix, accuracy_score\n",
    "print(f'Accuracy: {accuracy_score(Ytest, np.argmax(Ptest, axis=1))}')\n",
    "print('Confusion Matrix')\n",
    "print(confusion_matrix(Ytest, np.argmax(Ptest, axis=1)))\n",
    "print('Classification Report')\n",
    "print(classification_report(Ytest, np.argmax(Ptest, axis=1)))"
   ],
   "metadata": {
    "collapsed": false,
    "pycharm": {
     "name": "#%%\n"
    }
   }
  },
  {
   "cell_type": "code",
   "execution_count": 100,
   "outputs": [],
   "source": [
    "w_start_eval, w_end_eval = 231, 261"
   ],
   "metadata": {
    "collapsed": false,
    "pycharm": {
     "name": "#%%\n"
    }
   }
  },
  {
   "cell_type": "code",
   "execution_count": 101,
   "outputs": [],
   "source": [
    "df['eval_sequence'] = df['n_tasks'].apply(lambda x: [item for item in x][w_start_eval:w_end_eval])\n",
    "df['eval_labels'] = df['n_tasks'].apply(lambda x: [1 if item>0 else 0 for item in x][w_end_eval])"
   ],
   "metadata": {
    "collapsed": false,
    "pycharm": {
     "name": "#%%\n"
    }
   }
  },
  {
   "cell_type": "code",
   "execution_count": 102,
   "outputs": [],
   "source": [
    "eval_sequences = np.array(list(df['eval_sequence'].values))\n",
    "eval_labels = np.array(list(df['eval_labels'].values))"
   ],
   "metadata": {
    "collapsed": false,
    "pycharm": {
     "name": "#%%\n"
    }
   }
  },
  {
   "cell_type": "code",
   "execution_count": 103,
   "outputs": [],
   "source": [
    "new_eval_sequences = []\n",
    "new_eval_labels = []\n",
    "for idx,sequence in enumerate(eval_sequences):\n",
    "    number_of_accesses = sum(sequence)\n",
    "    # skip not popular datasets\n",
    "    if number_of_accesses > 30:\n",
    "        new_eval_sequences.append(sequence)\n",
    "        new_eval_labels.append(eval_labels[idx])"
   ],
   "metadata": {
    "collapsed": false,
    "pycharm": {
     "name": "#%%\n"
    }
   }
  },
  {
   "cell_type": "code",
   "execution_count": 104,
   "outputs": [],
   "source": [
    "new_eval_sequences = np.array(new_eval_sequences)\n",
    "new_eval_sequences = new_eval_sequences.reshape((new_eval_sequences.shape[0], new_eval_sequences.shape[1], 1))"
   ],
   "metadata": {
    "collapsed": false,
    "pycharm": {
     "name": "#%%\n"
    }
   }
  },
  {
   "cell_type": "code",
   "execution_count": 105,
   "outputs": [
    {
     "data": {
      "text/plain": "(10554, 30, 1)"
     },
     "execution_count": 105,
     "metadata": {},
     "output_type": "execute_result"
    }
   ],
   "source": [
    "new_eval_sequences.shape"
   ],
   "metadata": {
    "collapsed": false,
    "pycharm": {
     "name": "#%%\n"
    }
   }
  },
  {
   "cell_type": "code",
   "execution_count": 110,
   "outputs": [],
   "source": [
    "new_eval_labels = np.array(new_eval_labels)"
   ],
   "metadata": {
    "collapsed": false,
    "pycharm": {
     "name": "#%%\n"
    }
   }
  },
  {
   "cell_type": "code",
   "execution_count": 111,
   "outputs": [
    {
     "name": "stdout",
     "output_type": "stream",
     "text": [
      "330/330 [==============================] - 1s 3ms/step\n"
     ]
    }
   ],
   "source": [
    "pred_y_eval = best_model.predict(new_eval_sequences)"
   ],
   "metadata": {
    "collapsed": false,
    "pycharm": {
     "name": "#%%\n"
    }
   }
  },
  {
   "cell_type": "code",
   "execution_count": 112,
   "outputs": [
    {
     "data": {
      "text/plain": "0.8146674246731097"
     },
     "execution_count": 112,
     "metadata": {},
     "output_type": "execute_result"
    }
   ],
   "source": [
    "# evaluate\n",
    "np.mean(np.argmax(pred_y_eval, axis=1) == new_eval_labels)"
   ],
   "metadata": {
    "collapsed": false,
    "pycharm": {
     "name": "#%%\n"
    }
   }
  },
  {
   "cell_type": "code",
   "execution_count": 113,
   "outputs": [
    {
     "name": "stdout",
     "output_type": "stream",
     "text": [
      "Accuracy: 0.8146674246731097\n",
      "Confusion Matrix\n",
      "[[5360  982]\n",
      " [ 974 3238]]\n",
      "Classification Report\n",
      "              precision    recall  f1-score   support\n",
      "\n",
      "           0       0.85      0.85      0.85      6342\n",
      "           1       0.77      0.77      0.77      4212\n",
      "\n",
      "    accuracy                           0.81     10554\n",
      "   macro avg       0.81      0.81      0.81     10554\n",
      "weighted avg       0.81      0.81      0.81     10554\n",
      "\n"
     ]
    }
   ],
   "source": [
    "print(f'Accuracy: {accuracy_score(new_eval_labels, np.argmax(pred_y_eval, axis=1))}')\n",
    "print('Confusion Matrix')\n",
    "print(confusion_matrix(new_eval_labels, np.argmax(pred_y_eval, axis=1)))\n",
    "print('Classification Report')\n",
    "print(classification_report(new_eval_labels, np.argmax(pred_y_eval, axis=1)))"
   ],
   "metadata": {
    "collapsed": false,
    "pycharm": {
     "name": "#%%\n"
    }
   }
  },
  {
   "cell_type": "code",
   "execution_count": null,
   "outputs": [],
   "source": [],
   "metadata": {
    "collapsed": false,
    "pycharm": {
     "name": "#%%\n"
    }
   }
  }
 ],
 "metadata": {
  "kernelspec": {
   "display_name": "Python 3",
   "language": "python",
   "name": "python3"
  },
  "language_info": {
   "codemirror_mode": {
    "name": "ipython",
    "version": 2
   },
   "file_extension": ".py",
   "mimetype": "text/x-python",
   "name": "python",
   "nbconvert_exporter": "python",
   "pygments_lexer": "ipython2",
   "version": "2.7.6"
  }
 },
 "nbformat": 4,
 "nbformat_minor": 0
}