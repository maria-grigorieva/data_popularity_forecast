{
 "cells": [
  {
   "cell_type": "code",
   "execution_count": 398,
   "outputs": [],
   "source": [
    "import matplotlib.pyplot as plt\n",
    "import pandas as pd\n",
    "import numpy as np\n",
    "from sklearn.ensemble import RandomForestClassifier\n",
    "import pprint\n",
    "import tensorflow as tf\n",
    "from tensorflow.keras.layers import Dense, Input, GlobalMaxPooling1D\n",
    "from tensorflow.keras.layers import LSTM, Concatenate\n",
    "from tensorflow.keras.models import Model\n",
    "from tensorflow.keras.losses import SparseCategoricalCrossentropy\n",
    "from tensorflow.keras.callbacks import ModelCheckpoint\n",
    "\n",
    "np.random.seed(0)\n",
    "tf.random.set_seed(0)"
   ],
   "metadata": {
    "collapsed": false,
    "pycharm": {
     "name": "#%%\n"
    }
   }
  },
  {
   "cell_type": "code",
   "execution_count": 453,
   "outputs": [],
   "source": [
    "df = pd.read_csv('../../dataset_samples/daod_mc16_13TeV_sequences.csv')"
   ],
   "metadata": {
    "collapsed": false,
    "pycharm": {
     "name": "#%%\n"
    }
   }
  },
  {
   "cell_type": "code",
   "execution_count": 454,
   "outputs": [],
   "source": [
    "df = df.reindex(np.random.permutation(df.index))"
   ],
   "metadata": {
    "collapsed": false,
    "pycharm": {
     "name": "#%%\n"
    }
   }
  },
  {
   "cell_type": "code",
   "execution_count": 455,
   "outputs": [],
   "source": [
    "df['n_tasks'] = df['n_tasks'].apply(lambda x: [int(item) for item in x[1:-1].split(',')])"
   ],
   "metadata": {
    "collapsed": false,
    "pycharm": {
     "name": "#%%\n"
    }
   }
  },
  {
   "cell_type": "code",
   "execution_count": 509,
   "outputs": [],
   "source": [
    "w_start, w_end = 230, 260"
   ],
   "metadata": {
    "collapsed": false,
    "pycharm": {
     "name": "#%%\n"
    }
   }
  },
  {
   "cell_type": "code",
   "execution_count": 510,
   "outputs": [],
   "source": [
    "train_sequence = df['n_tasks'].apply(lambda x: [item for item in x][w_start:w_end])\n",
    "train_labels = df['n_tasks'].apply(lambda x: [1 if item>0 else 0 for item in x][w_end])"
   ],
   "metadata": {
    "collapsed": false,
    "pycharm": {
     "name": "#%%\n"
    }
   }
  },
  {
   "cell_type": "code",
   "execution_count": 511,
   "outputs": [],
   "source": [
    "sequences = np.array(list(train_sequence.values))\n",
    "labels = np.array(list(train_labels.values))"
   ],
   "metadata": {
    "collapsed": false,
    "pycharm": {
     "name": "#%%\n"
    }
   }
  },
  {
   "cell_type": "code",
   "execution_count": 512,
   "outputs": [],
   "source": [
    "new_sequences = []\n",
    "new_labels = []\n",
    "for idx,sequence in enumerate(sequences):\n",
    "    number_of_accesses = sum(sequence)\n",
    "    # skip not popular datasets\n",
    "    if number_of_accesses > 10:\n",
    "        new_sequences.append(sequence)\n",
    "        new_labels.append(labels[idx])"
   ],
   "metadata": {
    "collapsed": false,
    "pycharm": {
     "name": "#%%\n"
    }
   }
  },
  {
   "cell_type": "code",
   "execution_count": 513,
   "outputs": [],
   "source": [
    "new_sequences = np.array(new_sequences)"
   ],
   "metadata": {
    "collapsed": false,
    "pycharm": {
     "name": "#%%\n"
    }
   }
  },
  {
   "cell_type": "code",
   "execution_count": 514,
   "outputs": [
    {
     "name": "stdout",
     "output_type": "stream",
     "text": [
      "[[0 0 0 ... 0 0 0]\n",
      " [0 0 0 ... 0 0 0]\n",
      " [0 0 0 ... 0 2 0]\n",
      " ...\n",
      " [1 1 0 ... 0 0 0]\n",
      " [0 0 0 ... 0 0 0]\n",
      " [0 1 0 ... 0 0 0]]\n"
     ]
    }
   ],
   "source": [
    "print(new_sequences)"
   ],
   "metadata": {
    "collapsed": false,
    "pycharm": {
     "name": "#%%\n"
    }
   }
  },
  {
   "cell_type": "code",
   "execution_count": 515,
   "outputs": [
    {
     "data": {
      "text/plain": "(3469, 30)"
     },
     "execution_count": 515,
     "metadata": {},
     "output_type": "execute_result"
    }
   ],
   "source": [
    "new_sequences.shape"
   ],
   "metadata": {
    "collapsed": false,
    "pycharm": {
     "name": "#%%\n"
    }
   }
  },
  {
   "cell_type": "code",
   "execution_count": 516,
   "outputs": [],
   "source": [
    "Y = np.array(new_labels)"
   ],
   "metadata": {
    "collapsed": false,
    "pycharm": {
     "name": "#%%\n"
    }
   }
  },
  {
   "cell_type": "code",
   "execution_count": 517,
   "outputs": [
    {
     "name": "stdout",
     "output_type": "stream",
     "text": [
      "[[[ 0]\n",
      "  [ 0]\n",
      "  [ 0]\n",
      "  [ 0]\n",
      "  [ 0]\n",
      "  [ 0]\n",
      "  [ 0]\n",
      "  [ 0]\n",
      "  [ 0]\n",
      "  [ 0]\n",
      "  [ 0]\n",
      "  [ 0]\n",
      "  [ 0]\n",
      "  [ 0]\n",
      "  [ 0]\n",
      "  [ 0]\n",
      "  [ 0]\n",
      "  [ 0]\n",
      "  [ 0]\n",
      "  [ 0]\n",
      "  [ 0]\n",
      "  [ 0]\n",
      "  [ 1]\n",
      "  [14]\n",
      "  [ 3]\n",
      "  [ 0]\n",
      "  [ 0]\n",
      "  [ 0]\n",
      "  [ 0]\n",
      "  [ 0]]\n",
      "\n",
      " [[ 0]\n",
      "  [ 0]\n",
      "  [ 0]\n",
      "  [ 0]\n",
      "  [ 0]\n",
      "  [ 0]\n",
      "  [ 0]\n",
      "  [ 0]\n",
      "  [ 0]\n",
      "  [ 0]\n",
      "  [ 0]\n",
      "  [ 0]\n",
      "  [ 0]\n",
      "  [ 0]\n",
      "  [ 0]\n",
      "  [ 0]\n",
      "  [ 0]\n",
      "  [ 0]\n",
      "  [ 0]\n",
      "  [ 0]\n",
      "  [ 0]\n",
      "  [ 0]\n",
      "  [ 7]\n",
      "  [10]\n",
      "  [ 3]\n",
      "  [ 0]\n",
      "  [ 0]\n",
      "  [ 0]\n",
      "  [ 0]\n",
      "  [ 0]]]\n"
     ]
    }
   ],
   "source": [
    "n_features = 1\n",
    "X = new_sequences.reshape((new_sequences.shape[0], new_sequences.shape[1], n_features))\n",
    "print(X[:2])"
   ],
   "metadata": {
    "collapsed": false,
    "pycharm": {
     "name": "#%%\n"
    }
   }
  },
  {
   "cell_type": "code",
   "execution_count": 518,
   "outputs": [
    {
     "data": {
      "text/plain": "(3469, 30, 1)"
     },
     "execution_count": 518,
     "metadata": {},
     "output_type": "execute_result"
    }
   ],
   "source": [
    "X.shape"
   ],
   "metadata": {
    "collapsed": false,
    "pycharm": {
     "name": "#%%\n"
    }
   }
  },
  {
   "cell_type": "code",
   "execution_count": 519,
   "outputs": [],
   "source": [
    "Ntest = 300\n",
    "# Nval = 3000\n",
    "\n",
    "Xtrain = X[:-Ntest]\n",
    "Xtest = X[-Ntest:]\n",
    "Ytrain = Y[:-Ntest]\n",
    "Ytest = Y[-Ntest:]\n",
    "# Xval = X[-Nval:]\n",
    "# Yval = Y[-Nval:]\n"
   ],
   "metadata": {
    "collapsed": false,
    "pycharm": {
     "name": "#%%\n"
    }
   }
  },
  {
   "cell_type": "code",
   "execution_count": 520,
   "outputs": [
    {
     "data": {
      "text/plain": "array([0, 0, 0, ..., 0, 0, 0])"
     },
     "execution_count": 520,
     "metadata": {},
     "output_type": "execute_result"
    }
   ],
   "source": [
    "Ytrain"
   ],
   "metadata": {
    "collapsed": false,
    "pycharm": {
     "name": "#%%\n"
    }
   }
  },
  {
   "cell_type": "code",
   "execution_count": 521,
   "outputs": [],
   "source": [
    "# optimal number of units\n",
    "# n_units = Xtrain.shape[0]/(2*())"
   ],
   "metadata": {
    "collapsed": false,
    "pycharm": {
     "name": "#%%\n"
    }
   }
  },
  {
   "cell_type": "code",
   "execution_count": 565,
   "outputs": [],
   "source": [
    "T = 30\n",
    "D = 1\n",
    "K = 2"
   ],
   "metadata": {
    "collapsed": false,
    "pycharm": {
     "name": "#%%\n"
    }
   }
  },
  {
   "cell_type": "code",
   "execution_count": 566,
   "outputs": [],
   "source": [
    "i = Input(shape=(T,D))\n",
    "x = LSTM(16, return_sequences=True)(i)\n",
    "# x = LSTM(16, return_sequences=True)(x)\n",
    "x = GlobalMaxPooling1D()(x)\n",
    "x = Dense(K)(x)\n",
    "model = Model(i, x)"
   ],
   "metadata": {
    "collapsed": false,
    "pycharm": {
     "name": "#%%\n"
    }
   }
  },
  {
   "cell_type": "code",
   "execution_count": 567,
   "outputs": [],
   "source": [
    "# i = Input(shape=(30,1))\n",
    "# x = LSTM(32, return_sequences=True)(i)\n",
    "# x = GlobalMaxPooling1D()(x)\n",
    "# x = Dense(2)(x)\n",
    "# model = Model(i,x)"
   ],
   "metadata": {
    "collapsed": false,
    "pycharm": {
     "name": "#%%\n"
    }
   }
  },
  {
   "cell_type": "code",
   "execution_count": 568,
   "outputs": [
    {
     "name": "stdout",
     "output_type": "stream",
     "text": [
      "Model: \"model_22\"\n",
      "_________________________________________________________________\n",
      " Layer (type)                Output Shape              Param #   \n",
      "=================================================================\n",
      " input_23 (InputLayer)       [(None, 30, 1)]           0         \n",
      "                                                                 \n",
      " lstm_32 (LSTM)              (None, 30, 16)            1152      \n",
      "                                                                 \n",
      " global_max_pooling1d_22 (Gl  (None, 16)               0         \n",
      " obalMaxPooling1D)                                               \n",
      "                                                                 \n",
      " dense_22 (Dense)            (None, 2)                 34        \n",
      "                                                                 \n",
      "=================================================================\n",
      "Total params: 1,186\n",
      "Trainable params: 1,186\n",
      "Non-trainable params: 0\n",
      "_________________________________________________________________\n"
     ]
    }
   ],
   "source": [
    "model.summary()"
   ],
   "metadata": {
    "collapsed": false,
    "pycharm": {
     "name": "#%%\n"
    }
   }
  },
  {
   "cell_type": "code",
   "execution_count": 569,
   "outputs": [
    {
     "data": {
      "image/png": "[encoded data removed]",
      "text/plain": "<IPython.core.display.Image object>"
     },
     "execution_count": 569,
     "metadata": {},
     "output_type": "execute_result"
    }
   ],
   "source": [
    "tf.keras.utils.plot_model(model)"
   ],
   "metadata": {
    "collapsed": false,
    "pycharm": {
     "name": "#%%\n"
    }
   }
  },
  {
   "cell_type": "code",
   "execution_count": 570,
   "outputs": [],
   "source": [
    "check_point = ModelCheckpoint(\n",
    "    'best_model.h5', monitor='val_loss', save_best_only=True\n",
    ")"
   ],
   "metadata": {
    "collapsed": false,
    "pycharm": {
     "name": "#%%\n"
    }
   }
  },
  {
   "cell_type": "code",
   "execution_count": 571,
   "outputs": [
    {
     "data": {
      "text/plain": "<Figure size 432x288 with 1 Axes>",
      "image/png": "[encoded data removed]"
     },
     "metadata": {
      "needs_background": "light"
     },
     "output_type": "display_data"
    }
   ],
   "source": [
    "plt.plot(Xtrain[200, :, :]);"
   ],
   "metadata": {
    "collapsed": false,
    "pycharm": {
     "name": "#%%\n"
    }
   }
  },
  {
   "cell_type": "code",
   "execution_count": 572,
   "outputs": [],
   "source": [
    "model.compile(\n",
    "    loss=SparseCategoricalCrossentropy(from_logits=True),\n",
    "    optimizer='adam',\n",
    "    metrics=['accuracy']\n",
    ")\n",
    "# The from_logits=True attribute inform the loss function that the output values generated by the model are not normalized, a.k.a. logits. In other words, the softmax function has not been applied on them to produce a probability distribution. The softmax function would be automatically applied on the output values by the loss function. Therefore, this does not make a difference with the scenario when you use from_logits=False (default) and a softmax activation function on last layer; however, in some cases, this might help with numerical stability during training of the model."
   ],
   "metadata": {
    "collapsed": false,
    "pycharm": {
     "name": "#%%\n"
    }
   }
  },
  {
   "cell_type": "code",
   "execution_count": 573,
   "outputs": [
    {
     "name": "stdout",
     "output_type": "stream",
     "text": [
      "Epoch 1/100\n",
      "WARNING:tensorflow:AutoGraph could not transform <function Model.make_train_function.<locals>.train_function at 0x7fdb93162dd0> and will run it as-is.\n",
      "Please report this to the TensorFlow team. When filing the bug, set the verbosity to 10 (on Linux, `export AUTOGRAPH_VERBOSITY=10`) and attach the full output.\n",
      "Cause: 'arguments' object has no attribute 'posonlyargs'\n",
      "To silence this warning, decorate the function with @tf.autograph.experimental.do_not_convert\n",
      "WARNING: AutoGraph could not transform <function Model.make_train_function.<locals>.train_function at 0x7fdb93162dd0> and will run it as-is.\n",
      "Please report this to the TensorFlow team. When filing the bug, set the verbosity to 10 (on Linux, `export AUTOGRAPH_VERBOSITY=10`) and attach the full output.\n",
      "Cause: 'arguments' object has no attribute 'posonlyargs'\n",
      "To silence this warning, decorate the function with @tf.autograph.experimental.do_not_convert\n",
      " 99/100 [============================>.] - ETA: 0s - loss: 0.5329 - accuracy: 0.7446WARNING:tensorflow:AutoGraph could not transform <function Model.make_test_function.<locals>.test_function at 0x7fdb8debb7a0> and will run it as-is.\n",
      "Please report this to the TensorFlow team. When filing the bug, set the verbosity to 10 (on Linux, `export AUTOGRAPH_VERBOSITY=10`) and attach the full output.\n",
      "Cause: 'arguments' object has no attribute 'posonlyargs'\n",
      "To silence this warning, decorate the function with @tf.autograph.experimental.do_not_convert\n",
      "WARNING: AutoGraph could not transform <function Model.make_test_function.<locals>.test_function at 0x7fdb8debb7a0> and will run it as-is.\n",
      "Please report this to the TensorFlow team. When filing the bug, set the verbosity to 10 (on Linux, `export AUTOGRAPH_VERBOSITY=10`) and attach the full output.\n",
      "Cause: 'arguments' object has no attribute 'posonlyargs'\n",
      "To silence this warning, decorate the function with @tf.autograph.experimental.do_not_convert\n",
      "100/100 [==============================] - 4s 15ms/step - loss: 0.5328 - accuracy: 0.7447 - val_loss: 0.2709 - val_accuracy: 0.9333\n",
      "Epoch 2/100\n",
      "100/100 [==============================] - 1s 11ms/step - loss: 0.2222 - accuracy: 0.9382 - val_loss: 0.2136 - val_accuracy: 0.9333\n",
      "Epoch 3/100\n",
      "100/100 [==============================] - 1s 10ms/step - loss: 0.2039 - accuracy: 0.9382 - val_loss: 0.2029 - val_accuracy: 0.9333\n",
      "Epoch 4/100\n",
      "100/100 [==============================] - 1s 10ms/step - loss: 0.1970 - accuracy: 0.9382 - val_loss: 0.1940 - val_accuracy: 0.9333\n",
      "Epoch 5/100\n",
      "100/100 [==============================] - 1s 10ms/step - loss: 0.1911 - accuracy: 0.9382 - val_loss: 0.1893 - val_accuracy: 0.9333\n",
      "Epoch 6/100\n",
      "100/100 [==============================] - 1s 9ms/step - loss: 0.1895 - accuracy: 0.9382 - val_loss: 0.1913 - val_accuracy: 0.9333\n",
      "Epoch 7/100\n",
      "100/100 [==============================] - 1s 9ms/step - loss: 0.1844 - accuracy: 0.9382 - val_loss: 0.1780 - val_accuracy: 0.9333\n",
      "Epoch 8/100\n",
      "100/100 [==============================] - 1s 9ms/step - loss: 0.1785 - accuracy: 0.9382 - val_loss: 0.1705 - val_accuracy: 0.9333\n",
      "Epoch 9/100\n",
      "100/100 [==============================] - 1s 9ms/step - loss: 0.1697 - accuracy: 0.9385 - val_loss: 0.1679 - val_accuracy: 0.9333\n",
      "Epoch 10/100\n",
      "100/100 [==============================] - 1s 11ms/step - loss: 0.1740 - accuracy: 0.9388 - val_loss: 0.1664 - val_accuracy: 0.9333\n",
      "Epoch 11/100\n",
      "100/100 [==============================] - 1s 10ms/step - loss: 0.1601 - accuracy: 0.9391 - val_loss: 0.1581 - val_accuracy: 0.9333\n",
      "Epoch 12/100\n",
      "100/100 [==============================] - 1s 10ms/step - loss: 0.1567 - accuracy: 0.9404 - val_loss: 0.1594 - val_accuracy: 0.9300\n",
      "Epoch 13/100\n",
      "100/100 [==============================] - 1s 9ms/step - loss: 0.1535 - accuracy: 0.9413 - val_loss: 0.1581 - val_accuracy: 0.9233\n",
      "Epoch 14/100\n",
      "100/100 [==============================] - 1s 9ms/step - loss: 0.1490 - accuracy: 0.9445 - val_loss: 0.1555 - val_accuracy: 0.9200\n",
      "Epoch 15/100\n",
      "100/100 [==============================] - 1s 9ms/step - loss: 0.1518 - accuracy: 0.9460 - val_loss: 0.1539 - val_accuracy: 0.9333\n",
      "Epoch 16/100\n",
      "100/100 [==============================] - 1s 9ms/step - loss: 0.1466 - accuracy: 0.9445 - val_loss: 0.1597 - val_accuracy: 0.9567\n",
      "Epoch 17/100\n",
      "100/100 [==============================] - 1s 9ms/step - loss: 0.1452 - accuracy: 0.9470 - val_loss: 0.1592 - val_accuracy: 0.9533\n",
      "Epoch 18/100\n",
      "100/100 [==============================] - 1s 10ms/step - loss: 0.1431 - accuracy: 0.9495 - val_loss: 0.1480 - val_accuracy: 0.9300\n",
      "Epoch 19/100\n",
      "100/100 [==============================] - 1s 9ms/step - loss: 0.1439 - accuracy: 0.9473 - val_loss: 0.1539 - val_accuracy: 0.9267\n",
      "Epoch 20/100\n",
      "100/100 [==============================] - 1s 9ms/step - loss: 0.1590 - accuracy: 0.9423 - val_loss: 0.1706 - val_accuracy: 0.9233\n",
      "Epoch 21/100\n",
      "100/100 [==============================] - 1s 9ms/step - loss: 0.1393 - accuracy: 0.9454 - val_loss: 0.1654 - val_accuracy: 0.9300\n",
      "Epoch 22/100\n",
      "100/100 [==============================] - 1s 9ms/step - loss: 0.1348 - accuracy: 0.9486 - val_loss: 0.1451 - val_accuracy: 0.9333\n",
      "Epoch 23/100\n",
      "100/100 [==============================] - 1s 10ms/step - loss: 0.1293 - accuracy: 0.9527 - val_loss: 0.1432 - val_accuracy: 0.9333\n",
      "Epoch 24/100\n",
      "100/100 [==============================] - 1s 10ms/step - loss: 0.1259 - accuracy: 0.9555 - val_loss: 0.1373 - val_accuracy: 0.9367\n",
      "Epoch 25/100\n",
      "100/100 [==============================] - 1s 11ms/step - loss: 0.1340 - accuracy: 0.9441 - val_loss: 0.1363 - val_accuracy: 0.9600\n",
      "Epoch 26/100\n",
      "100/100 [==============================] - 1s 10ms/step - loss: 0.1281 - accuracy: 0.9527 - val_loss: 0.1371 - val_accuracy: 0.9333\n",
      "Epoch 27/100\n",
      "100/100 [==============================] - 1s 11ms/step - loss: 0.1251 - accuracy: 0.9511 - val_loss: 0.1571 - val_accuracy: 0.9300\n",
      "Epoch 28/100\n",
      "100/100 [==============================] - 1s 11ms/step - loss: 0.1222 - accuracy: 0.9549 - val_loss: 0.1304 - val_accuracy: 0.9367\n",
      "Epoch 29/100\n",
      "100/100 [==============================] - 1s 10ms/step - loss: 0.1249 - accuracy: 0.9501 - val_loss: 0.1320 - val_accuracy: 0.9367\n",
      "Epoch 30/100\n",
      "100/100 [==============================] - 2s 16ms/step - loss: 0.1151 - accuracy: 0.9609 - val_loss: 0.1344 - val_accuracy: 0.9567\n",
      "Epoch 31/100\n",
      "100/100 [==============================] - 2s 21ms/step - loss: 0.1187 - accuracy: 0.9568 - val_loss: 0.1317 - val_accuracy: 0.9567\n",
      "Epoch 32/100\n",
      "100/100 [==============================] - 1s 14ms/step - loss: 0.1185 - accuracy: 0.9536 - val_loss: 0.1451 - val_accuracy: 0.9600\n",
      "Epoch 33/100\n",
      "100/100 [==============================] - 1s 12ms/step - loss: 0.1124 - accuracy: 0.9662 - val_loss: 0.1366 - val_accuracy: 0.9633\n",
      "Epoch 34/100\n",
      "100/100 [==============================] - 1s 11ms/step - loss: 0.1083 - accuracy: 0.9662 - val_loss: 0.1332 - val_accuracy: 0.9433\n",
      "Epoch 35/100\n",
      "100/100 [==============================] - 1s 11ms/step - loss: 0.1057 - accuracy: 0.9684 - val_loss: 0.1300 - val_accuracy: 0.9633\n",
      "Epoch 36/100\n",
      "100/100 [==============================] - 1s 11ms/step - loss: 0.1277 - accuracy: 0.9568 - val_loss: 0.1521 - val_accuracy: 0.9333\n",
      "Epoch 37/100\n",
      "100/100 [==============================] - 1s 9ms/step - loss: 0.1209 - accuracy: 0.9542 - val_loss: 0.1319 - val_accuracy: 0.9433\n",
      "Epoch 38/100\n",
      "100/100 [==============================] - 1s 10ms/step - loss: 0.1024 - accuracy: 0.9669 - val_loss: 0.1236 - val_accuracy: 0.9733\n",
      "Epoch 39/100\n",
      "100/100 [==============================] - 1s 9ms/step - loss: 0.0997 - accuracy: 0.9694 - val_loss: 0.1187 - val_accuracy: 0.9733\n",
      "Epoch 40/100\n",
      "100/100 [==============================] - 1s 9ms/step - loss: 0.0961 - accuracy: 0.9703 - val_loss: 0.1277 - val_accuracy: 0.9633\n",
      "Epoch 41/100\n",
      "100/100 [==============================] - 1s 9ms/step - loss: 0.0976 - accuracy: 0.9703 - val_loss: 0.1271 - val_accuracy: 0.9433\n",
      "Epoch 42/100\n",
      "100/100 [==============================] - 1s 10ms/step - loss: 0.0948 - accuracy: 0.9722 - val_loss: 0.1222 - val_accuracy: 0.9600\n",
      "Epoch 43/100\n",
      "100/100 [==============================] - 1s 10ms/step - loss: 0.0922 - accuracy: 0.9754 - val_loss: 0.1242 - val_accuracy: 0.9500\n",
      "Epoch 44/100\n",
      "100/100 [==============================] - 1s 9ms/step - loss: 0.1014 - accuracy: 0.9675 - val_loss: 0.1205 - val_accuracy: 0.9700\n",
      "Epoch 45/100\n",
      "100/100 [==============================] - 1s 14ms/step - loss: 0.0904 - accuracy: 0.9725 - val_loss: 0.1168 - val_accuracy: 0.9700\n",
      "Epoch 46/100\n",
      "100/100 [==============================] - 1s 14ms/step - loss: 0.0946 - accuracy: 0.9710 - val_loss: 0.1120 - val_accuracy: 0.9700\n",
      "Epoch 47/100\n",
      "100/100 [==============================] - 1s 13ms/step - loss: 0.1045 - accuracy: 0.9634 - val_loss: 0.1189 - val_accuracy: 0.9500\n",
      "Epoch 48/100\n",
      "100/100 [==============================] - 2s 16ms/step - loss: 0.0968 - accuracy: 0.9691 - val_loss: 0.1130 - val_accuracy: 0.9633\n",
      "Epoch 49/100\n",
      "100/100 [==============================] - 1s 12ms/step - loss: 0.0888 - accuracy: 0.9735 - val_loss: 0.1080 - val_accuracy: 0.9667\n",
      "Epoch 50/100\n",
      "100/100 [==============================] - 1s 13ms/step - loss: 0.0865 - accuracy: 0.9744 - val_loss: 0.1126 - val_accuracy: 0.9700\n",
      "Epoch 51/100\n",
      "100/100 [==============================] - 1s 13ms/step - loss: 0.0851 - accuracy: 0.9722 - val_loss: 0.1186 - val_accuracy: 0.9533\n",
      "Epoch 52/100\n",
      "100/100 [==============================] - 1s 13ms/step - loss: 0.0818 - accuracy: 0.9760 - val_loss: 0.1077 - val_accuracy: 0.9633\n",
      "Epoch 53/100\n",
      "100/100 [==============================] - 1s 14ms/step - loss: 0.0794 - accuracy: 0.9754 - val_loss: 0.1016 - val_accuracy: 0.9700\n",
      "Epoch 54/100\n",
      "100/100 [==============================] - 1s 14ms/step - loss: 0.0801 - accuracy: 0.9760 - val_loss: 0.0939 - val_accuracy: 0.9700\n",
      "Epoch 55/100\n",
      "100/100 [==============================] - 1s 12ms/step - loss: 0.0789 - accuracy: 0.9770 - val_loss: 0.0987 - val_accuracy: 0.9700\n",
      "Epoch 56/100\n",
      "100/100 [==============================] - 1s 12ms/step - loss: 0.0847 - accuracy: 0.9713 - val_loss: 0.1063 - val_accuracy: 0.9667\n",
      "Epoch 57/100\n",
      "100/100 [==============================] - 2s 15ms/step - loss: 0.0764 - accuracy: 0.9779 - val_loss: 0.1188 - val_accuracy: 0.9500\n",
      "Epoch 58/100\n",
      "100/100 [==============================] - 1s 14ms/step - loss: 0.0748 - accuracy: 0.9782 - val_loss: 0.1049 - val_accuracy: 0.9667\n",
      "Epoch 59/100\n",
      "100/100 [==============================] - 2s 15ms/step - loss: 0.1017 - accuracy: 0.9681 - val_loss: 0.1251 - val_accuracy: 0.9433\n",
      "Epoch 60/100\n",
      "100/100 [==============================] - 1s 12ms/step - loss: 0.0810 - accuracy: 0.9766 - val_loss: 0.0985 - val_accuracy: 0.9633\n",
      "Epoch 61/100\n",
      "100/100 [==============================] - 1s 14ms/step - loss: 0.0751 - accuracy: 0.9763 - val_loss: 0.0950 - val_accuracy: 0.9700\n",
      "Epoch 62/100\n",
      "100/100 [==============================] - 1s 13ms/step - loss: 0.0742 - accuracy: 0.9766 - val_loss: 0.0966 - val_accuracy: 0.9567\n",
      "Epoch 63/100\n",
      "100/100 [==============================] - 1s 11ms/step - loss: 0.0702 - accuracy: 0.9798 - val_loss: 0.0916 - val_accuracy: 0.9700\n",
      "Epoch 64/100\n",
      "100/100 [==============================] - 1s 11ms/step - loss: 0.0702 - accuracy: 0.9801 - val_loss: 0.0939 - val_accuracy: 0.9667\n",
      "Epoch 65/100\n",
      "100/100 [==============================] - 1s 10ms/step - loss: 0.0720 - accuracy: 0.9754 - val_loss: 0.0948 - val_accuracy: 0.9667\n",
      "Epoch 66/100\n",
      "100/100 [==============================] - 1s 11ms/step - loss: 0.0693 - accuracy: 0.9792 - val_loss: 0.1007 - val_accuracy: 0.9600\n",
      "Epoch 67/100\n",
      "100/100 [==============================] - 1s 11ms/step - loss: 0.0753 - accuracy: 0.9748 - val_loss: 0.1088 - val_accuracy: 0.9600\n",
      "Epoch 68/100\n",
      "100/100 [==============================] - 1s 10ms/step - loss: 0.0701 - accuracy: 0.9766 - val_loss: 0.0871 - val_accuracy: 0.9667\n",
      "Epoch 69/100\n",
      "100/100 [==============================] - 1s 12ms/step - loss: 0.0684 - accuracy: 0.9795 - val_loss: 0.1209 - val_accuracy: 0.9567\n",
      "Epoch 70/100\n",
      "100/100 [==============================] - 1s 9ms/step - loss: 0.0697 - accuracy: 0.9779 - val_loss: 0.0944 - val_accuracy: 0.9700\n",
      "Epoch 71/100\n",
      "100/100 [==============================] - 1s 9ms/step - loss: 0.0789 - accuracy: 0.9729 - val_loss: 0.0985 - val_accuracy: 0.9667\n",
      "Epoch 72/100\n",
      "100/100 [==============================] - 1s 9ms/step - loss: 0.0912 - accuracy: 0.9684 - val_loss: 0.0981 - val_accuracy: 0.9600\n",
      "Epoch 73/100\n",
      "100/100 [==============================] - 1s 9ms/step - loss: 0.0681 - accuracy: 0.9782 - val_loss: 0.0883 - val_accuracy: 0.9667\n",
      "Epoch 74/100\n",
      "100/100 [==============================] - 1s 9ms/step - loss: 0.0624 - accuracy: 0.9817 - val_loss: 0.1049 - val_accuracy: 0.9567\n",
      "Epoch 75/100\n",
      "100/100 [==============================] - 1s 11ms/step - loss: 0.1474 - accuracy: 0.9495 - val_loss: 0.1133 - val_accuracy: 0.9400\n",
      "Epoch 76/100\n",
      "100/100 [==============================] - 1s 13ms/step - loss: 0.1042 - accuracy: 0.9565 - val_loss: 0.1246 - val_accuracy: 0.9567\n",
      "Epoch 77/100\n",
      "100/100 [==============================] - 1s 11ms/step - loss: 0.0705 - accuracy: 0.9779 - val_loss: 0.0962 - val_accuracy: 0.9667\n",
      "Epoch 78/100\n",
      "100/100 [==============================] - 1s 10ms/step - loss: 0.0670 - accuracy: 0.9763 - val_loss: 0.0927 - val_accuracy: 0.9667\n",
      "Epoch 79/100\n",
      "100/100 [==============================] - 1s 10ms/step - loss: 0.0629 - accuracy: 0.9808 - val_loss: 0.0859 - val_accuracy: 0.9667\n",
      "Epoch 80/100\n",
      "100/100 [==============================] - 1s 9ms/step - loss: 0.0653 - accuracy: 0.9785 - val_loss: 0.0917 - val_accuracy: 0.9667\n",
      "Epoch 81/100\n",
      "100/100 [==============================] - 1s 10ms/step - loss: 0.0606 - accuracy: 0.9801 - val_loss: 0.0898 - val_accuracy: 0.9667\n",
      "Epoch 82/100\n",
      "100/100 [==============================] - 1s 10ms/step - loss: 0.0602 - accuracy: 0.9798 - val_loss: 0.0870 - val_accuracy: 0.9700\n",
      "Epoch 83/100\n",
      "100/100 [==============================] - 1s 9ms/step - loss: 0.0626 - accuracy: 0.9792 - val_loss: 0.0901 - val_accuracy: 0.9667\n",
      "Epoch 84/100\n",
      "100/100 [==============================] - 1s 11ms/step - loss: 0.0595 - accuracy: 0.9801 - val_loss: 0.0871 - val_accuracy: 0.9700\n",
      "Epoch 85/100\n",
      "100/100 [==============================] - 1s 12ms/step - loss: 0.0576 - accuracy: 0.9808 - val_loss: 0.0907 - val_accuracy: 0.9700\n",
      "Epoch 86/100\n",
      "100/100 [==============================] - 1s 11ms/step - loss: 0.0604 - accuracy: 0.9792 - val_loss: 0.0927 - val_accuracy: 0.9667\n",
      "Epoch 87/100\n",
      "100/100 [==============================] - 1s 11ms/step - loss: 0.0617 - accuracy: 0.9776 - val_loss: 0.1199 - val_accuracy: 0.9467\n",
      "Epoch 88/100\n",
      "100/100 [==============================] - 1s 10ms/step - loss: 0.0595 - accuracy: 0.9801 - val_loss: 0.0836 - val_accuracy: 0.9700\n",
      "Epoch 89/100\n",
      "100/100 [==============================] - 1s 10ms/step - loss: 0.0565 - accuracy: 0.9817 - val_loss: 0.0952 - val_accuracy: 0.9600\n",
      "Epoch 90/100\n",
      "100/100 [==============================] - 1s 11ms/step - loss: 0.1322 - accuracy: 0.9423 - val_loss: 0.0943 - val_accuracy: 0.9767\n",
      "Epoch 91/100\n",
      "100/100 [==============================] - 1s 11ms/step - loss: 0.0830 - accuracy: 0.9751 - val_loss: 0.0930 - val_accuracy: 0.9767\n",
      "Epoch 92/100\n",
      "100/100 [==============================] - 1s 12ms/step - loss: 0.0680 - accuracy: 0.9776 - val_loss: 0.0987 - val_accuracy: 0.9400\n",
      "Epoch 93/100\n",
      "100/100 [==============================] - 1s 13ms/step - loss: 0.0609 - accuracy: 0.9785 - val_loss: 0.0831 - val_accuracy: 0.9700\n",
      "Epoch 94/100\n",
      "100/100 [==============================] - 1s 10ms/step - loss: 0.0568 - accuracy: 0.9830 - val_loss: 0.0897 - val_accuracy: 0.9633\n",
      "Epoch 95/100\n",
      "100/100 [==============================] - 1s 11ms/step - loss: 0.0579 - accuracy: 0.9817 - val_loss: 0.0882 - val_accuracy: 0.9700\n",
      "Epoch 96/100\n",
      "100/100 [==============================] - 1s 11ms/step - loss: 0.0543 - accuracy: 0.9833 - val_loss: 0.1009 - val_accuracy: 0.9567\n",
      "Epoch 97/100\n",
      "100/100 [==============================] - 1s 11ms/step - loss: 0.0578 - accuracy: 0.9808 - val_loss: 0.0912 - val_accuracy: 0.9667\n",
      "Epoch 98/100\n",
      "100/100 [==============================] - 1s 10ms/step - loss: 0.0535 - accuracy: 0.9823 - val_loss: 0.0943 - val_accuracy: 0.9633\n",
      "Epoch 99/100\n",
      "100/100 [==============================] - 1s 10ms/step - loss: 0.0535 - accuracy: 0.9814 - val_loss: 0.0991 - val_accuracy: 0.9567\n",
      "Epoch 100/100\n",
      "100/100 [==============================] - 1s 10ms/step - loss: 0.0585 - accuracy: 0.9795 - val_loss: 0.0875 - val_accuracy: 0.9700\n"
     ]
    }
   ],
   "source": [
    "r = model.fit(\n",
    "    Xtrain,\n",
    "    Ytrain,\n",
    "    epochs=100,\n",
    "    callbacks=[check_point],\n",
    "    validation_data=(Xtest, Ytest)\n",
    ")"
   ],
   "metadata": {
    "collapsed": false,
    "pycharm": {
     "name": "#%%\n"
    }
   }
  },
  {
   "cell_type": "code",
   "execution_count": 574,
   "outputs": [
    {
     "data": {
      "text/plain": "<Figure size 432x288 with 1 Axes>",
      "image/png": "[encoded data removed]"
     },
     "metadata": {
      "needs_background": "light"
     },
     "output_type": "display_data"
    }
   ],
   "source": [
    "plt.plot(r.history['loss'], label='train loss')\n",
    "plt.plot(r.history['val_loss'], label='test loss')\n",
    "plt.legend();"
   ],
   "metadata": {
    "collapsed": false,
    "pycharm": {
     "name": "#%%\n"
    }
   }
  },
  {
   "cell_type": "code",
   "execution_count": 575,
   "outputs": [
    {
     "data": {
      "text/plain": "<Figure size 432x288 with 1 Axes>",
      "image/png": "[encoded data removed]"
     },
     "metadata": {
      "needs_background": "light"
     },
     "output_type": "display_data"
    }
   ],
   "source": [
    "plt.plot(r.history['accuracy'], label='train acc')\n",
    "plt.plot(r.history['val_accuracy'], label='test acc')\n",
    "plt.legend();"
   ],
   "metadata": {
    "collapsed": false,
    "pycharm": {
     "name": "#%%\n"
    }
   }
  },
  {
   "cell_type": "code",
   "execution_count": 576,
   "outputs": [],
   "source": [
    "# load best model\n",
    "best_model = tf.keras.models.load_model('best_model.h5')"
   ],
   "metadata": {
    "collapsed": false,
    "pycharm": {
     "name": "#%%\n"
    }
   }
  },
  {
   "cell_type": "code",
   "execution_count": 577,
   "outputs": [
    {
     "name": "stdout",
     "output_type": "stream",
     "text": [
      "WARNING:tensorflow:AutoGraph could not transform <function Model.make_predict_function.<locals>.predict_function at 0x7fdb904cc290> and will run it as-is.\n",
      "Please report this to the TensorFlow team. When filing the bug, set the verbosity to 10 (on Linux, `export AUTOGRAPH_VERBOSITY=10`) and attach the full output.\n",
      "Cause: 'arguments' object has no attribute 'posonlyargs'\n",
      "To silence this warning, decorate the function with @tf.autograph.experimental.do_not_convert\n",
      "WARNING: AutoGraph could not transform <function Model.make_predict_function.<locals>.predict_function at 0x7fdb904cc290> and will run it as-is.\n",
      "Please report this to the TensorFlow team. When filing the bug, set the verbosity to 10 (on Linux, `export AUTOGRAPH_VERBOSITY=10`) and attach the full output.\n",
      "Cause: 'arguments' object has no attribute 'posonlyargs'\n",
      "To silence this warning, decorate the function with @tf.autograph.experimental.do_not_convert\n",
      "10/10 [==============================] - 1s 7ms/step\n"
     ]
    }
   ],
   "source": [
    "# make predictions\n",
    "Ptest = best_model.predict(Xtest)"
   ],
   "metadata": {
    "collapsed": false,
    "pycharm": {
     "name": "#%%\n"
    }
   }
  },
  {
   "cell_type": "code",
   "execution_count": 578,
   "outputs": [
    {
     "data": {
      "text/plain": "array([[ 2.8274326 , -2.4645026 ],\n       [ 3.9758434 , -3.8159943 ],\n       [ 3.7921515 , -3.4947076 ],\n       [ 4.0171986 , -3.77947   ],\n       [ 1.5209329 , -1.2220262 ],\n       [ 4.157921  , -4.176018  ],\n       [ 2.663326  , -2.1870039 ],\n       [ 2.4442763 , -1.8722733 ],\n       [-0.11508153,  1.0237468 ],\n       [ 3.999929  , -3.6915994 ],\n       [ 3.3798304 , -2.9209516 ],\n       [ 3.0353236 , -2.3074574 ],\n       [ 3.9975448 , -3.789453  ],\n       [ 4.1697903 , -4.1890755 ],\n       [ 3.5518336 , -3.2800467 ],\n       [ 0.738989  , -0.5458985 ],\n       [ 3.9897141 , -3.6777596 ],\n       [-0.20142011,  1.1418043 ],\n       [-0.70744336,  1.5453712 ],\n       [ 3.9777136 , -3.7033482 ],\n       [ 3.2159247 , -2.6527696 ],\n       [ 4.005542  , -3.7389317 ],\n       [ 3.9897141 , -3.6777596 ],\n       [ 2.9693766 , -2.5356102 ],\n       [ 3.7921515 , -3.4947076 ],\n       [ 0.45791084, -0.3294431 ],\n       [ 2.9754856 , -2.5643172 ],\n       [ 3.5193834 , -3.117835  ],\n       [ 3.2126656 , -2.522923  ],\n       [ 3.9777136 , -3.7033482 ],\n       [ 3.9964764 , -3.7564812 ],\n       [ 2.0096316 , -1.7906419 ],\n       [ 3.9897141 , -3.6777596 ],\n       [ 2.7302868 , -1.8520547 ],\n       [ 3.9876356 , -3.7292306 ],\n       [ 3.7921515 , -3.4947076 ],\n       [ 2.916556  , -2.6611564 ],\n       [-0.64446056,  1.1254575 ],\n       [ 0.04836555,  0.2452077 ],\n       [ 1.5186551 , -2.1357918 ],\n       [ 2.1579344 , -1.4863936 ],\n       [ 4.0481653 , -3.7825012 ],\n       [ 2.4146786 , -2.020259  ],\n       [ 2.1759775 , -1.9067718 ],\n       [ 4.0110946 , -3.7004476 ],\n       [ 3.991763  , -3.7515225 ],\n       [ 4.0152206 , -3.7086296 ],\n       [ 3.9426088 , -3.6320496 ],\n       [ 2.2188225 , -1.670431  ],\n       [ 1.4287127 , -1.7766112 ],\n       [-0.04554729,  0.81231415],\n       [ 3.9799538 , -3.670453  ],\n       [ 1.9732747 , -2.445326  ],\n       [ 2.8826203 , -2.5330014 ],\n       [ 1.9524502 , -1.7780226 ],\n       [ 2.1759775 , -1.9067718 ],\n       [ 3.9799538 , -3.670453  ],\n       [ 2.823989  , -2.4762425 ],\n       [ 4.006479  , -3.826927  ],\n       [ 2.8359866 , -2.4517727 ],\n       [ 2.2041345 , -1.3171831 ],\n       [ 2.920802  , -2.5060258 ],\n       [ 4.308686  , -4.340747  ],\n       [-0.69414425,  1.52135   ],\n       [ 2.823989  , -2.4762425 ],\n       [ 2.0878725 , -1.841899  ],\n       [ 4.0578446 , -3.794331  ],\n       [ 2.7008393 , -2.8748085 ],\n       [ 2.6787555 , -2.0973337 ],\n       [ 1.7789237 , -1.2571867 ],\n       [ 1.9723194 , -1.9117008 ],\n       [ 0.41689694, -0.13173303],\n       [ 2.8791418 , -2.390516  ],\n       [ 2.8228946 , -2.476206  ],\n       [ 3.9799538 , -3.670453  ],\n       [ 3.9426088 , -3.6320496 ],\n       [ 4.0160074 , -3.810021  ],\n       [ 3.3250642 , -3.0661628 ],\n       [ 3.5910757 , -3.3593268 ],\n       [ 4.0110946 , -3.7004476 ],\n       [ 0.89088196, -0.88679135],\n       [ 1.9862531 , -1.7600566 ],\n       [ 2.9754856 , -2.5643172 ],\n       [ 3.9799538 , -3.670453  ],\n       [ 3.2362745 , -2.8044107 ],\n       [ 2.1600804 , -2.248633  ],\n       [ 3.9964762 , -3.7564807 ],\n       [ 3.9633965 , -3.7204978 ],\n       [ 2.4146786 , -2.020259  ],\n       [ 3.2362745 , -2.8044107 ],\n       [ 1.4184753 , -1.7654284 ],\n       [-0.971128  ,  1.9453312 ],\n       [ 2.7302868 , -1.8520547 ],\n       [-0.971128  ,  1.9453312 ],\n       [ 3.792152  , -3.4947085 ],\n       [ 3.9897141 , -3.67776   ],\n       [ 3.991763  , -3.7515225 ],\n       [ 2.5436313 , -2.1326742 ],\n       [ 3.5662627 , -3.3872652 ],\n       [-0.11508153,  1.0237468 ],\n       [ 2.9699996 , -2.5615005 ],\n       [ 4.0481653 , -3.7825012 ],\n       [ 3.0711322 , -2.6513364 ],\n       [ 4.033903  , -3.769386  ],\n       [ 2.9458184 , -2.5122662 ],\n       [ 2.8598833 , -2.3733273 ],\n       [ 2.0878725 , -1.841899  ],\n       [ 2.4146786 , -2.020259  ],\n       [ 2.8826203 , -2.5330014 ],\n       [ 3.9964762 , -3.7564807 ],\n       [ 1.8673364 , -1.6066114 ],\n       [ 3.4305935 , -3.1271026 ],\n       [ 3.1278298 , -2.6041381 ],\n       [ 0.791512  , -0.27048016],\n       [ 3.1278298 , -2.6041381 ],\n       [ 3.9897141 , -3.6777596 ],\n       [ 3.5153737 , -3.2564857 ],\n       [ 2.7302868 , -1.8520547 ],\n       [ 1.8615943 , -1.7653124 ],\n       [ 4.0152206 , -3.7086296 ],\n       [ 3.9964762 , -3.7564807 ],\n       [ 3.9439802 , -3.7288446 ],\n       [ 3.9799538 , -3.670453  ],\n       [ 1.9862531 , -1.7600566 ],\n       [ 3.991763  , -3.7515225 ],\n       [ 2.0570784 , -1.2905535 ],\n       [ 2.8228946 , -2.4762058 ],\n       [ 2.8239894 , -2.4762425 ],\n       [ 2.5934181 , -2.2856731 ],\n       [ 4.052557  , -3.7862258 ],\n       [ 1.7705747 , -1.6055312 ],\n       [ 3.9758434 , -3.8159943 ],\n       [ 3.9999375 , -3.7599277 ],\n       [ 3.77453   , -3.4646382 ],\n       [ 2.8359866 , -2.4517727 ],\n       [ 2.7131288 , -2.3523993 ],\n       [ 2.2744133 , -1.6833278 ],\n       [ 3.47232   , -3.176681  ],\n       [ 3.9799538 , -3.670453  ],\n       [ 3.057052  , -2.48878   ],\n       [ 3.4174192 , -3.1122413 ],\n       [ 4.0129094 , -3.7453542 ],\n       [ 3.9964762 , -3.7564807 ],\n       [ 3.9853554 , -3.7444658 ],\n       [ 3.9633965 , -3.7204978 ],\n       [ 3.7921515 , -3.4947076 ],\n       [ 4.0421443 , -3.7770998 ],\n       [ 3.259722  , -2.5777805 ],\n       [ 3.9799538 , -3.670453  ],\n       [-0.11508153,  1.0237468 ],\n       [ 3.386777  , -2.9413495 ],\n       [ 3.0823634 , -2.5586429 ],\n       [ 3.0779197 , -2.8073254 ],\n       [ 3.9791064 , -3.7685394 ],\n       [ 3.932157  , -3.6091723 ],\n       [ 3.2154443 , -2.522558  ],\n       [ 3.932157  , -3.6091723 ],\n       [ 3.9439802 , -3.7288446 ],\n       [ 4.0110946 , -3.7004483 ],\n       [ 3.1278298 , -2.6041384 ],\n       [ 2.9754856 , -2.5643172 ],\n       [ 2.4785736 , -2.1541855 ],\n       [ 1.4287127 , -1.7766112 ],\n       [ 2.761863  , -2.2878723 ],\n       [ 3.9633965 , -3.7204978 ],\n       [ 4.0421443 , -3.7770998 ],\n       [-0.5309535 ,  1.2339996 ],\n       [ 2.1600804 , -2.248633  ],\n       [ 2.4146786 , -2.020259  ],\n       [ 1.5279694 , -1.3921503 ],\n       [ 2.1579344 , -1.4863936 ],\n       [ 3.6911066 , -3.555004  ],\n       [ 3.1278298 , -2.6041381 ],\n       [ 3.9799538 , -3.670453  ],\n       [ 3.4741926 , -3.141047  ],\n       [-0.6350762 ,  1.2002493 ],\n       [ 4.0275736 , -3.7202277 ],\n       [ 4.2424755 , -4.2540474 ],\n       [ 3.9633965 , -3.7204978 ],\n       [ 3.1127815 , -2.5839264 ],\n       [ 3.7540402 , -3.6362023 ],\n       [ 3.8286133 , -3.5244222 ],\n       [ 0.4548121 , -0.19448575],\n       [ 3.9777136 , -3.7033482 ],\n       [ 2.1759775 , -1.9067718 ],\n       [ 3.53227   , -3.1669598 ],\n       [ 3.7691898 , -3.4322314 ],\n       [ 2.4146786 , -2.020259  ],\n       [ 3.3168898 , -2.869864  ],\n       [ 4.0372753 , -3.7301488 ],\n       [ 4.0110946 , -3.7004483 ],\n       [ 4.0481653 , -3.7825017 ],\n       [ 1.7705747 , -1.6055312 ],\n       [ 3.968943  , -3.7782319 ],\n       [ 3.927299  , -3.680531  ],\n       [ 4.1345363 , -4.140571  ],\n       [ 3.9799538 , -3.670453  ],\n       [ 3.9964762 , -3.7564807 ],\n       [ 3.9897141 , -3.6777596 ],\n       [ 2.841755  , -2.1108646 ],\n       [ 4.0027246 , -3.82012   ],\n       [ 2.856625  , -2.9374223 ],\n       [ 4.140064  , -3.78408   ],\n       [-0.14304735,  1.0392182 ],\n       [ 1.93835   , -1.1287628 ],\n       [ 1.548219  , -1.1950756 ],\n       [ 3.7921515 , -3.4947076 ],\n       [ 2.823989  , -2.4762425 ],\n       [ 1.7789237 , -1.2571867 ],\n       [ 3.9633965 , -3.7204978 ],\n       [-0.23057418,  1.1165755 ],\n       [ 3.6063676 , -3.2775388 ],\n       [ 3.9777136 , -3.7033482 ],\n       [ 4.0152206 , -3.7086296 ],\n       [ 3.9748144 , -3.763295  ],\n       [ 3.991763  , -3.7515225 ],\n       [ 3.213549  , -2.6474156 ],\n       [ 3.437029  , -2.8434048 ],\n       [ 3.7921515 , -3.4947076 ],\n       [ 3.5020804 , -3.1340637 ],\n       [ 2.7008393 , -2.8748085 ],\n       [ 3.3854065 , -2.8916316 ],\n       [ 2.4146786 , -2.020259  ],\n       [ 2.8228946 , -2.4762058 ],\n       [ 2.9060888 , -2.3047888 ],\n       [ 0.81698644, -0.7248194 ],\n       [ 1.4287127 , -1.7766112 ],\n       [ 3.4741926 , -3.141047  ],\n       [ 2.9183252 , -2.313263  ],\n       [ 3.7921515 , -3.4947076 ],\n       [ 0.3389309 , -0.07947277],\n       [ 2.7478042 , -2.8376555 ],\n       [ 3.7182183 , -3.4464402 ],\n       [ 3.9426088 , -3.6320496 ],\n       [ 3.47232   , -3.176681  ],\n       [ 3.7921515 , -3.4947076 ],\n       [ 2.5156078 , -2.4750445 ],\n       [-0.04729913,  0.29164666],\n       [ 1.5848002 , -1.4636225 ],\n       [ 3.9799538 , -3.670453  ],\n       [ 3.9585052 , -3.6288443 ],\n       [ 3.932157  , -3.6091723 ],\n       [-0.03267142,  0.23495704],\n       [ 3.3428671 , -2.960281  ],\n       [ 0.04360078,  0.41004494],\n       [ 2.8228946 , -2.476206  ],\n       [ 3.7921515 , -3.4947076 ],\n       [ 4.028416  , -4.013358  ],\n       [ 2.8228946 , -2.476206  ],\n       [ 3.9799538 , -3.670453  ],\n       [ 3.9426088 , -3.6320496 ],\n       [ 3.7921515 , -3.4947076 ],\n       [ 2.3172417 , -2.397674  ],\n       [ 2.8359866 , -2.4517727 ],\n       [ 0.58044744, -0.49620667],\n       [ 4.0481653 , -3.7825017 ],\n       [ 2.1600804 , -2.248633  ],\n       [ 3.7921515 , -3.4947076 ],\n       [ 2.5436313 , -2.1326742 ],\n       [-0.20654432,  0.80841696],\n       [ 1.7705747 , -1.6055312 ],\n       [ 2.920802  , -2.5060258 ],\n       [ 4.005542  , -3.7389317 ],\n       [ 3.5737705 , -3.0692487 ],\n       [ 3.9439802 , -3.7288446 ],\n       [ 1.7789237 , -1.2571867 ],\n       [ 2.1759775 , -1.9067718 ],\n       [ 3.6063676 , -3.2775388 ],\n       [ 0.791512  , -0.27048016],\n       [ 2.8359866 , -2.4517727 ],\n       [ 3.5910757 , -3.3593268 ],\n       [ 1.8315716 , -1.64225   ],\n       [ 1.5848002 , -1.4636225 ],\n       [ 1.5295599 , -1.2567981 ],\n       [ 0.2569583 ,  0.09581584],\n       [ 3.991763  , -3.7515225 ],\n       [ 3.999929  , -3.6915994 ],\n       [ 4.006788  , -3.767544  ],\n       [ 2.8228946 , -2.476206  ],\n       [ 2.9072845 , -2.494268  ],\n       [ 1.5295599 , -1.2567981 ],\n       [ 3.9927444 , -3.7696586 ],\n       [ 3.25184   , -2.5580091 ],\n       [ 3.9876356 , -3.7292306 ],\n       [ 4.0152206 , -3.7086296 ],\n       [ 3.4174192 , -3.1122413 ],\n       [-0.12207581,  0.49375677],\n       [ 2.9072843 , -2.4942675 ],\n       [ 3.9897141 , -3.6777596 ],\n       [ 1.9723194 , -1.9117008 ],\n       [-0.5309535 ,  1.2339996 ],\n       [ 1.9922061 , -2.4018261 ],\n       [ 3.261419  , -2.687668  ],\n       [ 2.34983   , -1.3826154 ],\n       [ 1.7705747 , -1.6055312 ],\n       [ 3.9439802 , -3.7288446 ],\n       [ 2.9754856 , -2.5643172 ],\n       [ 1.7789237 , -1.2571867 ],\n       [ 3.9799538 , -3.670453  ],\n       [ 2.961653  , -2.4116993 ]], dtype=float32)"
     },
     "execution_count": 578,
     "metadata": {},
     "output_type": "execute_result"
    }
   ],
   "source": [
    "Ptest"
   ],
   "metadata": {
    "collapsed": false,
    "pycharm": {
     "name": "#%%\n"
    }
   }
  },
  {
   "cell_type": "code",
   "execution_count": 579,
   "outputs": [
    {
     "data": {
      "text/plain": "array([0, 0, 0, 0, 0, 0, 0, 0, 1, 0, 0, 0, 0, 0, 0, 0, 0, 1, 1, 0, 0, 0,\n       0, 0, 0, 0, 0, 0, 0, 0, 0, 0, 0, 0, 0, 0, 0, 1, 1, 0, 0, 0, 0, 0,\n       0, 0, 0, 0, 0, 0, 1, 0, 0, 0, 0, 0, 0, 0, 0, 0, 0, 0, 0, 1, 0, 0,\n       0, 0, 0, 0, 0, 0, 0, 0, 0, 0, 0, 0, 0, 0, 0, 0, 0, 0, 0, 0, 0, 0,\n       0, 0, 0, 1, 0, 1, 0, 0, 0, 0, 0, 1, 0, 0, 0, 0, 0, 0, 0, 0, 0, 0,\n       0, 0, 0, 0, 0, 0, 0, 0, 0, 0, 0, 0, 0, 0, 0, 0, 0, 0, 0, 0, 0, 0,\n       0, 0, 0, 0, 0, 0, 0, 0, 0, 0, 0, 0, 0, 0, 0, 0, 0, 1, 0, 0, 0, 0,\n       0, 0, 0, 0, 0, 0, 0, 0, 0, 0, 0, 0, 1, 0, 0, 0, 0, 0, 0, 0, 0, 1,\n       0, 0, 0, 0, 0, 0, 0, 0, 0, 0, 0, 0, 0, 0, 0, 0, 0, 0, 0, 0, 0, 0,\n       0, 0, 0, 0, 0, 1, 0, 0, 0, 0, 0, 0, 1, 0, 0, 0, 0, 0, 0, 0, 0, 0,\n       0, 0, 0, 0, 0, 0, 0, 0, 0, 0, 0, 0, 0, 0, 0, 0, 0, 1, 0, 0, 0, 0,\n       1, 0, 1, 0, 0, 0, 0, 0, 0, 0, 0, 0, 0, 0, 0, 0, 0, 1, 0, 0, 0, 0,\n       0, 0, 0, 0, 0, 0, 0, 0, 0, 0, 0, 0, 0, 0, 0, 0, 0, 0, 0, 0, 0, 0,\n       1, 0, 0, 0, 1, 0, 0, 0, 0, 0, 0, 0, 0, 0])"
     },
     "execution_count": 579,
     "metadata": {},
     "output_type": "execute_result"
    }
   ],
   "source": [
    "np.argmax(Ptest, axis=1)"
   ],
   "metadata": {
    "collapsed": false,
    "pycharm": {
     "name": "#%%\n"
    }
   }
  },
  {
   "cell_type": "code",
   "execution_count": 580,
   "outputs": [
    {
     "data": {
      "text/plain": "0.97"
     },
     "execution_count": 580,
     "metadata": {},
     "output_type": "execute_result"
    }
   ],
   "source": [
    "# evaluate\n",
    "np.mean(np.argmax(Ptest, axis=1) == Ytest)"
   ],
   "metadata": {
    "collapsed": false,
    "pycharm": {
     "name": "#%%\n"
    }
   }
  },
  {
   "cell_type": "code",
   "execution_count": 581,
   "outputs": [
    {
     "data": {
      "text/plain": "array([0, 0, 0, 0, 0, 0, 0, 0, 1, 0, 0, 0, 0, 0, 0, 0, 0, 1, 1, 0, 0, 0,\n       0, 0, 0, 0, 0, 0, 0, 0, 0, 0, 0, 0, 0, 0, 0, 1, 0, 0, 0, 0, 0, 0,\n       0, 0, 0, 0, 0, 0, 0, 0, 0, 0, 0, 0, 0, 0, 0, 0, 0, 0, 0, 1, 0, 0,\n       0, 0, 0, 0, 0, 1, 0, 0, 0, 0, 0, 0, 0, 0, 0, 0, 0, 0, 0, 0, 0, 0,\n       0, 0, 0, 1, 0, 1, 0, 0, 0, 0, 0, 1, 0, 0, 0, 0, 0, 0, 0, 0, 0, 0,\n       0, 0, 0, 0, 0, 0, 0, 0, 0, 0, 0, 0, 0, 0, 0, 0, 0, 0, 0, 0, 0, 0,\n       0, 0, 0, 0, 0, 0, 0, 0, 0, 0, 0, 0, 0, 0, 0, 0, 0, 1, 0, 0, 0, 0,\n       0, 0, 0, 0, 0, 0, 0, 0, 0, 0, 0, 0, 1, 0, 0, 0, 0, 0, 0, 0, 0, 1,\n       0, 0, 0, 0, 0, 0, 0, 0, 0, 0, 0, 0, 0, 0, 0, 0, 0, 0, 0, 0, 0, 0,\n       0, 0, 0, 0, 1, 1, 0, 0, 0, 0, 0, 0, 1, 0, 0, 0, 0, 0, 0, 0, 0, 0,\n       0, 0, 0, 0, 0, 1, 0, 0, 0, 0, 0, 0, 0, 0, 0, 0, 0, 1, 0, 0, 0, 0,\n       1, 0, 0, 0, 0, 0, 0, 0, 0, 0, 0, 0, 0, 0, 0, 0, 0, 0, 0, 0, 0, 0,\n       0, 0, 0, 0, 0, 0, 0, 0, 0, 0, 1, 0, 0, 0, 0, 0, 0, 0, 0, 0, 0, 0,\n       0, 0, 0, 0, 1, 0, 0, 0, 0, 0, 0, 0, 0, 0])"
     },
     "execution_count": 581,
     "metadata": {},
     "output_type": "execute_result"
    }
   ],
   "source": [
    "Ytest"
   ],
   "metadata": {
    "collapsed": false,
    "pycharm": {
     "name": "#%%\n"
    }
   }
  },
  {
   "cell_type": "code",
   "execution_count": 582,
   "outputs": [
    {
     "data": {
      "text/plain": "array([0, 0, 0, 0, 0, 0, 0, 0, 1, 0, 0, 0, 0, 0, 0, 0, 0, 1, 1, 0, 0, 0,\n       0, 0, 0, 0, 0, 0, 0, 0, 0, 0, 0, 0, 0, 0, 0, 1, 1, 0, 0, 0, 0, 0,\n       0, 0, 0, 0, 0, 0, 1, 0, 0, 0, 0, 0, 0, 0, 0, 0, 0, 0, 0, 1, 0, 0,\n       0, 0, 0, 0, 0, 0, 0, 0, 0, 0, 0, 0, 0, 0, 0, 0, 0, 0, 0, 0, 0, 0,\n       0, 0, 0, 1, 0, 1, 0, 0, 0, 0, 0, 1, 0, 0, 0, 0, 0, 0, 0, 0, 0, 0,\n       0, 0, 0, 0, 0, 0, 0, 0, 0, 0, 0, 0, 0, 0, 0, 0, 0, 0, 0, 0, 0, 0,\n       0, 0, 0, 0, 0, 0, 0, 0, 0, 0, 0, 0, 0, 0, 0, 0, 0, 1, 0, 0, 0, 0,\n       0, 0, 0, 0, 0, 0, 0, 0, 0, 0, 0, 0, 1, 0, 0, 0, 0, 0, 0, 0, 0, 1,\n       0, 0, 0, 0, 0, 0, 0, 0, 0, 0, 0, 0, 0, 0, 0, 0, 0, 0, 0, 0, 0, 0,\n       0, 0, 0, 0, 0, 1, 0, 0, 0, 0, 0, 0, 1, 0, 0, 0, 0, 0, 0, 0, 0, 0,\n       0, 0, 0, 0, 0, 0, 0, 0, 0, 0, 0, 0, 0, 0, 0, 0, 0, 1, 0, 0, 0, 0,\n       1, 0, 1, 0, 0, 0, 0, 0, 0, 0, 0, 0, 0, 0, 0, 0, 0, 1, 0, 0, 0, 0,\n       0, 0, 0, 0, 0, 0, 0, 0, 0, 0, 0, 0, 0, 0, 0, 0, 0, 0, 0, 0, 0, 0,\n       1, 0, 0, 0, 1, 0, 0, 0, 0, 0, 0, 0, 0, 0])"
     },
     "execution_count": 582,
     "metadata": {},
     "output_type": "execute_result"
    }
   ],
   "source": [
    "np.argmax(Ptest, axis=1)"
   ],
   "metadata": {
    "collapsed": false,
    "pycharm": {
     "name": "#%%\n"
    }
   }
  },
  {
   "cell_type": "code",
   "execution_count": 583,
   "outputs": [
    {
     "name": "stdout",
     "output_type": "stream",
     "text": [
      "Accuracy: 0.97\n",
      "Confusion Matrix\n",
      "[[275   5]\n",
      " [  4  16]]\n",
      "Classification Report\n",
      "              precision    recall  f1-score   support\n",
      "\n",
      "           0       0.99      0.98      0.98       280\n",
      "           1       0.76      0.80      0.78        20\n",
      "\n",
      "    accuracy                           0.97       300\n",
      "   macro avg       0.87      0.89      0.88       300\n",
      "weighted avg       0.97      0.97      0.97       300\n",
      "\n"
     ]
    }
   ],
   "source": [
    "# Print results:\n",
    "from sklearn.metrics import classification_report, confusion_matrix, accuracy_score\n",
    "print(f'Accuracy: {accuracy_score(Ytest, np.argmax(Ptest, axis=1))}')\n",
    "print('Confusion Matrix')\n",
    "print(confusion_matrix(Ytest, np.argmax(Ptest, axis=1)))\n",
    "print('Classification Report')\n",
    "print(classification_report(Ytest, np.argmax(Ptest, axis=1)))"
   ],
   "metadata": {
    "collapsed": false,
    "pycharm": {
     "name": "#%%\n"
    }
   }
  },
  {
   "cell_type": "code",
   "execution_count": 584,
   "outputs": [],
   "source": [
    "w_start_eval, w_end_eval = 231, 261"
   ],
   "metadata": {
    "collapsed": false,
    "pycharm": {
     "name": "#%%\n"
    }
   }
  },
  {
   "cell_type": "code",
   "execution_count": 585,
   "outputs": [],
   "source": [
    "df['eval_sequence'] = df['n_tasks'].apply(lambda x: [item for item in x][w_start_eval:w_end_eval])\n",
    "df['eval_labels'] = df['n_tasks'].apply(lambda x: [1 if item>0 else 0 for item in x][w_end_eval])"
   ],
   "metadata": {
    "collapsed": false,
    "pycharm": {
     "name": "#%%\n"
    }
   }
  },
  {
   "cell_type": "code",
   "execution_count": 586,
   "outputs": [],
   "source": [
    "eval_sequences = np.array(list(df['eval_sequence'].values))\n",
    "eval_labels = np.array(list(df['eval_labels'].values))"
   ],
   "metadata": {
    "collapsed": false,
    "pycharm": {
     "name": "#%%\n"
    }
   }
  },
  {
   "cell_type": "code",
   "execution_count": 594,
   "outputs": [],
   "source": [
    "new_eval_sequences = []\n",
    "new_eval_labels = []\n",
    "for idx,sequence in enumerate(eval_sequences):\n",
    "    number_of_accesses = sum(sequence)\n",
    "    # skip not popular datasets\n",
    "    if number_of_accesses > 20:\n",
    "        new_eval_sequences.append(sequence)\n",
    "        new_eval_labels.append(eval_labels[idx])"
   ],
   "metadata": {
    "collapsed": false,
    "pycharm": {
     "name": "#%%\n"
    }
   }
  },
  {
   "cell_type": "code",
   "execution_count": 595,
   "outputs": [],
   "source": [
    "new_eval_sequences = np.array(new_eval_sequences)\n",
    "new_eval_sequences = new_eval_sequences.reshape((new_eval_sequences.shape[0], new_eval_sequences.shape[1], 1))"
   ],
   "metadata": {
    "collapsed": false,
    "pycharm": {
     "name": "#%%\n"
    }
   }
  },
  {
   "cell_type": "code",
   "execution_count": 596,
   "outputs": [
    {
     "data": {
      "text/plain": "(640, 30, 1)"
     },
     "execution_count": 596,
     "metadata": {},
     "output_type": "execute_result"
    }
   ],
   "source": [
    "new_eval_sequences.shape"
   ],
   "metadata": {
    "collapsed": false,
    "pycharm": {
     "name": "#%%\n"
    }
   }
  },
  {
   "cell_type": "code",
   "execution_count": 597,
   "outputs": [],
   "source": [
    "new_eval_labels = np.array(new_eval_labels)"
   ],
   "metadata": {
    "collapsed": false,
    "pycharm": {
     "name": "#%%\n"
    }
   }
  },
  {
   "cell_type": "code",
   "execution_count": 598,
   "outputs": [
    {
     "name": "stdout",
     "output_type": "stream",
     "text": [
      "20/20 [==============================] - 0s 3ms/step\n"
     ]
    }
   ],
   "source": [
    "pred_y_eval = best_model.predict(new_eval_sequences)"
   ],
   "metadata": {
    "collapsed": false,
    "pycharm": {
     "name": "#%%\n"
    }
   }
  },
  {
   "cell_type": "code",
   "execution_count": 599,
   "outputs": [
    {
     "data": {
      "text/plain": "0.8484375"
     },
     "execution_count": 599,
     "metadata": {},
     "output_type": "execute_result"
    }
   ],
   "source": [
    "# evaluate\n",
    "np.mean(np.argmax(pred_y_eval, axis=1) == new_eval_labels)"
   ],
   "metadata": {
    "collapsed": false,
    "pycharm": {
     "name": "#%%\n"
    }
   }
  },
  {
   "cell_type": "code",
   "execution_count": 600,
   "outputs": [
    {
     "name": "stdout",
     "output_type": "stream",
     "text": [
      "Accuracy: 0.8484375\n",
      "Confusion Matrix\n",
      "[[527  58]\n",
      " [ 39  16]]\n",
      "Classification Report\n",
      "              precision    recall  f1-score   support\n",
      "\n",
      "           0       0.93      0.90      0.92       585\n",
      "           1       0.22      0.29      0.25        55\n",
      "\n",
      "    accuracy                           0.85       640\n",
      "   macro avg       0.57      0.60      0.58       640\n",
      "weighted avg       0.87      0.85      0.86       640\n",
      "\n"
     ]
    }
   ],
   "source": [
    "print(f'Accuracy: {accuracy_score(new_eval_labels, np.argmax(pred_y_eval, axis=1))}')\n",
    "print('Confusion Matrix')\n",
    "print(confusion_matrix(new_eval_labels, np.argmax(pred_y_eval, axis=1)))\n",
    "print('Classification Report')\n",
    "print(classification_report(new_eval_labels, np.argmax(pred_y_eval, axis=1)))"
   ],
   "metadata": {
    "collapsed": false,
    "pycharm": {
     "name": "#%%\n"
    }
   }
  },
  {
   "cell_type": "code",
   "execution_count": null,
   "outputs": [],
   "source": [],
   "metadata": {
    "collapsed": false,
    "pycharm": {
     "name": "#%%\n"
    }
   }
  }
 ],
 "metadata": {
  "kernelspec": {
   "display_name": "Python 3",
   "language": "python",
   "name": "python3"
  },
  "language_info": {
   "codemirror_mode": {
    "name": "ipython",
    "version": 2
   },
   "file_extension": ".py",
   "mimetype": "text/x-python",
   "name": "python",
   "nbconvert_exporter": "python",
   "pygments_lexer": "ipython2",
   "version": "2.7.6"
  }
 },
 "nbformat": 4,
 "nbformat_minor": 0
}