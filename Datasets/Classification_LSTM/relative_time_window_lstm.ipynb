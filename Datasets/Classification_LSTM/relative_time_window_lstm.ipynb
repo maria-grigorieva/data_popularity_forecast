{
 "cells": [
  {
   "cell_type": "code",
   "execution_count": 315,
   "outputs": [],
   "source": [
    "import matplotlib.pyplot as plt\n",
    "import pandas as pd\n",
    "import numpy as np\n",
    "from sklearn.ensemble import RandomForestClassifier\n",
    "import pprint\n",
    "import tensorflow as tf\n",
    "from tensorflow.keras.layers import Dense, Input, GlobalMaxPooling1D\n",
    "from tensorflow.keras.layers import LSTM, Concatenate\n",
    "from tensorflow.keras.models import Model\n",
    "from tensorflow.keras.losses import SparseCategoricalCrossentropy\n",
    "from tensorflow.keras.callbacks import ModelCheckpoint\n",
    "\n",
    "np.random.seed(0)\n",
    "tf.random.set_seed(0)"
   ],
   "metadata": {
    "collapsed": false,
    "pycharm": {
     "name": "#%%\n"
    }
   }
  },
  {
   "cell_type": "code",
   "execution_count": 316,
   "outputs": [],
   "source": [
    "df = pd.read_csv('../../dataset_samples/daod_mc16_13TeV_sequences.csv')"
   ],
   "metadata": {
    "collapsed": false,
    "pycharm": {
     "name": "#%%\n"
    }
   }
  },
  {
   "cell_type": "code",
   "execution_count": 317,
   "outputs": [],
   "source": [
    "df = df.reindex(np.random.permutation(df.index))"
   ],
   "metadata": {
    "collapsed": false,
    "pycharm": {
     "name": "#%%\n"
    }
   }
  },
  {
   "cell_type": "code",
   "execution_count": 318,
   "outputs": [],
   "source": [
    "df['n_tasks'] = df['n_tasks'].apply(lambda x: [int(item) for item in x[1:-1].split(',')])"
   ],
   "metadata": {
    "collapsed": false,
    "pycharm": {
     "name": "#%%\n"
    }
   }
  },
  {
   "cell_type": "code",
   "execution_count": 319,
   "outputs": [],
   "source": [
    "initlal_sequences = list(df['n_tasks'].values)"
   ],
   "metadata": {
    "collapsed": false,
    "pycharm": {
     "name": "#%%\n"
    }
   }
  },
  {
   "cell_type": "code",
   "execution_count": 398,
   "outputs": [],
   "source": [
    "N = 30"
   ],
   "metadata": {
    "collapsed": false,
    "pycharm": {
     "name": "#%%\n"
    }
   }
  },
  {
   "cell_type": "code",
   "execution_count": 381,
   "outputs": [],
   "source": [
    "# make supervised data sample\n",
    "# - dataset sequence starts from the week when the dataset was accessed for the first time\n",
    "# and finishes in N weeks\n",
    "# - label for this dataset is calculated from (N+10)th week\n",
    "new_sequences = []\n",
    "labels = []\n",
    "for sequence in initlal_sequences:\n",
    "    number_of_accesses = sum(sequence)\n",
    "    # skip not popular datasets\n",
    "    if number_of_accesses > 30:\n",
    "        # find first element > 0 in the sequence\n",
    "        new_index = [index for index,item in enumerate(sequence) if item>0][0]\n",
    "        if len(sequence[new_index:]) > N+1:\n",
    "            new_sequence = sequence[new_index:new_index+N]\n",
    "            new_sequences.append(new_sequence)\n",
    "            labels.append(1 if sequence[new_index+N]>0 else 0)"
   ],
   "metadata": {
    "collapsed": false,
    "pycharm": {
     "name": "#%%\n"
    }
   }
  },
  {
   "cell_type": "code",
   "execution_count": 382,
   "outputs": [],
   "source": [
    "new_sequences = np.array(new_sequences)"
   ],
   "metadata": {
    "collapsed": false,
    "pycharm": {
     "name": "#%%\n"
    }
   }
  },
  {
   "cell_type": "code",
   "execution_count": 383,
   "outputs": [
    {
     "name": "stdout",
     "output_type": "stream",
     "text": [
      "[[1 0 4 ... 2 2 1]\n",
      " [7 2 2 ... 0 0 0]\n",
      " [4 1 8 ... 0 0 0]\n",
      " ...\n",
      " [2 5 4 ... 1 4 0]\n",
      " [1 0 0 ... 1 3 2]\n",
      " [1 1 0 ... 0 0 1]]\n"
     ]
    }
   ],
   "source": [
    "print(new_sequences)"
   ],
   "metadata": {
    "collapsed": false,
    "pycharm": {
     "name": "#%%\n"
    }
   }
  },
  {
   "cell_type": "code",
   "execution_count": 384,
   "outputs": [],
   "source": [
    "Y = np.array(labels)"
   ],
   "metadata": {
    "collapsed": false,
    "pycharm": {
     "name": "#%%\n"
    }
   }
  },
  {
   "cell_type": "code",
   "execution_count": 385,
   "outputs": [
    {
     "name": "stdout",
     "output_type": "stream",
     "text": [
      "[[[ 1]\n",
      "  [ 0]\n",
      "  [ 4]\n",
      "  [ 1]\n",
      "  [ 0]\n",
      "  [ 0]\n",
      "  [ 0]\n",
      "  [ 0]\n",
      "  [ 1]\n",
      "  [ 2]\n",
      "  [ 2]\n",
      "  [ 1]\n",
      "  [ 0]\n",
      "  [ 1]\n",
      "  [ 1]\n",
      "  [ 0]\n",
      "  [ 0]\n",
      "  [ 0]\n",
      "  [ 0]\n",
      "  [ 3]\n",
      "  [ 2]\n",
      "  [ 0]\n",
      "  [ 0]\n",
      "  [ 0]\n",
      "  [ 7]\n",
      "  [ 0]\n",
      "  [ 0]\n",
      "  [ 2]\n",
      "  [ 2]\n",
      "  [ 1]]\n",
      "\n",
      " [[ 7]\n",
      "  [ 2]\n",
      "  [ 2]\n",
      "  [ 0]\n",
      "  [ 8]\n",
      "  [ 0]\n",
      "  [ 8]\n",
      "  [ 1]\n",
      "  [ 3]\n",
      "  [19]\n",
      "  [ 0]\n",
      "  [ 1]\n",
      "  [ 0]\n",
      "  [ 1]\n",
      "  [ 2]\n",
      "  [ 0]\n",
      "  [ 0]\n",
      "  [ 0]\n",
      "  [ 0]\n",
      "  [ 0]\n",
      "  [ 0]\n",
      "  [ 0]\n",
      "  [ 0]\n",
      "  [ 0]\n",
      "  [ 0]\n",
      "  [ 0]\n",
      "  [ 0]\n",
      "  [ 0]\n",
      "  [ 0]\n",
      "  [ 0]]]\n"
     ]
    }
   ],
   "source": [
    "n_features = 1\n",
    "X = new_sequences.reshape((new_sequences.shape[0], new_sequences.shape[1], n_features))\n",
    "print(X[:2])"
   ],
   "metadata": {
    "collapsed": false,
    "pycharm": {
     "name": "#%%\n"
    }
   }
  },
  {
   "cell_type": "code",
   "execution_count": 386,
   "outputs": [
    {
     "data": {
      "text/plain": "(9881, 30, 1)"
     },
     "execution_count": 386,
     "metadata": {},
     "output_type": "execute_result"
    }
   ],
   "source": [
    "X.shape"
   ],
   "metadata": {
    "collapsed": false,
    "pycharm": {
     "name": "#%%\n"
    }
   }
  },
  {
   "cell_type": "code",
   "execution_count": 387,
   "outputs": [],
   "source": [
    "Ntest = 1500\n",
    "Xtrain = X[:-Ntest]\n",
    "Xtest = X[-Ntest:]\n",
    "Ytrain = Y[:-Ntest]\n",
    "Ytest = Y[-Ntest:]"
   ],
   "metadata": {
    "collapsed": false,
    "pycharm": {
     "name": "#%%\n"
    }
   }
  },
  {
   "cell_type": "code",
   "execution_count": 388,
   "outputs": [
    {
     "data": {
      "text/plain": "array([1, 0, 0, ..., 1, 1, 1])"
     },
     "execution_count": 388,
     "metadata": {},
     "output_type": "execute_result"
    }
   ],
   "source": [
    "Ytrain"
   ],
   "metadata": {
    "collapsed": false,
    "pycharm": {
     "name": "#%%\n"
    }
   }
  },
  {
   "cell_type": "code",
   "execution_count": 389,
   "outputs": [],
   "source": [
    "# optimal number of units\n",
    "# n_units = Xtrain.shape[0]/(2*())"
   ],
   "metadata": {
    "collapsed": false,
    "pycharm": {
     "name": "#%%\n"
    }
   }
  },
  {
   "cell_type": "code",
   "execution_count": 399,
   "outputs": [],
   "source": [
    "T = N\n",
    "D = 1\n",
    "K = 2"
   ],
   "metadata": {
    "collapsed": false,
    "pycharm": {
     "name": "#%%\n"
    }
   }
  },
  {
   "cell_type": "code",
   "execution_count": 400,
   "outputs": [],
   "source": [
    "i = Input(shape=(T,D))\n",
    "x = LSTM(24, return_sequences=True)(i)\n",
    "x = LSTM(24, return_sequences=True)(x)\n",
    "x = GlobalMaxPooling1D()(x)\n",
    "x = Dense(K)(x)\n",
    "model = Model(i, x)"
   ],
   "metadata": {
    "collapsed": false,
    "pycharm": {
     "name": "#%%\n"
    }
   }
  },
  {
   "cell_type": "code",
   "execution_count": 401,
   "outputs": [],
   "source": [
    "# i = Input(shape=(30,1))\n",
    "# x = LSTM(32, return_sequences=True)(i)\n",
    "# x = GlobalMaxPooling1D()(x)\n",
    "# x = Dense(2)(x)\n",
    "# model = Model(i,x)"
   ],
   "metadata": {
    "collapsed": false,
    "pycharm": {
     "name": "#%%\n"
    }
   }
  },
  {
   "cell_type": "code",
   "execution_count": 402,
   "outputs": [
    {
     "name": "stdout",
     "output_type": "stream",
     "text": [
      "Model: \"model_17\"\n",
      "_________________________________________________________________\n",
      " Layer (type)                Output Shape              Param #   \n",
      "=================================================================\n",
      " input_19 (InputLayer)       [(None, 30, 1)]           0         \n",
      "                                                                 \n",
      " lstm_19 (LSTM)              (None, 30, 24)            2496      \n",
      "                                                                 \n",
      " lstm_20 (LSTM)              (None, 30, 24)            4704      \n",
      "                                                                 \n",
      " global_max_pooling1d_17 (Gl  (None, 24)               0         \n",
      " obalMaxPooling1D)                                               \n",
      "                                                                 \n",
      " dense_18 (Dense)            (None, 2)                 50        \n",
      "                                                                 \n",
      "=================================================================\n",
      "Total params: 7,250\n",
      "Trainable params: 7,250\n",
      "Non-trainable params: 0\n",
      "_________________________________________________________________\n"
     ]
    }
   ],
   "source": [
    "model.summary()"
   ],
   "metadata": {
    "collapsed": false,
    "pycharm": {
     "name": "#%%\n"
    }
   }
  },
  {
   "cell_type": "code",
   "execution_count": 403,
   "outputs": [
    {
     "data": {
      "image/png": "[encoded data removed]",
      "text/plain": "<IPython.core.display.Image object>"
     },
     "execution_count": 403,
     "metadata": {},
     "output_type": "execute_result"
    }
   ],
   "source": [
    "tf.keras.utils.plot_model(model)"
   ],
   "metadata": {
    "collapsed": false,
    "pycharm": {
     "name": "#%%\n"
    }
   }
  },
  {
   "cell_type": "code",
   "execution_count": 404,
   "outputs": [],
   "source": [
    "check_point = ModelCheckpoint(\n",
    "    'best_model.h5', monitor='val_loss', save_best_only=True\n",
    ")"
   ],
   "metadata": {
    "collapsed": false,
    "pycharm": {
     "name": "#%%\n"
    }
   }
  },
  {
   "cell_type": "code",
   "execution_count": 405,
   "outputs": [
    {
     "data": {
      "text/plain": "<Figure size 432x288 with 1 Axes>",
      "image/png": "[encoded data removed]"
     },
     "metadata": {
      "needs_background": "light"
     },
     "output_type": "display_data"
    }
   ],
   "source": [
    "plt.plot(Xtrain[2000, :, :]);"
   ],
   "metadata": {
    "collapsed": false,
    "pycharm": {
     "name": "#%%\n"
    }
   }
  },
  {
   "cell_type": "code",
   "execution_count": 406,
   "outputs": [],
   "source": [
    "model.compile(\n",
    "    loss=SparseCategoricalCrossentropy(from_logits=True),\n",
    "    optimizer='adam',\n",
    "    metrics=['accuracy']\n",
    ")\n",
    "# The from_logits=True attribute inform the loss function that the output values generated by the model are not normalized, a.k.a. logits. In other words, the softmax function has not been applied on them to produce a probability distribution. The softmax function would be automatically applied on the output values by the loss function. Therefore, this does not make a difference with the scenario when you use from_logits=False (default) and a softmax activation function on last layer; however, in some cases, this might help with numerical stability during training of the model."
   ],
   "metadata": {
    "collapsed": false,
    "pycharm": {
     "name": "#%%\n"
    }
   }
  },
  {
   "cell_type": "code",
   "execution_count": 407,
   "outputs": [
    {
     "name": "stdout",
     "output_type": "stream",
     "text": [
      "Epoch 1/50\n",
      "WARNING:tensorflow:AutoGraph could not transform <function Model.make_train_function.<locals>.train_function at 0x7fd658a5ce60> and will run it as-is.\n",
      "Please report this to the TensorFlow team. When filing the bug, set the verbosity to 10 (on Linux, `export AUTOGRAPH_VERBOSITY=10`) and attach the full output.\n",
      "Cause: 'arguments' object has no attribute 'posonlyargs'\n",
      "To silence this warning, decorate the function with @tf.autograph.experimental.do_not_convert\n",
      "WARNING: AutoGraph could not transform <function Model.make_train_function.<locals>.train_function at 0x7fd658a5ce60> and will run it as-is.\n",
      "Please report this to the TensorFlow team. When filing the bug, set the verbosity to 10 (on Linux, `export AUTOGRAPH_VERBOSITY=10`) and attach the full output.\n",
      "Cause: 'arguments' object has no attribute 'posonlyargs'\n",
      "To silence this warning, decorate the function with @tf.autograph.experimental.do_not_convert\n",
      "259/262 [============================>.] - ETA: 0s - loss: 0.5835 - accuracy: 0.6675WARNING:tensorflow:AutoGraph could not transform <function Model.make_test_function.<locals>.test_function at 0x7fd65991f3b0> and will run it as-is.\n",
      "Please report this to the TensorFlow team. When filing the bug, set the verbosity to 10 (on Linux, `export AUTOGRAPH_VERBOSITY=10`) and attach the full output.\n",
      "Cause: 'arguments' object has no attribute 'posonlyargs'\n",
      "To silence this warning, decorate the function with @tf.autograph.experimental.do_not_convert\n",
      "WARNING: AutoGraph could not transform <function Model.make_test_function.<locals>.test_function at 0x7fd65991f3b0> and will run it as-is.\n",
      "Please report this to the TensorFlow team. When filing the bug, set the verbosity to 10 (on Linux, `export AUTOGRAPH_VERBOSITY=10`) and attach the full output.\n",
      "Cause: 'arguments' object has no attribute 'posonlyargs'\n",
      "To silence this warning, decorate the function with @tf.autograph.experimental.do_not_convert\n",
      "262/262 [==============================] - 9s 20ms/step - loss: 0.5826 - accuracy: 0.6690 - val_loss: 0.5273 - val_accuracy: 0.7273\n",
      "Epoch 2/50\n",
      "262/262 [==============================] - 4s 16ms/step - loss: 0.4876 - accuracy: 0.7616 - val_loss: 0.4963 - val_accuracy: 0.7613\n",
      "Epoch 3/50\n",
      "262/262 [==============================] - 4s 15ms/step - loss: 0.4591 - accuracy: 0.7858 - val_loss: 0.4492 - val_accuracy: 0.7987\n",
      "Epoch 4/50\n",
      "262/262 [==============================] - 4s 15ms/step - loss: 0.4502 - accuracy: 0.7900 - val_loss: 0.4517 - val_accuracy: 0.8087\n",
      "Epoch 5/50\n",
      "262/262 [==============================] - 4s 15ms/step - loss: 0.4342 - accuracy: 0.8099 - val_loss: 0.4477 - val_accuracy: 0.8060\n",
      "Epoch 6/50\n",
      "262/262 [==============================] - 4s 16ms/step - loss: 0.4250 - accuracy: 0.8114 - val_loss: 0.4287 - val_accuracy: 0.8153\n",
      "Epoch 7/50\n",
      "262/262 [==============================] - 4s 16ms/step - loss: 0.4155 - accuracy: 0.8183 - val_loss: 0.4244 - val_accuracy: 0.8053\n",
      "Epoch 8/50\n",
      "262/262 [==============================] - 4s 16ms/step - loss: 0.4195 - accuracy: 0.8151 - val_loss: 0.4393 - val_accuracy: 0.8147\n",
      "Epoch 9/50\n",
      "262/262 [==============================] - 4s 16ms/step - loss: 0.4053 - accuracy: 0.8225 - val_loss: 0.4090 - val_accuracy: 0.8213\n",
      "Epoch 10/50\n",
      "262/262 [==============================] - 4s 16ms/step - loss: 0.3965 - accuracy: 0.8327 - val_loss: 0.4234 - val_accuracy: 0.8307\n",
      "Epoch 11/50\n",
      "262/262 [==============================] - 4s 15ms/step - loss: 0.3954 - accuracy: 0.8301 - val_loss: 0.3954 - val_accuracy: 0.8287\n",
      "Epoch 12/50\n",
      "262/262 [==============================] - 5s 17ms/step - loss: 0.3933 - accuracy: 0.8278 - val_loss: 0.3893 - val_accuracy: 0.8307\n",
      "Epoch 13/50\n",
      "262/262 [==============================] - 5s 19ms/step - loss: 0.3809 - accuracy: 0.8368 - val_loss: 0.3872 - val_accuracy: 0.8293\n",
      "Epoch 14/50\n",
      "262/262 [==============================] - 5s 19ms/step - loss: 0.3738 - accuracy: 0.8460 - val_loss: 0.3752 - val_accuracy: 0.8407\n",
      "Epoch 15/50\n",
      "262/262 [==============================] - 5s 18ms/step - loss: 0.3641 - accuracy: 0.8501 - val_loss: 0.3695 - val_accuracy: 0.8473\n",
      "Epoch 16/50\n",
      "262/262 [==============================] - 4s 17ms/step - loss: 0.3674 - accuracy: 0.8473 - val_loss: 0.3615 - val_accuracy: 0.8487\n",
      "Epoch 17/50\n",
      "262/262 [==============================] - 5s 21ms/step - loss: 0.3589 - accuracy: 0.8535 - val_loss: 0.3510 - val_accuracy: 0.8513\n",
      "Epoch 18/50\n",
      "262/262 [==============================] - 5s 17ms/step - loss: 0.3539 - accuracy: 0.8522 - val_loss: 0.3526 - val_accuracy: 0.8573\n",
      "Epoch 19/50\n",
      "262/262 [==============================] - 5s 19ms/step - loss: 0.3580 - accuracy: 0.8497 - val_loss: 0.3480 - val_accuracy: 0.8487\n",
      "Epoch 20/50\n",
      "262/262 [==============================] - 4s 17ms/step - loss: 0.3404 - accuracy: 0.8587 - val_loss: 0.3442 - val_accuracy: 0.8607\n",
      "Epoch 21/50\n",
      "262/262 [==============================] - 5s 19ms/step - loss: 0.3394 - accuracy: 0.8610 - val_loss: 0.3337 - val_accuracy: 0.8653\n",
      "Epoch 22/50\n",
      "262/262 [==============================] - 4s 17ms/step - loss: 0.3310 - accuracy: 0.8642 - val_loss: 0.3378 - val_accuracy: 0.8607\n",
      "Epoch 23/50\n",
      "262/262 [==============================] - 5s 19ms/step - loss: 0.3269 - accuracy: 0.8659 - val_loss: 0.3232 - val_accuracy: 0.8607\n",
      "Epoch 24/50\n",
      "262/262 [==============================] - 5s 21ms/step - loss: 0.3181 - accuracy: 0.8699 - val_loss: 0.3345 - val_accuracy: 0.8480\n",
      "Epoch 25/50\n",
      "262/262 [==============================] - 5s 20ms/step - loss: 0.3230 - accuracy: 0.8668 - val_loss: 0.3195 - val_accuracy: 0.8620\n",
      "Epoch 26/50\n",
      "262/262 [==============================] - 6s 21ms/step - loss: 0.3098 - accuracy: 0.8741 - val_loss: 0.3201 - val_accuracy: 0.8633\n",
      "Epoch 27/50\n",
      "262/262 [==============================] - 5s 19ms/step - loss: 0.3086 - accuracy: 0.8722 - val_loss: 0.3179 - val_accuracy: 0.8647\n",
      "Epoch 28/50\n",
      "262/262 [==============================] - 5s 19ms/step - loss: 0.3043 - accuracy: 0.8748 - val_loss: 0.3081 - val_accuracy: 0.8640\n",
      "Epoch 29/50\n",
      "262/262 [==============================] - 4s 16ms/step - loss: 0.3007 - accuracy: 0.8746 - val_loss: 0.3117 - val_accuracy: 0.8707\n",
      "Epoch 30/50\n",
      "262/262 [==============================] - 4s 15ms/step - loss: 0.2953 - accuracy: 0.8785 - val_loss: 0.2979 - val_accuracy: 0.8700\n",
      "Epoch 31/50\n",
      "262/262 [==============================] - 4s 15ms/step - loss: 0.2897 - accuracy: 0.8798 - val_loss: 0.3036 - val_accuracy: 0.8713\n",
      "Epoch 32/50\n",
      "262/262 [==============================] - 4s 15ms/step - loss: 0.2867 - accuracy: 0.8821 - val_loss: 0.3139 - val_accuracy: 0.8627\n",
      "Epoch 33/50\n",
      "262/262 [==============================] - 4s 15ms/step - loss: 0.2816 - accuracy: 0.8814 - val_loss: 0.2970 - val_accuracy: 0.8647\n",
      "Epoch 34/50\n",
      "262/262 [==============================] - 4s 15ms/step - loss: 0.2704 - accuracy: 0.8887 - val_loss: 0.3107 - val_accuracy: 0.8680\n",
      "Epoch 35/50\n",
      "262/262 [==============================] - 4s 15ms/step - loss: 0.2694 - accuracy: 0.8911 - val_loss: 0.3015 - val_accuracy: 0.8700\n",
      "Epoch 36/50\n",
      "262/262 [==============================] - 4s 15ms/step - loss: 0.2719 - accuracy: 0.8864 - val_loss: 0.2919 - val_accuracy: 0.8747\n",
      "Epoch 37/50\n",
      "262/262 [==============================] - 4s 15ms/step - loss: 0.2691 - accuracy: 0.8876 - val_loss: 0.2982 - val_accuracy: 0.8667\n",
      "Epoch 38/50\n",
      "262/262 [==============================] - 4s 15ms/step - loss: 0.2595 - accuracy: 0.8940 - val_loss: 0.2828 - val_accuracy: 0.8733\n",
      "Epoch 39/50\n",
      "262/262 [==============================] - 4s 15ms/step - loss: 0.2550 - accuracy: 0.8954 - val_loss: 0.2747 - val_accuracy: 0.8827\n",
      "Epoch 40/50\n",
      "262/262 [==============================] - 4s 15ms/step - loss: 0.2513 - accuracy: 0.8966 - val_loss: 0.2734 - val_accuracy: 0.8880\n",
      "Epoch 41/50\n",
      "262/262 [==============================] - 4s 15ms/step - loss: 0.2481 - accuracy: 0.8995 - val_loss: 0.2777 - val_accuracy: 0.8847\n",
      "Epoch 42/50\n",
      "262/262 [==============================] - 4s 15ms/step - loss: 0.2434 - accuracy: 0.9043 - val_loss: 0.2719 - val_accuracy: 0.8847\n",
      "Epoch 43/50\n",
      "262/262 [==============================] - 4s 16ms/step - loss: 0.2443 - accuracy: 0.9035 - val_loss: 0.2756 - val_accuracy: 0.8787\n",
      "Epoch 44/50\n",
      "262/262 [==============================] - 4s 15ms/step - loss: 0.2429 - accuracy: 0.9011 - val_loss: 0.2947 - val_accuracy: 0.8753\n",
      "Epoch 45/50\n",
      "262/262 [==============================] - 4s 15ms/step - loss: 0.2446 - accuracy: 0.8981 - val_loss: 0.2823 - val_accuracy: 0.8800\n",
      "Epoch 46/50\n",
      "262/262 [==============================] - 4s 15ms/step - loss: 0.2384 - accuracy: 0.9042 - val_loss: 0.2701 - val_accuracy: 0.8840\n",
      "Epoch 47/50\n",
      "262/262 [==============================] - 4s 14ms/step - loss: 0.2271 - accuracy: 0.9055 - val_loss: 0.2728 - val_accuracy: 0.8867\n",
      "Epoch 48/50\n",
      "262/262 [==============================] - 4s 15ms/step - loss: 0.2291 - accuracy: 0.9066 - val_loss: 0.2645 - val_accuracy: 0.8840\n",
      "Epoch 49/50\n",
      "262/262 [==============================] - 4s 15ms/step - loss: 0.2417 - accuracy: 0.8987 - val_loss: 0.2523 - val_accuracy: 0.8960\n",
      "Epoch 50/50\n",
      "262/262 [==============================] - 4s 15ms/step - loss: 0.2186 - accuracy: 0.9118 - val_loss: 0.2525 - val_accuracy: 0.8947\n"
     ]
    }
   ],
   "source": [
    "r = model.fit(\n",
    "    Xtrain,\n",
    "    Ytrain,\n",
    "    epochs=50,\n",
    "    callbacks=[check_point],\n",
    "    validation_data=(Xtest, Ytest)\n",
    ")"
   ],
   "metadata": {
    "collapsed": false,
    "pycharm": {
     "name": "#%%\n"
    }
   }
  },
  {
   "cell_type": "code",
   "execution_count": 408,
   "outputs": [
    {
     "data": {
      "text/plain": "<Figure size 432x288 with 1 Axes>",
      "image/png": "[encoded data removed]"
     },
     "metadata": {
      "needs_background": "light"
     },
     "output_type": "display_data"
    }
   ],
   "source": [
    "plt.plot(r.history['loss'], label='train loss')\n",
    "plt.plot(r.history['val_loss'], label='test loss')\n",
    "plt.legend();"
   ],
   "metadata": {
    "collapsed": false,
    "pycharm": {
     "name": "#%%\n"
    }
   }
  },
  {
   "cell_type": "code",
   "execution_count": 409,
   "outputs": [
    {
     "data": {
      "text/plain": "<Figure size 432x288 with 1 Axes>",
      "image/png": "[encoded data removed]"
     },
     "metadata": {
      "needs_background": "light"
     },
     "output_type": "display_data"
    }
   ],
   "source": [
    "plt.plot(r.history['accuracy'], label='train acc')\n",
    "plt.plot(r.history['val_accuracy'], label='test acc')\n",
    "plt.legend();"
   ],
   "metadata": {
    "collapsed": false,
    "pycharm": {
     "name": "#%%\n"
    }
   }
  },
  {
   "cell_type": "code",
   "execution_count": 410,
   "outputs": [],
   "source": [
    "# load best model\n",
    "best_model = tf.keras.models.load_model('best_model.h5')"
   ],
   "metadata": {
    "collapsed": false,
    "pycharm": {
     "name": "#%%\n"
    }
   }
  },
  {
   "cell_type": "code",
   "execution_count": 411,
   "outputs": [
    {
     "name": "stdout",
     "output_type": "stream",
     "text": [
      "WARNING:tensorflow:AutoGraph could not transform <function Model.make_predict_function.<locals>.predict_function at 0x7fd65a37af80> and will run it as-is.\n",
      "Please report this to the TensorFlow team. When filing the bug, set the verbosity to 10 (on Linux, `export AUTOGRAPH_VERBOSITY=10`) and attach the full output.\n",
      "Cause: 'arguments' object has no attribute 'posonlyargs'\n",
      "To silence this warning, decorate the function with @tf.autograph.experimental.do_not_convert\n",
      "WARNING: AutoGraph could not transform <function Model.make_predict_function.<locals>.predict_function at 0x7fd65a37af80> and will run it as-is.\n",
      "Please report this to the TensorFlow team. When filing the bug, set the verbosity to 10 (on Linux, `export AUTOGRAPH_VERBOSITY=10`) and attach the full output.\n",
      "Cause: 'arguments' object has no attribute 'posonlyargs'\n",
      "To silence this warning, decorate the function with @tf.autograph.experimental.do_not_convert\n",
      "47/47 [==============================] - 1s 4ms/step\n"
     ]
    }
   ],
   "source": [
    "# make predictions\n",
    "Ptest = best_model.predict(Xtest)"
   ],
   "metadata": {
    "collapsed": false,
    "pycharm": {
     "name": "#%%\n"
    }
   }
  },
  {
   "cell_type": "code",
   "execution_count": 412,
   "outputs": [
    {
     "data": {
      "text/plain": "array([[ 2.9418242 , -3.3591683 ],\n       [ 1.3524264 , -2.091523  ],\n       [ 2.3247604 , -3.096203  ],\n       ...,\n       [-0.93482924, -0.08852847],\n       [-1.9133828 ,  0.81926167],\n       [ 0.67106783, -0.57344556]], dtype=float32)"
     },
     "execution_count": 412,
     "metadata": {},
     "output_type": "execute_result"
    }
   ],
   "source": [
    "Ptest"
   ],
   "metadata": {
    "collapsed": false,
    "pycharm": {
     "name": "#%%\n"
    }
   }
  },
  {
   "cell_type": "code",
   "execution_count": 413,
   "outputs": [
    {
     "data": {
      "text/plain": "array([0, 0, 0, ..., 1, 1, 0])"
     },
     "execution_count": 413,
     "metadata": {},
     "output_type": "execute_result"
    }
   ],
   "source": [
    "np.argmax(Ptest, axis=1)"
   ],
   "metadata": {
    "collapsed": false,
    "pycharm": {
     "name": "#%%\n"
    }
   }
  },
  {
   "cell_type": "code",
   "execution_count": 414,
   "outputs": [
    {
     "data": {
      "text/plain": "0.896"
     },
     "execution_count": 414,
     "metadata": {},
     "output_type": "execute_result"
    }
   ],
   "source": [
    "# evaluate\n",
    "np.mean(np.argmax(Ptest, axis=1) == Ytest)"
   ],
   "metadata": {
    "collapsed": false,
    "pycharm": {
     "name": "#%%\n"
    }
   }
  },
  {
   "cell_type": "code",
   "execution_count": 415,
   "outputs": [
    {
     "data": {
      "text/plain": "array([0, 0, 0, ..., 1, 1, 0])"
     },
     "execution_count": 415,
     "metadata": {},
     "output_type": "execute_result"
    }
   ],
   "source": [
    "Ytest"
   ],
   "metadata": {
    "collapsed": false,
    "pycharm": {
     "name": "#%%\n"
    }
   }
  },
  {
   "cell_type": "code",
   "execution_count": 416,
   "outputs": [
    {
     "data": {
      "text/plain": "array([0, 0, 0, ..., 1, 1, 0])"
     },
     "execution_count": 416,
     "metadata": {},
     "output_type": "execute_result"
    }
   ],
   "source": [
    "np.argmax(Ptest, axis=1)"
   ],
   "metadata": {
    "collapsed": false,
    "pycharm": {
     "name": "#%%\n"
    }
   }
  },
  {
   "cell_type": "code",
   "execution_count": 417,
   "outputs": [
    {
     "name": "stdout",
     "output_type": "stream",
     "text": [
      "Accuracy: 0.896\n",
      "Confusion Matrix\n",
      "[[735  96]\n",
      " [ 60 609]]\n",
      "Classification Report\n",
      "              precision    recall  f1-score   support\n",
      "\n",
      "           0       0.92      0.88      0.90       831\n",
      "           1       0.86      0.91      0.89       669\n",
      "\n",
      "    accuracy                           0.90      1500\n",
      "   macro avg       0.89      0.90      0.90      1500\n",
      "weighted avg       0.90      0.90      0.90      1500\n",
      "\n"
     ]
    }
   ],
   "source": [
    "# Print results:\n",
    "from sklearn.metrics import classification_report, confusion_matrix, accuracy_score\n",
    "print(f'Accuracy: {accuracy_score(Ytest, np.argmax(Ptest, axis=1))}')\n",
    "print('Confusion Matrix')\n",
    "print(confusion_matrix(Ytest, np.argmax(Ptest, axis=1)))\n",
    "print('Classification Report')\n",
    "print(classification_report(Ytest, np.argmax(Ptest, axis=1)))"
   ],
   "metadata": {
    "collapsed": false,
    "pycharm": {
     "name": "#%%\n"
    }
   }
  },
  {
   "cell_type": "code",
   "execution_count": 418,
   "outputs": [],
   "source": [
    "# sequences for evaluation (from the third not 0 element)\n",
    "eval_sequences = []\n",
    "eval_labels = []\n",
    "for sequence in initlal_sequences:\n",
    "    number_of_accesses = sum(sequence)\n",
    "    # skip not popular datasets\n",
    "    if number_of_accesses > 30:\n",
    "        try:\n",
    "            new_index = [index for index,item in enumerate(sequence) if item > 0][1]\n",
    "            if len(sequence[new_index:]) > N+1:\n",
    "                new_sequence = sequence[new_index:new_index+N]\n",
    "                eval_sequences.append(new_sequence)\n",
    "                eval_labels.append(1 if sequence[new_index+N]>0 else 0)\n",
    "        except:\n",
    "            continue"
   ],
   "metadata": {
    "collapsed": false,
    "pycharm": {
     "name": "#%%\n"
    }
   }
  },
  {
   "cell_type": "code",
   "execution_count": 419,
   "outputs": [],
   "source": [
    "eval_sequences = np.array(eval_sequences)\n",
    "eval_sequences = eval_sequences.reshape((eval_sequences.shape[0], eval_sequences.shape[1], 1))"
   ],
   "metadata": {
    "collapsed": false,
    "pycharm": {
     "name": "#%%\n"
    }
   }
  },
  {
   "cell_type": "code",
   "execution_count": 420,
   "outputs": [
    {
     "name": "stdout",
     "output_type": "stream",
     "text": [
      "[[[4]\n",
      "  [1]\n",
      "  [0]\n",
      "  ...\n",
      "  [1]\n",
      "  [1]\n",
      "  [0]]\n",
      "\n",
      " [[2]\n",
      "  [2]\n",
      "  [0]\n",
      "  ...\n",
      "  [0]\n",
      "  [0]\n",
      "  [0]]\n",
      "\n",
      " [[1]\n",
      "  [8]\n",
      "  [0]\n",
      "  ...\n",
      "  [0]\n",
      "  [0]\n",
      "  [0]]\n",
      "\n",
      " ...\n",
      "\n",
      " [[5]\n",
      "  [4]\n",
      "  [1]\n",
      "  ...\n",
      "  [4]\n",
      "  [0]\n",
      "  [2]]\n",
      "\n",
      " [[2]\n",
      "  [1]\n",
      "  [0]\n",
      "  ...\n",
      "  [4]\n",
      "  [0]\n",
      "  [4]]\n",
      "\n",
      " [[1]\n",
      "  [0]\n",
      "  [0]\n",
      "  ...\n",
      "  [0]\n",
      "  [1]\n",
      "  [0]]]\n"
     ]
    }
   ],
   "source": [
    "print(eval_sequences)"
   ],
   "metadata": {
    "collapsed": false,
    "pycharm": {
     "name": "#%%\n"
    }
   }
  },
  {
   "cell_type": "code",
   "execution_count": 421,
   "outputs": [],
   "source": [
    "eval_labels = np.array(eval_labels)"
   ],
   "metadata": {
    "collapsed": false,
    "pycharm": {
     "name": "#%%\n"
    }
   }
  },
  {
   "cell_type": "code",
   "execution_count": 422,
   "outputs": [
    {
     "name": "stdout",
     "output_type": "stream",
     "text": [
      "309/309 [==============================] - 1s 4ms/step\n"
     ]
    }
   ],
   "source": [
    "pred_y_eval = best_model.predict(eval_sequences)"
   ],
   "metadata": {
    "collapsed": false,
    "pycharm": {
     "name": "#%%\n"
    }
   }
  },
  {
   "cell_type": "code",
   "execution_count": 423,
   "outputs": [
    {
     "data": {
      "text/plain": "0.7271531221536282"
     },
     "execution_count": 423,
     "metadata": {},
     "output_type": "execute_result"
    }
   ],
   "source": [
    "# evaluate\n",
    "np.mean(np.argmax(pred_y_eval, axis=1) == eval_labels)"
   ],
   "metadata": {
    "collapsed": false,
    "pycharm": {
     "name": "#%%\n"
    }
   }
  },
  {
   "cell_type": "code",
   "execution_count": 424,
   "outputs": [
    {
     "name": "stdout",
     "output_type": "stream",
     "text": [
      "Accuracy: 0.7271531221536282\n",
      "Confusion Matrix\n",
      "[[4140 1456]\n",
      " [1240 3045]]\n",
      "Classification Report\n",
      "              precision    recall  f1-score   support\n",
      "\n",
      "           0       0.77      0.74      0.75      5596\n",
      "           1       0.68      0.71      0.69      4285\n",
      "\n",
      "    accuracy                           0.73      9881\n",
      "   macro avg       0.72      0.73      0.72      9881\n",
      "weighted avg       0.73      0.73      0.73      9881\n",
      "\n"
     ]
    }
   ],
   "source": [
    "print(f'Accuracy: {accuracy_score(eval_labels, np.argmax(pred_y_eval, axis=1))}')\n",
    "print('Confusion Matrix')\n",
    "print(confusion_matrix(eval_labels, np.argmax(pred_y_eval, axis=1)))\n",
    "print('Classification Report')\n",
    "print(classification_report(eval_labels, np.argmax(pred_y_eval, axis=1)))"
   ],
   "metadata": {
    "collapsed": false,
    "pycharm": {
     "name": "#%%\n"
    }
   }
  },
  {
   "cell_type": "code",
   "execution_count": null,
   "outputs": [],
   "source": [],
   "metadata": {
    "collapsed": false,
    "pycharm": {
     "name": "#%%\n"
    }
   }
  }
 ],
 "metadata": {
  "kernelspec": {
   "display_name": "Python 3",
   "language": "python",
   "name": "python3"
  },
  "language_info": {
   "codemirror_mode": {
    "name": "ipython",
    "version": 2
   },
   "file_extension": ".py",
   "mimetype": "text/x-python",
   "name": "python",
   "nbconvert_exporter": "python",
   "pygments_lexer": "ipython2",
   "version": "2.7.6"
  }
 },
 "nbformat": 4,
 "nbformat_minor": 0
}