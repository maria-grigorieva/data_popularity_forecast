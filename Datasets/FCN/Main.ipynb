{
 "cells": [
  {
   "cell_type": "markdown",
   "metadata": {},
   "source": [
    "## 0. Libraries + meta params"
   ]
  },
  {
   "cell_type": "markdown",
   "metadata": {},
   "source": [
    "#### Libraries"
   ]
  },
  {
   "cell_type": "code",
   "execution_count": 1,
   "metadata": {},
   "outputs": [],
   "source": [
    "%load_ext autoreload\n",
    "%autoreload 2"
   ]
  },
  {
   "cell_type": "code",
   "execution_count": 1,
   "metadata": {},
   "outputs": [
    {
     "name": "stderr",
     "output_type": "stream",
     "text": [
      "/home/wrongwizzli/anaconda3/envs/torch/lib/python3.9/site-packages/scipy/__init__.py:146: UserWarning: A NumPy version >=1.16.5 and <1.23.0 is required for this version of SciPy (detected version 1.23.4\n",
      "  warnings.warn(f\"A NumPy version >={np_minversion} and <{np_maxversion}\"\n",
      "/home/wrongwizzli/anaconda3/envs/torch/lib/python3.9/site-packages/tqdm/auto.py:22: TqdmWarning: IProgress not found. Please update jupyter and ipywidgets. See https://ipywidgets.readthedocs.io/en/stable/user_install.html\n",
      "  from .autonotebook import tqdm as notebook_tqdm\n"
     ]
    }
   ],
   "source": [
    "import matplotlib.pyplot as plt\n",
    "import pandas as pd\n",
    "import numpy as np\n",
    "import datetime\n",
    "from sklearn.ensemble import RandomForestClassifier\n",
    "from sklearn.utils import shuffle\n",
    "from sklearn.model_selection import train_test_split\n",
    "from tqdm import tqdm\n",
    "\n",
    "import utils.data_processing as data_processing\n",
    "import utils.visualize as visualize\n",
    "import json\n",
    "import pprint\n",
    "import os\n",
    "\n",
    "import torch\n",
    "\n",
    "from IPython.display import clear_output\n",
    "from torchmetrics import ConfusionMatrix\n",
    "import seaborn as sns"
   ]
  },
  {
   "cell_type": "code",
   "execution_count": 2,
   "metadata": {},
   "outputs": [
    {
     "data": {
      "text/plain": [
       "'cuda'"
      ]
     },
     "execution_count": 2,
     "metadata": {},
     "output_type": "execute_result"
    }
   ],
   "source": [
    "device = \"cpu\"\n",
    "if torch.cuda.is_available():\n",
    "    device = \"cuda\"\n",
    "device"
   ]
  },
  {
   "cell_type": "markdown",
   "metadata": {},
   "source": [
    "#### Config setup"
   ]
  },
  {
   "cell_type": "code",
   "execution_count": 3,
   "metadata": {},
   "outputs": [],
   "source": [
    "config = json.load(open(\"config.json\", \"r\"))\n",
    "using_wide_seq = True"
   ]
  },
  {
   "cell_type": "code",
   "execution_count": 4,
   "metadata": {},
   "outputs": [],
   "source": [
    "if using_wide_seq:\n",
    "    ACTIVITY_THRESHOLD = config[\"activity_threshold_wide\"]\n",
    "    SEQUENCE_LENGTH = config[\"sequence_length_wide\"]\n",
    "else:\n",
    "    ACTIVITY_THRESHOLD = config[\"activity_threshold\"]\n",
    "    SEQUENCE_LENGTH = config[\"sequence_length\"]\n",
    "\n",
    "start_week = config[\"start_week\"]\n",
    "start_week = datetime.datetime.strptime(start_week, \"%d.%m.%Y\")\n",
    "\n",
    "data_path = os.path.join(\"./data\", config[\"dataset_filename\"])"
   ]
  },
  {
   "cell_type": "markdown",
   "metadata": {},
   "source": [
    "## 1. Read data"
   ]
  },
  {
   "cell_type": "code",
   "execution_count": 5,
   "metadata": {},
   "outputs": [
    {
     "data": {
      "text/html": [
       "<div>\n",
       "<style scoped>\n",
       "    .dataframe tbody tr th:only-of-type {\n",
       "        vertical-align: middle;\n",
       "    }\n",
       "\n",
       "    .dataframe tbody tr th {\n",
       "        vertical-align: top;\n",
       "    }\n",
       "\n",
       "    .dataframe thead th {\n",
       "        text-align: right;\n",
       "    }\n",
       "</style>\n",
       "<table border=\"1\" class=\"dataframe\">\n",
       "  <thead>\n",
       "    <tr style=\"text-align: right;\">\n",
       "      <th></th>\n",
       "      <th>datasetname</th>\n",
       "      <th>n_tasks</th>\n",
       "      <th>label</th>\n",
       "    </tr>\n",
       "  </thead>\n",
       "  <tbody>\n",
       "    <tr>\n",
       "      <th>0</th>\n",
       "      <td>mc16_13TeV:mc16_13TeV.300000.Pythia8BPhotospp_...</td>\n",
       "      <td>{0,0,0,0,0,0,0,0,0,0,0,0,0,0,0,0,0,0,0,0,0,0,0...</td>\n",
       "      <td>0</td>\n",
       "    </tr>\n",
       "    <tr>\n",
       "      <th>1</th>\n",
       "      <td>mc16_13TeV:mc16_13TeV.301000.PowhegPythia8EvtG...</td>\n",
       "      <td>{0,0,0,0,0,0,0,0,0,0,0,0,0,0,0,0,0,0,0,0,0,0,0...</td>\n",
       "      <td>0</td>\n",
       "    </tr>\n",
       "  </tbody>\n",
       "</table>\n",
       "</div>"
      ],
      "text/plain": [
       "                                         datasetname  \\\n",
       "0  mc16_13TeV:mc16_13TeV.300000.Pythia8BPhotospp_...   \n",
       "1  mc16_13TeV:mc16_13TeV.301000.PowhegPythia8EvtG...   \n",
       "\n",
       "                                             n_tasks  label  \n",
       "0  {0,0,0,0,0,0,0,0,0,0,0,0,0,0,0,0,0,0,0,0,0,0,0...      0  \n",
       "1  {0,0,0,0,0,0,0,0,0,0,0,0,0,0,0,0,0,0,0,0,0,0,0...      0  "
      ]
     },
     "execution_count": 5,
     "metadata": {},
     "output_type": "execute_result"
    }
   ],
   "source": [
    "df = pd.read_csv(data_path)\n",
    "df.head(2)"
   ]
  },
  {
   "cell_type": "code",
   "execution_count": 6,
   "metadata": {},
   "outputs": [],
   "source": [
    "def retrieve_sequence_from_string(n_tasks: str):\n",
    "    str_values = n_tasks[1:-1].split(',')\n",
    "    return [int(str_value) for str_value in str_values]\n",
    "\n",
    "\n",
    "list_sequences = df['n_tasks'].apply(retrieve_sequence_from_string).to_list()\n",
    "numpy_sequences = np.array(list_sequences)"
   ]
  },
  {
   "cell_type": "markdown",
   "metadata": {},
   "source": [
    "## 2. Preprocessing"
   ]
  },
  {
   "cell_type": "code",
   "execution_count": 97,
   "metadata": {},
   "outputs": [
    {
     "data": {
      "text/plain": [
       "(3885, 305)"
      ]
     },
     "execution_count": 97,
     "metadata": {},
     "output_type": "execute_result"
    }
   ],
   "source": [
    "active_datasets = numpy_sequences[numpy_sequences.sum(axis=1) > ACTIVITY_THRESHOLD]\n",
    "active_datasets.shape"
   ]
  },
  {
   "cell_type": "code",
   "execution_count": 98,
   "metadata": {},
   "outputs": [
    {
     "data": {
      "text/plain": [
       "((3302, 305), (583, 305))"
      ]
     },
     "execution_count": 98,
     "metadata": {},
     "output_type": "execute_result"
    }
   ],
   "source": [
    "train_data, test_data = train_test_split(active_datasets, test_size=0.15)\n",
    "train_data.shape, test_data.shape"
   ]
  },
  {
   "cell_type": "markdown",
   "metadata": {},
   "source": [
    "#### Get balanced by Y weeks from dataset"
   ]
  },
  {
   "cell_type": "markdown",
   "metadata": {},
   "source": [
    "##### Find balanced weeks"
   ]
  },
  {
   "cell_type": "code",
   "execution_count": 99,
   "metadata": {},
   "outputs": [
    {
     "name": "stderr",
     "output_type": "stream",
     "text": [
      "100%|██████████| 3885/3885 [00:02<00:00, 1378.87it/s]\n"
     ]
    }
   ],
   "source": [
    "is_full_zeros = np.zeros(active_datasets.shape)\n",
    "for i in tqdm(range(is_full_zeros.shape[0])):\n",
    "    for j in range(is_full_zeros.shape[1]):\n",
    "        left_idx = max(0, j - SEQUENCE_LENGTH - 1)\n",
    "        is_full_zeros[i, j] = (active_datasets[i, left_idx : (j + 1)].sum() == 0)\n",
    "        \n",
    "full_zeros_by_week = is_full_zeros.sum(axis=0)\n",
    "accesses_by_week = (active_datasets > 0).sum(axis=0)"
   ]
  },
  {
   "cell_type": "code",
   "execution_count": 100,
   "metadata": {},
   "outputs": [
    {
     "data": {
      "text/plain": [
       "<BarContainer object of 305 artists>"
      ]
     },
     "execution_count": 100,
     "metadata": {},
     "output_type": "execute_result"
    },
    {
     "data": {
      "image/png": "[encoded data removed]",
      "text/plain": [
       "<Figure size 576x288 with 2 Axes>"
      ]
     },
     "metadata": {
      "needs_background": "light"
     },
     "output_type": "display_data"
    }
   ],
   "source": [
    "accesses_by_week_freq = accesses_by_week / (active_datasets.shape[0] - full_zeros_by_week + 1e-8)\n",
    "accesses_by_week_freq = np.round(accesses_by_week_freq, 2)\n",
    "fig, ax = plt.subplots(nrows=1, ncols=2)\n",
    "fig.set_figheight(4)\n",
    "fig.set_figwidth(8)\n",
    "ax[0].bar(np.arange(accesses_by_week_freq.shape[0]), accesses_by_week_freq)\n",
    "ax[1].bar(np.arange(accesses_by_week_freq.shape[0]), accesses_by_week)"
   ]
  },
  {
   "cell_type": "code",
   "execution_count": 101,
   "metadata": {},
   "outputs": [
    {
     "data": {
      "text/plain": [
       "{datetime.datetime(2018, 7, 29, 0, 0): 0.59,\n",
       " datetime.datetime(2018, 8, 12, 0, 0): 0.56,\n",
       " datetime.datetime(2018, 8, 26, 0, 0): 0.44,\n",
       " datetime.datetime(2018, 12, 2, 0, 0): 0.58,\n",
       " datetime.datetime(2019, 2, 24, 0, 0): 0.57,\n",
       " datetime.datetime(2019, 3, 24, 0, 0): 0.57,\n",
       " datetime.datetime(2019, 4, 14, 0, 0): 0.59,\n",
       " datetime.datetime(2019, 4, 21, 0, 0): 0.58,\n",
       " datetime.datetime(2019, 7, 7, 0, 0): 0.47,\n",
       " datetime.datetime(2019, 7, 21, 0, 0): 0.52,\n",
       " datetime.datetime(2019, 7, 28, 0, 0): 0.43,\n",
       " datetime.datetime(2019, 8, 4, 0, 0): 0.53,\n",
       " datetime.datetime(2019, 8, 25, 0, 0): 0.52,\n",
       " datetime.datetime(2019, 9, 15, 0, 0): 0.46,\n",
       " datetime.datetime(2019, 9, 22, 0, 0): 0.59,\n",
       " datetime.datetime(2019, 9, 29, 0, 0): 0.44,\n",
       " datetime.datetime(2019, 10, 27, 0, 0): 0.58,\n",
       " datetime.datetime(2019, 11, 24, 0, 0): 0.59,\n",
       " datetime.datetime(2019, 12, 22, 0, 0): 0.41,\n",
       " datetime.datetime(2020, 1, 5, 0, 0): 0.48,\n",
       " datetime.datetime(2020, 1, 19, 0, 0): 0.54,\n",
       " datetime.datetime(2020, 2, 9, 0, 0): 0.44,\n",
       " datetime.datetime(2020, 2, 23, 0, 0): 0.43,\n",
       " datetime.datetime(2020, 3, 8, 0, 0): 0.43,\n",
       " datetime.datetime(2020, 3, 22, 0, 0): 0.42,\n",
       " datetime.datetime(2020, 3, 29, 0, 0): 0.53,\n",
       " datetime.datetime(2020, 4, 5, 0, 0): 0.45,\n",
       " datetime.datetime(2020, 4, 12, 0, 0): 0.49,\n",
       " datetime.datetime(2020, 4, 19, 0, 0): 0.57,\n",
       " datetime.datetime(2020, 5, 3, 0, 0): 0.44,\n",
       " datetime.datetime(2020, 5, 10, 0, 0): 0.52,\n",
       " datetime.datetime(2020, 5, 31, 0, 0): 0.45,\n",
       " datetime.datetime(2020, 7, 5, 0, 0): 0.52,\n",
       " datetime.datetime(2020, 7, 12, 0, 0): 0.53,\n",
       " datetime.datetime(2020, 8, 2, 0, 0): 0.56,\n",
       " datetime.datetime(2020, 8, 9, 0, 0): 0.52,\n",
       " datetime.datetime(2020, 8, 23, 0, 0): 0.41,\n",
       " datetime.datetime(2020, 9, 27, 0, 0): 0.59,\n",
       " datetime.datetime(2020, 11, 1, 0, 0): 0.51,\n",
       " datetime.datetime(2020, 11, 22, 0, 0): 0.56,\n",
       " datetime.datetime(2020, 12, 6, 0, 0): 0.54,\n",
       " datetime.datetime(2020, 12, 27, 0, 0): 0.46,\n",
       " datetime.datetime(2021, 1, 31, 0, 0): 0.58,\n",
       " datetime.datetime(2021, 2, 21, 0, 0): 0.45,\n",
       " datetime.datetime(2021, 4, 25, 0, 0): 0.41,\n",
       " datetime.datetime(2021, 5, 23, 0, 0): 0.52,\n",
       " datetime.datetime(2021, 8, 8, 0, 0): 0.51,\n",
       " datetime.datetime(2021, 11, 14, 0, 0): 0.42,\n",
       " datetime.datetime(2022, 1, 23, 0, 0): 0.42,\n",
       " datetime.datetime(2022, 1, 30, 0, 0): 0.43,\n",
       " datetime.datetime(2022, 3, 27, 0, 0): 0.55,\n",
       " datetime.datetime(2022, 10, 30, 0, 0): 0.52,\n",
       " datetime.datetime(2022, 11, 13, 0, 0): 0.51,\n",
       " datetime.datetime(2023, 3, 5, 0, 0): 0.45}"
      ]
     },
     "execution_count": 101,
     "metadata": {},
     "output_type": "execute_result"
    }
   ],
   "source": [
    "# We want to get weeks where percentage of accesses to all datasets was from 0.4 to 0.6\n",
    "optimal_weeks = np.nonzero((accesses_by_week_freq > 0.4) & (accesses_by_week_freq < 0.6))[0]\n",
    "optimal_weeks_dates = [start_week + datetime.timedelta(weeks=int(week)) for week in optimal_weeks]\n",
    "dict(sorted(zip(optimal_weeks_dates, accesses_by_week_freq[optimal_weeks])))"
   ]
  },
  {
   "cell_type": "code",
   "execution_count": 102,
   "metadata": {},
   "outputs": [
    {
     "data": {
      "text/plain": [
       "(datetime.datetime(2020, 4, 12, 0, 0), 145)"
      ]
     },
     "execution_count": 102,
     "metadata": {},
     "output_type": "execute_result"
    }
   ],
   "source": [
    "# The most balanced week and the best for train/test\n",
    "best_week_idx = np.argmin(np.absolute(accesses_by_week_freq[optimal_weeks] - 0.5))\n",
    "best_week = optimal_weeks[best_week_idx]\n",
    "start_week + datetime.timedelta(weeks=int(best_week)), best_week"
   ]
  },
  {
   "cell_type": "code",
   "execution_count": 103,
   "metadata": {},
   "outputs": [
    {
     "data": {
      "text/plain": [
       "array([ 56,  58,  60,  74,  86,  90,  93,  94, 105, 107, 108, 109, 112,\n",
       "       115, 116, 117, 121, 125, 129, 131, 133, 136, 138, 140, 142, 143,\n",
       "       144, 145, 146, 148, 149, 152, 157, 158, 161, 162, 164, 169, 174,\n",
       "       177, 179, 182, 187, 190, 199, 203, 214, 228, 238, 239, 247, 278,\n",
       "       280, 296])"
      ]
     },
     "execution_count": 103,
     "metadata": {},
     "output_type": "execute_result"
    }
   ],
   "source": [
    "optimal_weeks"
   ]
  },
  {
   "cell_type": "markdown",
   "metadata": {},
   "source": [
    "##### Prepare data"
   ]
  },
  {
   "cell_type": "code",
   "execution_count": 104,
   "metadata": {},
   "outputs": [],
   "source": [
    "non_zero_idcs = []\n",
    "left_idx = max(0, best_week - SEQUENCE_LENGTH - 1)\n",
    "for i in range(active_datasets.shape[0]):\n",
    "    if active_datasets[i, left_idx : (best_week + 1)].sum() > 0:\n",
    "        non_zero_idcs.append(i)"
   ]
  },
  {
   "cell_type": "code",
   "execution_count": 105,
   "metadata": {},
   "outputs": [
    {
     "data": {
      "text/plain": [
       "((1181, 305), (209, 305))"
      ]
     },
     "execution_count": 105,
     "metadata": {},
     "output_type": "execute_result"
    }
   ],
   "source": [
    "train_data, test_data = train_test_split(active_datasets[non_zero_idcs], test_size=0.15)\n",
    "train_data.shape, test_data.shape"
   ]
  },
  {
   "cell_type": "code",
   "execution_count": 106,
   "metadata": {},
   "outputs": [],
   "source": [
    "left_idx = best_week - SEQUENCE_LENGTH\n",
    "right_idx = best_week + 1\n",
    "Xy_train = np.array(train_data[:, left_idx:right_idx])\n",
    "Xy_test = np.array(test_data[:, left_idx:right_idx])"
   ]
  },
  {
   "cell_type": "markdown",
   "metadata": {},
   "source": [
    "#### Split data and prepare data randomly"
   ]
  },
  {
   "cell_type": "code",
   "execution_count": 107,
   "metadata": {},
   "outputs": [],
   "source": [
    "tightened_train = [data_processing.get_tightened_active_part(sample) for sample in train_data]\n",
    "tightened_test = [data_processing.get_tightened_active_part(sample) for sample in test_data]"
   ]
  },
  {
   "cell_type": "code",
   "execution_count": 108,
   "metadata": {},
   "outputs": [],
   "source": [
    "# Xy_train = np.array(\n",
    "#     [\n",
    "#         sample[np.random.randint(0, sample.shape[0] - SEQUENCE_LENGTH - 1):][:SEQUENCE_LENGTH + 1] \n",
    "#         for sample in tightened_train if sample.shape[0] >= SEQUENCE_LENGTH + 2\n",
    "#     ]\n",
    "# )\n",
    "# Xy_test = np.array(\n",
    "#     [\n",
    "#         sample[np.random.randint(0, sample.shape[0] - SEQUENCE_LENGTH - 1):][:SEQUENCE_LENGTH + 1] \n",
    "#         for sample in tightened_test if sample.shape[0] >= SEQUENCE_LENGTH + 2\n",
    "#     ]\n",
    "# )"
   ]
  },
  {
   "cell_type": "markdown",
   "metadata": {},
   "source": [
    "#### Overall data review and visualization"
   ]
  },
  {
   "cell_type": "code",
   "execution_count": 109,
   "metadata": {},
   "outputs": [
    {
     "name": "stdout",
     "output_type": "stream",
     "text": [
      "\n",
      "Sequence length: 60,\n",
      "Size of Train subset: 1181,\n",
      "Size of Test subset: 209,\n",
      "Train balance (% of ones): 0.49,\n",
      "Test balance (% of ones): 0.51.\n",
      "\n"
     ]
    }
   ],
   "source": [
    "print(f\"\"\"\n",
    "Sequence length: {SEQUENCE_LENGTH},\n",
    "Size of Train subset: {Xy_train.shape[0]},\n",
    "Size of Test subset: {Xy_test.shape[0]},\n",
    "Train balance (% of ones): {np.round((Xy_train[:, -1] > 0).sum() / Xy_train.shape[0], 2)},\n",
    "Test balance (% of ones): {np.round((Xy_test[:, -1] > 0).sum() / Xy_test.shape[0], 2)}.\n",
    "\"\"\")"
   ]
  },
  {
   "cell_type": "code",
   "execution_count": 110,
   "metadata": {},
   "outputs": [
    {
     "data": {
      "image/png": "[encoded data removed]",
      "text/plain": [
       "<Figure size 1728x864 with 6 Axes>"
      ]
     },
     "metadata": {
      "needs_background": "light"
     },
     "output_type": "display_data"
    }
   ],
   "source": [
    "_ = visualize.visualize_random_sequences(tightened_train, 2, 3)\n",
    "plt.savefig(\"examples.png\", dpi=200, bbox_inches='tight')"
   ]
  },
  {
   "cell_type": "markdown",
   "metadata": {},
   "source": [
    "## 3. Models"
   ]
  },
  {
   "cell_type": "markdown",
   "metadata": {},
   "source": [
    "### Raw FCN"
   ]
  },
  {
   "cell_type": "code",
   "execution_count": 111,
   "metadata": {},
   "outputs": [],
   "source": [
    "class CustomDataset(torch.utils.data.Dataset):\n",
    "    def __init__(self , tensors):\n",
    "        super(CustomDataset, self).__init__()\n",
    "        self.tensors = tensors\n",
    "\n",
    "    def __getitem__(self, index):\n",
    "        x = self.tensors[0][index]  \n",
    "        y = self.tensors[1][index]    \n",
    "        return x.to(device), y.to(device)\n",
    "\n",
    "    def __len__(self):\n",
    "        return len(self.tensors[0])"
   ]
  },
  {
   "cell_type": "code",
   "execution_count": 112,
   "metadata": {},
   "outputs": [],
   "source": [
    "class SimpleFCN(torch.nn.Module):\n",
    "    def __init__(self):\n",
    "        super(SimpleFCN, self).__init__()\n",
    "        self.fcn = torch.nn.Sequential(\n",
    "            torch.nn.Conv1d(1, 16, 17, padding=\"same\"),\n",
    "            torch.nn.ReLU(),\n",
    "            torch.nn.BatchNorm1d(16),\n",
    "            torch.nn.Conv1d(16, 32, 13),\n",
    "            torch.nn.ReLU(),\n",
    "            torch.nn.BatchNorm1d(32),\n",
    "            torch.nn.Conv1d(32, 64, 9),\n",
    "            torch.nn.BatchNorm1d(64),\n",
    "            torch.nn.ReLU(),\n",
    "            torch.nn.Conv1d(64, 128, 5),\n",
    "            torch.nn.BatchNorm1d(128),\n",
    "            torch.nn.AdaptiveAvgPool1d(2),\n",
    "            torch.nn.ReLU(),\n",
    "            torch.nn.Flatten(),\n",
    "            torch.nn.Dropout(0.1),\n",
    "            torch.nn.Linear(256, 2)\n",
    "        )\n",
    "    def forward(self, X):\n",
    "        return self.fcn(X)"
   ]
  },
  {
   "cell_type": "markdown",
   "metadata": {},
   "source": [
    "#### No balance"
   ]
  },
  {
   "cell_type": "code",
   "execution_count": 113,
   "metadata": {},
   "outputs": [],
   "source": [
    "model = SimpleFCN()\n",
    "model = model.to(device)"
   ]
  },
  {
   "cell_type": "code",
   "execution_count": 114,
   "metadata": {},
   "outputs": [],
   "source": [
    "def train_model(model, epochs, optima, crit, train_loader, val_loader):\n",
    "    train_losses = []\n",
    "    train_accuracies = []\n",
    "    val_losses = []\n",
    "    val_accuracies = []\n",
    "    confmat = ConfusionMatrix(num_classes=2, task=\"binary\").to(device)\n",
    "    for i in tqdm(range(epochs)):\n",
    "        batch_train_losses = []\n",
    "        batch_train_acc = []\n",
    "        train_confusion_matrix = torch.zeros((2, 2)).long().to(device)\n",
    "        for X, y in train_loader:\n",
    "            \n",
    "            optima.zero_grad()\n",
    "            \n",
    "            y_pred = model(X)\n",
    "            loss = crit(y_pred, y)\n",
    "            y_act = torch.nn.Sigmoid()(y_pred)\n",
    "            train_confusion_matrix += confmat(y_act, y)\n",
    "            batch_train_acc.append(((y_act.argmax(axis=1) == y).sum() / y.shape[0]).item())\n",
    "            loss.backward()\n",
    "            batch_train_losses.append(loss.item())\n",
    "            \n",
    "            optima.step()\n",
    "        batch_val_losses = []\n",
    "        batch_val_acc = []\n",
    "        val_confusion_matrix = torch.zeros((2, 2)).long().to(device)\n",
    "        with torch.no_grad():\n",
    "            for X, y in val_loader:\n",
    "                y_pred = model(X)\n",
    "                loss = crit(y_pred, y)\n",
    "                y_act = torch.nn.Sigmoid()(y_pred)\n",
    "                val_confusion_matrix += confmat(y_act, y)\n",
    "                batch_val_acc.append(((y_act.argmax(axis=1) == y).sum() / y.shape[0]).item())\n",
    "                batch_val_losses.append(loss.item())\n",
    "        train_accuracies.append(np.mean(batch_train_acc))\n",
    "        train_losses.append(np.mean(batch_train_losses))\n",
    "        val_accuracies.append(np.mean(batch_val_acc))\n",
    "        val_losses.append(np.mean(batch_val_losses))\n",
    "        clear_output()\n",
    "        fig, ax = plt.subplots(ncols=2)\n",
    "        fig.set_figheight(8)\n",
    "        fig.set_figwidth(16)\n",
    "        ax[0].plot(np.arange(len(train_losses)), train_losses)\n",
    "        ax[0].plot(np.arange(len(val_losses)), val_losses)\n",
    "        ax[0].legend(['train_loss', 'val_loss'])\n",
    "        ax[1].plot(np.arange(len(train_accuracies)), train_accuracies)\n",
    "        ax[1].plot(np.arange(len(val_accuracies)), val_accuracies)\n",
    "        ax[1].legend(['train_accuracy', 'val_accurracy'])\n",
    "        plt.show()\n",
    "        sns.heatmap(val_confusion_matrix.to('cpu').numpy(), annot=True)\n",
    "        plt.show()\n",
    "    return train_losses, val_losses\n",
    "    "
   ]
  },
  {
   "cell_type": "code",
   "execution_count": 115,
   "metadata": {},
   "outputs": [],
   "source": [
    "epochs = 100\n",
    "optimizer = torch.optim.Adam(model.parameters())\n",
    "loss = torch.nn.CrossEntropyLoss()"
   ]
  },
  {
   "cell_type": "code",
   "execution_count": 116,
   "metadata": {},
   "outputs": [],
   "source": [
    "X_train = torch.from_numpy(Xy_train[:, :-1]).float().reshape(Xy_train.shape[0], 1, Xy_train.shape[1] - 1)\n",
    "y_train = torch.from_numpy(Xy_train[:, -1] > 0).long()\n",
    "X_val = torch.from_numpy(Xy_test[:, :-1]).float().reshape(Xy_test.shape[0], 1, Xy_test.shape[1] - 1)\n",
    "y_val = torch.from_numpy(Xy_test[:, -1] > 0).long()"
   ]
  },
  {
   "cell_type": "code",
   "execution_count": 117,
   "metadata": {},
   "outputs": [],
   "source": [
    "train_dataset = CustomDataset((X_train, y_train))\n",
    "val_dataset = CustomDataset((X_val, y_val))\n",
    "\n",
    "train_loader = torch.utils.data.DataLoader(train_dataset, batch_size=64)\n",
    "val_loader = torch.utils.data.DataLoader(val_dataset, batch_size=64)"
   ]
  },
  {
   "cell_type": "code",
   "execution_count": 118,
   "metadata": {},
   "outputs": [
    {
     "data": {
      "image/png": "[encoded data removed]",
      "text/plain": [
       "<Figure size 1152x576 with 2 Axes>"
      ]
     },
     "metadata": {
      "needs_background": "light"
     },
     "output_type": "display_data"
    },
    {
     "data": {
      "image/png": "[encoded data removed]",
      "text/plain": [
       "<Figure size 432x288 with 2 Axes>"
      ]
     },
     "metadata": {
      "needs_background": "light"
     },
     "output_type": "display_data"
    },
    {
     "name": "stderr",
     "output_type": "stream",
     "text": [
      "100%|██████████| 100/100 [00:49<00:00,  2.02it/s]\n"
     ]
    }
   ],
   "source": [
    "_ = train_model(model, 100, optimizer, loss, train_loader, val_loader)"
   ]
  },
  {
   "cell_type": "code",
   "execution_count": 119,
   "metadata": {},
   "outputs": [],
   "source": [
    "Xy_train = np.array(train_data[:, left_idx + 1:right_idx + 1])\n",
    "Xy_test = np.array(test_data[:, left_idx + 1:right_idx + 1])\n",
    "X_true_test0 = np.concatenate((Xy_train, Xy_test))\n",
    "X_test = torch.FloatTensor(X_true_test0[:, :-1]).to(device)\n",
    "y_test = torch.LongTensor(X_true_test0[:, -1] > 0).to(device)"
   ]
  },
  {
   "cell_type": "code",
   "execution_count": 120,
   "metadata": {},
   "outputs": [
    {
     "data": {
      "text/plain": [
       "tensor([[576.,  27.],\n",
       "        [124., 663.]], device='cuda:0')"
      ]
     },
     "execution_count": 120,
     "metadata": {},
     "output_type": "execute_result"
    }
   ],
   "source": [
    "preds = []\n",
    "trues = []\n",
    "matrix = torch.zeros((2, 2)).to(device)\n",
    "confmat = ConfusionMatrix(num_classes=2, task=\"binary\").to(device)\n",
    "ypreds = torch.argmax(torch.sigmoid(model(X_test.reshape(X_test.shape[0], 1, X_test.shape[1]))), axis=1)\n",
    "matrix += confmat(ypreds, y_test)\n",
    "matrix"
   ]
  },
  {
   "cell_type": "code",
   "execution_count": 121,
   "metadata": {},
   "outputs": [
    {
     "name": "stdout",
     "output_type": "stream",
     "text": [
      "Overall metrics:\n",
      "Accuracy      : 0.891\n",
      "Precision on 1: 0.955\n",
      "Recall on 1   : 0.823\n",
      "F-score on 1  : 0.884\n",
      "Precision on 0: 0.842\n",
      "Recall on 0   : 0.961\n",
      "F-score on 0  : 0.898\n",
      "\n"
     ]
    }
   ],
   "source": [
    "accuracy = ((matrix[0, 0] + matrix[1, 1]) / matrix.sum()).item()\n",
    "precision_1 = (matrix[0, 0] / (matrix[0, 0] + matrix[0, 1])).item()\n",
    "recall_1 = (matrix[0, 0] / (matrix[0, 0] + matrix[1, 0])).item()\n",
    "precision_0 = (matrix[1, 1] / (matrix[1, 1] + matrix[1, 0])).item()\n",
    "recall_0 = (matrix[1, 1] / (matrix[1, 1] + matrix[0, 1])).item()\n",
    "f1_score_1 = 2 * precision_1 * recall_1 / (precision_1 + recall_1)\n",
    "f1_score_0 = 2 * precision_0 * recall_0 / (precision_0 + recall_0)\n",
    "print(f\"\"\"Overall metrics:\n",
    "Accuracy      : {np.round(accuracy, 3)}\n",
    "Precision on 1: {np.round(precision_1, 3)}\n",
    "Recall on 1   : {np.round(recall_1, 3)}\n",
    "F-score on 1  : {np.round(f1_score_1, 3)}\n",
    "Precision on 0: {np.round(precision_0, 3)}\n",
    "Recall on 0   : {np.round(recall_0, 3)}\n",
    "F-score on 0  : {np.round(f1_score_0, 3)}\n",
    "\"\"\")"
   ]
  },
  {
   "cell_type": "code",
   "execution_count": 43,
   "metadata": {},
   "outputs": [],
   "source": [
    "# [tp, fp]\n",
    "# [fn, tn]"
   ]
  },
  {
   "cell_type": "code",
   "execution_count": null,
   "metadata": {},
   "outputs": [],
   "source": []
  },
  {
   "cell_type": "markdown",
   "metadata": {},
   "source": [
    "#### Let be balanced"
   ]
  },
  {
   "cell_type": "code",
   "execution_count": 20,
   "metadata": {},
   "outputs": [],
   "source": [
    "model = SimpleFCN()\n",
    "model = model.to(device)"
   ]
  },
  {
   "cell_type": "code",
   "execution_count": 21,
   "metadata": {},
   "outputs": [],
   "source": [
    "epochs = 100\n",
    "optimizer = torch.optim.Adam(model.parameters())\n",
    "loss = torch.nn.CrossEntropyLoss()\n",
    "\n",
    "X_train = torch.from_numpy(Xy_train[:, :-1]).float().reshape(Xy_train.shape[0], 1, Xy_train.shape[1] - 1)\n",
    "y_train = torch.from_numpy(Xy_train[:, -1] > 0).long()\n",
    "X_val = torch.from_numpy(Xy_test[:, :-1]).float().reshape(Xy_test.shape[0], 1, Xy_test.shape[1] - 1)\n",
    "y_val = torch.from_numpy(Xy_test[:, -1] > 0).long()"
   ]
  },
  {
   "cell_type": "code",
   "execution_count": 22,
   "metadata": {},
   "outputs": [
    {
     "data": {
      "text/plain": [
       "tensor(0.2645)"
      ]
     },
     "execution_count": 22,
     "metadata": {},
     "output_type": "execute_result"
    }
   ],
   "source": [
    "y_train.sum() / y_train.shape[0]"
   ]
  },
  {
   "cell_type": "code",
   "execution_count": 23,
   "metadata": {},
   "outputs": [
    {
     "data": {
      "text/plain": [
       "(torch.Size([2071, 1, 30]), torch.Size([5759, 1, 30]))"
      ]
     },
     "execution_count": 23,
     "metadata": {},
     "output_type": "execute_result"
    }
   ],
   "source": [
    "X_train_zeros = X_train[(y_train == 0)]\n",
    "X_train_ones = X_train[(y_train == 1)]\n",
    "X_val_zeros = X_val[(y_val == 0)]\n",
    "X_val_ones = X_val[(y_val == 1)]\n",
    "X_train_ones.shape, X_train_zeros.shape"
   ]
  },
  {
   "cell_type": "code",
   "execution_count": 24,
   "metadata": {},
   "outputs": [],
   "source": [
    "X_train_zeros = shuffle(X_train_zeros)[:X_train_ones.shape[0]]\n",
    "X_val_zeros = shuffle(X_val_zeros)[:X_val_ones.shape[0]]\n",
    "X_train_balanced = torch.concat((X_train_ones, X_train_zeros))\n",
    "X_val_balanced = torch.concat((X_val_ones, X_val_zeros))\n",
    "y_train_balanced = torch.concat((torch.ones(X_train_ones.shape[0]), torch.zeros(X_train_zeros.shape[0]))).long()\n",
    "y_val_balanced = torch.concat((torch.ones(X_val_ones.shape[0]), torch.zeros(X_val_zeros.shape[0]))).long()\n",
    "X_train_balanced, y_train_balanced = shuffle(X_train_balanced, y_train_balanced)\n",
    "X_val_balanced, y_val_balanced = shuffle(X_val_balanced, y_val_balanced)"
   ]
  },
  {
   "cell_type": "code",
   "execution_count": 25,
   "metadata": {},
   "outputs": [
    {
     "data": {
      "text/plain": [
       "(torch.Size([4142, 1, 30]), torch.Size([4142]))"
      ]
     },
     "execution_count": 25,
     "metadata": {},
     "output_type": "execute_result"
    }
   ],
   "source": [
    "X_train_balanced.shape, y_train_balanced.shape"
   ]
  },
  {
   "cell_type": "code",
   "execution_count": 26,
   "metadata": {},
   "outputs": [],
   "source": [
    "train_dataset = CustomDataset((X_train_balanced, y_train_balanced))\n",
    "val_dataset = CustomDataset((X_val, y_val))\n",
    "\n",
    "train_loader = torch.utils.data.DataLoader(train_dataset, batch_size=64)\n",
    "val_loader = torch.utils.data.DataLoader(val_dataset, batch_size=64)"
   ]
  },
  {
   "cell_type": "code",
   "execution_count": 27,
   "metadata": {},
   "outputs": [
    {
     "data": {
      "image/png": "[encoded data removed]",
      "text/plain": [
       "<Figure size 1152x576 with 2 Axes>"
      ]
     },
     "metadata": {
      "needs_background": "light"
     },
     "output_type": "display_data"
    },
    {
     "data": {
      "image/png": "[encoded data removed]",
      "text/plain": [
       "<Figure size 432x288 with 2 Axes>"
      ]
     },
     "metadata": {
      "needs_background": "light"
     },
     "output_type": "display_data"
    },
    {
     "name": "stderr",
     "output_type": "stream",
     "text": [
      "100%|██████████| 100/100 [01:14<00:00,  1.34it/s]\n"
     ]
    }
   ],
   "source": [
    "_ = train_model(model, 100, optimizer, loss, train_loader, val_loader)"
   ]
  },
  {
   "cell_type": "markdown",
   "metadata": {},
   "source": [
    "### Boosting"
   ]
  },
  {
   "cell_type": "code",
   "execution_count": 11,
   "metadata": {},
   "outputs": [],
   "source": [
    "Xy_train = np.array([arr[np.random.randint(0, arr.shape[0] - 61):][:61] for arr in tightened_train if arr.shape[0] >= 62])\n",
    "Xy_test = np.array([arr[np.random.randint(0, arr.shape[0] - 61):][:61] for arr in tightened_test if arr.shape[0] >= 62])"
   ]
  },
  {
   "cell_type": "code",
   "execution_count": 31,
   "metadata": {},
   "outputs": [],
   "source": [
    "weeks = [datetime.date(2017, 2, 1) + datetime.timedelta(days=7 * i) for i in range(Xy_train.shape[1] - 1)]"
   ]
  },
  {
   "cell_type": "code",
   "execution_count": 24,
   "metadata": {},
   "outputs": [],
   "source": [
    "df[\"ds\"] = pd.to_datetime(df[\"ds\"])"
   ]
  },
  {
   "cell_type": "markdown",
   "metadata": {},
   "source": [
    "##### Facebook Prophet"
   ]
  },
  {
   "cell_type": "code",
   "execution_count": 38,
   "metadata": {},
   "outputs": [
    {
     "name": "stderr",
     "output_type": "stream",
     "text": [
      "  2%|▏         | 47/2489 [00:46<43:18,  1.06s/it]INFO:prophet:Disabling yearly seasonality. Run prophet with yearly_seasonality=True to override this.\n",
      "INFO:prophet:Disabling weekly seasonality. Run prophet with weekly_seasonality=True to override this.\n",
      "INFO:prophet:Disabling daily seasonality. Run prophet with daily_seasonality=True to override this.\n"
     ]
    },
    {
     "name": "stdout",
     "output_type": "stream",
     "text": [
      "[[ 2 12]\n",
      " [ 5 28]]\n",
      "\n",
      "Initial log joint probability = -7.14817\n",
      "Iteration  1. Log joint probability =    53.6963. Improved by 60.8444.\n",
      "Iteration  2. Log joint probability =    54.2756. Improved by 0.579295.\n",
      "Iteration  3. Log joint probability =    64.0497. Improved by 9.77414.\n",
      "Iteration  4. Log joint probability =      64.25. Improved by 0.200306.\n",
      "Iteration  5. Log joint probability =    64.4284. Improved by 0.178412.\n",
      "Iteration  6. Log joint probability =    64.6322. Improved by 0.203819.\n",
      "Iteration  7. Log joint probability =    64.8512. Improved by 0.219014.\n",
      "Iteration  8. Log joint probability =    65.0347. Improved by 0.183501.\n",
      "Iteration  9. Log joint probability =    65.1613. Improved by 0.126512.\n",
      "Iteration 10. Log joint probability =    65.1664. Improved by 0.00510134.\n",
      "Iteration 11. Log joint probability =    65.3266. Improved by 0.160245.\n",
      "Iteration 12. Log joint probability =    65.3528. Improved by 0.026207.\n",
      "Iteration 13. Log joint probability =    65.5418. Improved by 0.189027.\n",
      "Iteration 14. Log joint probability =    65.5691. Improved by 0.0272759.\n",
      "Iteration 15. Log joint probability =    65.6411. Improved by 0.0720107.\n",
      "Iteration 16. Log joint probability =    65.8252. Improved by 0.184121.\n",
      "Iteration 17. Log joint probability =    65.8346. Improved by 0.00937648.\n",
      "Iteration 18. Log joint probability =    65.9366. Improved by 0.101952.\n",
      "Iteration 19. Log joint probability =     66.107. Improved by 0.170413.\n",
      "Iteration 20. Log joint probability =    66.1981. Improved by 0.0911532.\n",
      "Iteration 21. Log joint probability =    66.2687. Improved by 0.0705785.\n",
      "Iteration 22. Log joint probability =    66.2875. Improved by 0.0187585.\n",
      "Iteration 23. Log joint probability =    66.3025. Improved by 0.015076.\n",
      "Iteration 24. Log joint probability =     66.309. Improved by 0.00641396.\n",
      "Iteration 25. Log joint probability =     66.318. Improved by 0.00907473.\n",
      "Iteration 26. Log joint probability =    66.3201. Improved by 0.00210219.\n",
      "Iteration 27. Log joint probability =    66.3253. Improved by 0.00512148.\n",
      "Iteration 28. Log joint probability =    66.3262. Improved by 0.000960631.\n",
      "Iteration 29. Log joint probability =    66.3287. Improved by 0.0025181.\n",
      "Iteration 30. Log joint probability =    66.3294. Improved by 0.000625583.\n",
      "Iteration 31. Log joint probability =    66.3311. Improved by 0.00177352.\n",
      "Iteration 32. Log joint probability =    66.3313. Improved by 0.000159832.\n",
      "Iteration 33. Log joint probability =    66.3317. Improved by 0.000373315.\n",
      "Iteration 34. Log joint probability =    66.3319. Improved by 0.000237079.\n",
      "Iteration 35. Log joint probability =    66.3321. Improved by 0.000195614.\n",
      "Iteration 36. Log joint probability =    66.3321. Improved by 1.19452e-05.\n",
      "Iteration 37. Log joint probability =    66.3322. Improved by 0.0001047.\n",
      "Iteration 38. Log joint probability =    66.3323. Improved by 4.55523e-05.\n",
      "Iteration 39. Log joint probability =    66.3323. Improved by 2.20665e-05.\n",
      "Iteration 40. Log joint probability =    66.3323. Improved by 1.1032e-05.\n",
      "Iteration 41. Log joint probability =    66.3323. Improved by 2.33349e-06.\n",
      "Iteration 42. Log joint probability =    66.3323. Improved by 5.04889e-06.\n",
      "Iteration 43. Log joint probability =    66.3323. Improved by 5.03873e-07.\n",
      "Iteration 44. Log joint probability =    66.3323. Improved by 2.29506e-06.\n",
      "Iteration 45. Log joint probability =    66.3323. Improved by 1.22388e-06.\n",
      "Iteration 46. Log joint probability =    66.3323. Improved by 1.03553e-06.\n",
      "Iteration 47. Log joint probability =    66.3323. Improved by 9.17719e-07.\n",
      "Iteration 48. Log joint probability =    66.3323. Improved by 2.18754e-07.\n",
      "Iteration 49. Log joint probability =    66.3323. Improved by 1.67576e-07.\n",
      "Iteration 50. Log joint probability =    66.3323. Improved by 3.15303e-08.\n",
      "Iteration 51. Log joint probability =    66.3323. Improved by 8.81554e-08.\n",
      "Iteration 52. Log joint probability =    66.3323. Improved by 2.78132e-09.\n"
     ]
    },
    {
     "name": "stderr",
     "output_type": "stream",
     "text": [
      "  2%|▏         | 47/2489 [00:46<40:37,  1.00it/s]\n"
     ]
    },
    {
     "ename": "KeyboardInterrupt",
     "evalue": "",
     "output_type": "error",
     "traceback": [
      "\u001b[0;31m---------------------------------------------------------------------------\u001b[0m",
      "\u001b[0;31mKeyboardInterrupt\u001b[0m                         Traceback (most recent call last)",
      "\u001b[0;32m/tmp/ipykernel_3588/455154321.py\u001b[0m in \u001b[0;36m<module>\u001b[0;34m\u001b[0m\n\u001b[1;32m     11\u001b[0m     \u001b[0mclf\u001b[0m\u001b[0;34m.\u001b[0m\u001b[0mfit\u001b[0m\u001b[0;34m(\u001b[0m\u001b[0mdf\u001b[0m\u001b[0;34m)\u001b[0m\u001b[0;34m\u001b[0m\u001b[0;34m\u001b[0m\u001b[0m\n\u001b[1;32m     12\u001b[0m     \u001b[0mfc\u001b[0m \u001b[0;34m=\u001b[0m \u001b[0mclf\u001b[0m\u001b[0;34m.\u001b[0m\u001b[0mmake_future_dataframe\u001b[0m\u001b[0;34m(\u001b[0m\u001b[0mperiods\u001b[0m\u001b[0;34m=\u001b[0m\u001b[0;36m1\u001b[0m\u001b[0;34m,\u001b[0m \u001b[0minclude_history\u001b[0m\u001b[0;34m=\u001b[0m\u001b[0;32mFalse\u001b[0m\u001b[0;34m)\u001b[0m\u001b[0;34m\u001b[0m\u001b[0;34m\u001b[0m\u001b[0m\n\u001b[0;32m---> 13\u001b[0;31m     \u001b[0mfc\u001b[0m \u001b[0;34m=\u001b[0m \u001b[0mclf\u001b[0m\u001b[0;34m.\u001b[0m\u001b[0mpredict\u001b[0m\u001b[0;34m(\u001b[0m\u001b[0mfc\u001b[0m\u001b[0;34m)\u001b[0m\u001b[0;34m\u001b[0m\u001b[0;34m\u001b[0m\u001b[0m\n\u001b[0m\u001b[1;32m     14\u001b[0m     \u001b[0mresult\u001b[0m \u001b[0;34m=\u001b[0m \u001b[0mint\u001b[0m\u001b[0;34m(\u001b[0m\u001b[0mfc\u001b[0m\u001b[0;34m[\u001b[0m\u001b[0;34m'yhat'\u001b[0m\u001b[0;34m]\u001b[0m\u001b[0;34m.\u001b[0m\u001b[0mvalues\u001b[0m\u001b[0;34m[\u001b[0m\u001b[0;36m0\u001b[0m\u001b[0;34m]\u001b[0m \u001b[0;34m>\u001b[0m \u001b[0;36m0.5\u001b[0m\u001b[0;34m)\u001b[0m\u001b[0;34m\u001b[0m\u001b[0;34m\u001b[0m\u001b[0m\n\u001b[1;32m     15\u001b[0m     \u001b[0mis_correct\u001b[0m \u001b[0;34m=\u001b[0m \u001b[0;34m(\u001b[0m\u001b[0mresult\u001b[0m \u001b[0;34m==\u001b[0m \u001b[0my\u001b[0m\u001b[0;34m)\u001b[0m\u001b[0;34m\u001b[0m\u001b[0;34m\u001b[0m\u001b[0m\n",
      "\u001b[0;32m~/anaconda3/envs/torch/lib/python3.9/site-packages/prophet/forecaster.py\u001b[0m in \u001b[0;36mpredict\u001b[0;34m(self, df)\u001b[0m\n\u001b[1;32m   1208\u001b[0m         \u001b[0mseasonal_components\u001b[0m \u001b[0;34m=\u001b[0m \u001b[0mself\u001b[0m\u001b[0;34m.\u001b[0m\u001b[0mpredict_seasonal_components\u001b[0m\u001b[0;34m(\u001b[0m\u001b[0mdf\u001b[0m\u001b[0;34m)\u001b[0m\u001b[0;34m\u001b[0m\u001b[0;34m\u001b[0m\u001b[0m\n\u001b[1;32m   1209\u001b[0m         \u001b[0;32mif\u001b[0m \u001b[0mself\u001b[0m\u001b[0;34m.\u001b[0m\u001b[0muncertainty_samples\u001b[0m\u001b[0;34m:\u001b[0m\u001b[0;34m\u001b[0m\u001b[0;34m\u001b[0m\u001b[0m\n\u001b[0;32m-> 1210\u001b[0;31m             \u001b[0mintervals\u001b[0m \u001b[0;34m=\u001b[0m \u001b[0mself\u001b[0m\u001b[0;34m.\u001b[0m\u001b[0mpredict_uncertainty\u001b[0m\u001b[0;34m(\u001b[0m\u001b[0mdf\u001b[0m\u001b[0;34m)\u001b[0m\u001b[0;34m\u001b[0m\u001b[0;34m\u001b[0m\u001b[0m\n\u001b[0m\u001b[1;32m   1211\u001b[0m         \u001b[0;32melse\u001b[0m\u001b[0;34m:\u001b[0m\u001b[0;34m\u001b[0m\u001b[0;34m\u001b[0m\u001b[0m\n\u001b[1;32m   1212\u001b[0m             \u001b[0mintervals\u001b[0m \u001b[0;34m=\u001b[0m \u001b[0;32mNone\u001b[0m\u001b[0;34m\u001b[0m\u001b[0;34m\u001b[0m\u001b[0m\n",
      "\u001b[0;32m~/anaconda3/envs/torch/lib/python3.9/site-packages/prophet/forecaster.py\u001b[0m in \u001b[0;36mpredict_uncertainty\u001b[0;34m(self, df)\u001b[0m\n\u001b[1;32m   1439\u001b[0m         \u001b[0mDataframe\u001b[0m \u001b[0;32mwith\u001b[0m \u001b[0muncertainty\u001b[0m \u001b[0mintervals\u001b[0m\u001b[0;34m.\u001b[0m\u001b[0;34m\u001b[0m\u001b[0;34m\u001b[0m\u001b[0m\n\u001b[1;32m   1440\u001b[0m         \"\"\"\n\u001b[0;32m-> 1441\u001b[0;31m         \u001b[0msim_values\u001b[0m \u001b[0;34m=\u001b[0m \u001b[0mself\u001b[0m\u001b[0;34m.\u001b[0m\u001b[0msample_posterior_predictive\u001b[0m\u001b[0;34m(\u001b[0m\u001b[0mdf\u001b[0m\u001b[0;34m)\u001b[0m\u001b[0;34m\u001b[0m\u001b[0;34m\u001b[0m\u001b[0m\n\u001b[0m\u001b[1;32m   1442\u001b[0m \u001b[0;34m\u001b[0m\u001b[0m\n\u001b[1;32m   1443\u001b[0m         \u001b[0mlower_p\u001b[0m \u001b[0;34m=\u001b[0m \u001b[0;36m100\u001b[0m \u001b[0;34m*\u001b[0m \u001b[0;34m(\u001b[0m\u001b[0;36m1.0\u001b[0m \u001b[0;34m-\u001b[0m \u001b[0mself\u001b[0m\u001b[0;34m.\u001b[0m\u001b[0minterval_width\u001b[0m\u001b[0;34m)\u001b[0m \u001b[0;34m/\u001b[0m \u001b[0;36m2\u001b[0m\u001b[0;34m\u001b[0m\u001b[0;34m\u001b[0m\u001b[0m\n",
      "\u001b[0;32m~/anaconda3/envs/torch/lib/python3.9/site-packages/prophet/forecaster.py\u001b[0m in \u001b[0;36msample_posterior_predictive\u001b[0;34m(self, df)\u001b[0m\n\u001b[1;32m   1392\u001b[0m         \u001b[0;32mfor\u001b[0m \u001b[0mi\u001b[0m \u001b[0;32min\u001b[0m \u001b[0mrange\u001b[0m\u001b[0;34m(\u001b[0m\u001b[0mn_iterations\u001b[0m\u001b[0;34m)\u001b[0m\u001b[0;34m:\u001b[0m\u001b[0;34m\u001b[0m\u001b[0;34m\u001b[0m\u001b[0m\n\u001b[1;32m   1393\u001b[0m             \u001b[0;32mfor\u001b[0m \u001b[0m_j\u001b[0m \u001b[0;32min\u001b[0m \u001b[0mrange\u001b[0m\u001b[0;34m(\u001b[0m\u001b[0msamp_per_iter\u001b[0m\u001b[0;34m)\u001b[0m\u001b[0;34m:\u001b[0m\u001b[0;34m\u001b[0m\u001b[0;34m\u001b[0m\u001b[0m\n\u001b[0;32m-> 1394\u001b[0;31m                 sim = self.sample_model(\n\u001b[0m\u001b[1;32m   1395\u001b[0m                     \u001b[0mdf\u001b[0m\u001b[0;34m=\u001b[0m\u001b[0mdf\u001b[0m\u001b[0;34m,\u001b[0m\u001b[0;34m\u001b[0m\u001b[0;34m\u001b[0m\u001b[0m\n\u001b[1;32m   1396\u001b[0m                     \u001b[0mseasonal_features\u001b[0m\u001b[0;34m=\u001b[0m\u001b[0mseasonal_features\u001b[0m\u001b[0;34m,\u001b[0m\u001b[0;34m\u001b[0m\u001b[0;34m\u001b[0m\u001b[0m\n",
      "\u001b[0;32m~/anaconda3/envs/torch/lib/python3.9/site-packages/prophet/forecaster.py\u001b[0m in \u001b[0;36msample_model\u001b[0;34m(self, df, seasonal_features, iteration, s_a, s_m)\u001b[0m\n\u001b[1;32m   1468\u001b[0m         \u001b[0mDataframe\u001b[0m \u001b[0;32mwith\u001b[0m \u001b[0mtrend\u001b[0m \u001b[0;32mand\u001b[0m \u001b[0myhat\u001b[0m\u001b[0;34m,\u001b[0m \u001b[0meach\u001b[0m \u001b[0mlike\u001b[0m \u001b[0mdf\u001b[0m\u001b[0;34m[\u001b[0m\u001b[0;34m't'\u001b[0m\u001b[0;34m]\u001b[0m\u001b[0;34m.\u001b[0m\u001b[0;34m\u001b[0m\u001b[0;34m\u001b[0m\u001b[0m\n\u001b[1;32m   1469\u001b[0m         \"\"\"\n\u001b[0;32m-> 1470\u001b[0;31m         \u001b[0mtrend\u001b[0m \u001b[0;34m=\u001b[0m \u001b[0mself\u001b[0m\u001b[0;34m.\u001b[0m\u001b[0msample_predictive_trend\u001b[0m\u001b[0;34m(\u001b[0m\u001b[0mdf\u001b[0m\u001b[0;34m,\u001b[0m \u001b[0miteration\u001b[0m\u001b[0;34m)\u001b[0m\u001b[0;34m\u001b[0m\u001b[0;34m\u001b[0m\u001b[0m\n\u001b[0m\u001b[1;32m   1471\u001b[0m \u001b[0;34m\u001b[0m\u001b[0m\n\u001b[1;32m   1472\u001b[0m         \u001b[0mbeta\u001b[0m \u001b[0;34m=\u001b[0m \u001b[0mself\u001b[0m\u001b[0;34m.\u001b[0m\u001b[0mparams\u001b[0m\u001b[0;34m[\u001b[0m\u001b[0;34m'beta'\u001b[0m\u001b[0;34m]\u001b[0m\u001b[0;34m[\u001b[0m\u001b[0miteration\u001b[0m\u001b[0;34m]\u001b[0m\u001b[0;34m\u001b[0m\u001b[0;34m\u001b[0m\u001b[0m\n",
      "\u001b[0;32m~/anaconda3/envs/torch/lib/python3.9/site-packages/prophet/forecaster.py\u001b[0m in \u001b[0;36msample_predictive_trend\u001b[0;34m(self, df, iteration)\u001b[0m\n\u001b[1;32m   1526\u001b[0m \u001b[0;34m\u001b[0m\u001b[0m\n\u001b[1;32m   1527\u001b[0m         \u001b[0;32mif\u001b[0m \u001b[0mself\u001b[0m\u001b[0;34m.\u001b[0m\u001b[0mgrowth\u001b[0m \u001b[0;34m==\u001b[0m \u001b[0;34m'linear'\u001b[0m\u001b[0;34m:\u001b[0m\u001b[0;34m\u001b[0m\u001b[0;34m\u001b[0m\u001b[0m\n\u001b[0;32m-> 1528\u001b[0;31m             \u001b[0mtrend\u001b[0m \u001b[0;34m=\u001b[0m \u001b[0mself\u001b[0m\u001b[0;34m.\u001b[0m\u001b[0mpiecewise_linear\u001b[0m\u001b[0;34m(\u001b[0m\u001b[0mt\u001b[0m\u001b[0;34m,\u001b[0m \u001b[0mdeltas\u001b[0m\u001b[0;34m,\u001b[0m \u001b[0mk\u001b[0m\u001b[0;34m,\u001b[0m \u001b[0mm\u001b[0m\u001b[0;34m,\u001b[0m \u001b[0mchangepoint_ts\u001b[0m\u001b[0;34m)\u001b[0m\u001b[0;34m\u001b[0m\u001b[0;34m\u001b[0m\u001b[0m\n\u001b[0m\u001b[1;32m   1529\u001b[0m         \u001b[0;32melif\u001b[0m \u001b[0mself\u001b[0m\u001b[0;34m.\u001b[0m\u001b[0mgrowth\u001b[0m \u001b[0;34m==\u001b[0m \u001b[0;34m'logistic'\u001b[0m\u001b[0;34m:\u001b[0m\u001b[0;34m\u001b[0m\u001b[0;34m\u001b[0m\u001b[0m\n\u001b[1;32m   1530\u001b[0m             \u001b[0mcap\u001b[0m \u001b[0;34m=\u001b[0m \u001b[0mdf\u001b[0m\u001b[0;34m[\u001b[0m\u001b[0;34m'cap_scaled'\u001b[0m\u001b[0;34m]\u001b[0m\u001b[0;34m\u001b[0m\u001b[0;34m\u001b[0m\u001b[0m\n",
      "\u001b[0;32m~/anaconda3/envs/torch/lib/python3.9/site-packages/prophet/forecaster.py\u001b[0m in \u001b[0;36mpiecewise_linear\u001b[0;34m(t, deltas, k, m, changepoint_ts)\u001b[0m\n\u001b[1;32m   1245\u001b[0m         \u001b[0mgammas\u001b[0m \u001b[0;34m=\u001b[0m \u001b[0;34m-\u001b[0m\u001b[0mchangepoint_ts\u001b[0m \u001b[0;34m*\u001b[0m \u001b[0mdeltas\u001b[0m\u001b[0;34m\u001b[0m\u001b[0;34m\u001b[0m\u001b[0m\n\u001b[1;32m   1246\u001b[0m         \u001b[0;31m# Get cumulative slope and intercept at each t\u001b[0m\u001b[0;34m\u001b[0m\u001b[0;34m\u001b[0m\u001b[0m\n\u001b[0;32m-> 1247\u001b[0;31m         \u001b[0mk_t\u001b[0m \u001b[0;34m=\u001b[0m \u001b[0mk\u001b[0m \u001b[0;34m*\u001b[0m \u001b[0mnp\u001b[0m\u001b[0;34m.\u001b[0m\u001b[0mones_like\u001b[0m\u001b[0;34m(\u001b[0m\u001b[0mt\u001b[0m\u001b[0;34m)\u001b[0m\u001b[0;34m\u001b[0m\u001b[0;34m\u001b[0m\u001b[0m\n\u001b[0m\u001b[1;32m   1248\u001b[0m         \u001b[0mm_t\u001b[0m \u001b[0;34m=\u001b[0m \u001b[0mm\u001b[0m \u001b[0;34m*\u001b[0m \u001b[0mnp\u001b[0m\u001b[0;34m.\u001b[0m\u001b[0mones_like\u001b[0m\u001b[0;34m(\u001b[0m\u001b[0mt\u001b[0m\u001b[0;34m)\u001b[0m\u001b[0;34m\u001b[0m\u001b[0;34m\u001b[0m\u001b[0m\n\u001b[1;32m   1249\u001b[0m         \u001b[0;32mfor\u001b[0m \u001b[0ms\u001b[0m\u001b[0;34m,\u001b[0m \u001b[0mt_s\u001b[0m \u001b[0;32min\u001b[0m \u001b[0menumerate\u001b[0m\u001b[0;34m(\u001b[0m\u001b[0mchangepoint_ts\u001b[0m\u001b[0;34m)\u001b[0m\u001b[0;34m:\u001b[0m\u001b[0;34m\u001b[0m\u001b[0;34m\u001b[0m\u001b[0m\n",
      "\u001b[0;32m~/anaconda3/envs/torch/lib/python3.9/site-packages/numpy/core/overrides.py\u001b[0m in \u001b[0;36mones_like\u001b[0;34m(*args, **kwargs)\u001b[0m\n",
      "\u001b[0;32m~/anaconda3/envs/torch/lib/python3.9/site-packages/numpy/core/numeric.py\u001b[0m in \u001b[0;36mones_like\u001b[0;34m(a, dtype, order, subok, shape)\u001b[0m\n\u001b[1;32m    278\u001b[0m \u001b[0;34m\u001b[0m\u001b[0m\n\u001b[1;32m    279\u001b[0m     \"\"\"\n\u001b[0;32m--> 280\u001b[0;31m     \u001b[0mres\u001b[0m \u001b[0;34m=\u001b[0m \u001b[0mempty_like\u001b[0m\u001b[0;34m(\u001b[0m\u001b[0ma\u001b[0m\u001b[0;34m,\u001b[0m \u001b[0mdtype\u001b[0m\u001b[0;34m=\u001b[0m\u001b[0mdtype\u001b[0m\u001b[0;34m,\u001b[0m \u001b[0morder\u001b[0m\u001b[0;34m=\u001b[0m\u001b[0morder\u001b[0m\u001b[0;34m,\u001b[0m \u001b[0msubok\u001b[0m\u001b[0;34m=\u001b[0m\u001b[0msubok\u001b[0m\u001b[0;34m,\u001b[0m \u001b[0mshape\u001b[0m\u001b[0;34m=\u001b[0m\u001b[0mshape\u001b[0m\u001b[0;34m)\u001b[0m\u001b[0;34m\u001b[0m\u001b[0;34m\u001b[0m\u001b[0m\n\u001b[0m\u001b[1;32m    281\u001b[0m     \u001b[0mmultiarray\u001b[0m\u001b[0;34m.\u001b[0m\u001b[0mcopyto\u001b[0m\u001b[0;34m(\u001b[0m\u001b[0mres\u001b[0m\u001b[0;34m,\u001b[0m \u001b[0;36m1\u001b[0m\u001b[0;34m,\u001b[0m \u001b[0mcasting\u001b[0m\u001b[0;34m=\u001b[0m\u001b[0;34m'unsafe'\u001b[0m\u001b[0;34m)\u001b[0m\u001b[0;34m\u001b[0m\u001b[0;34m\u001b[0m\u001b[0m\n\u001b[1;32m    282\u001b[0m     \u001b[0;32mreturn\u001b[0m \u001b[0mres\u001b[0m\u001b[0;34m\u001b[0m\u001b[0;34m\u001b[0m\u001b[0m\n",
      "\u001b[0;32m~/anaconda3/envs/torch/lib/python3.9/site-packages/numpy/core/overrides.py\u001b[0m in \u001b[0;36mempty_like\u001b[0;34m(*args, **kwargs)\u001b[0m\n",
      "\u001b[0;31mKeyboardInterrupt\u001b[0m: "
     ]
    }
   ],
   "source": [
    "from prophet import Prophet\n",
    "\n",
    "confusion_matrix = np.array([[0, 0],        # [TP(1, 1), FP(1, 0)]\n",
    "                             [0, 0]])       # [FN(0, 1), TN(0, 0)]\n",
    "\n",
    "for i in tqdm(range(Xy_train.shape[0])):\n",
    "    X = Xy_train[i, :-1]\n",
    "    y = Xy_train[i, -1]\n",
    "    df = pd.DataFrame({\"ds\": weeks, \"y\" : X})\n",
    "    clf = Prophet()   \n",
    "    clf.fit(df)  \n",
    "    fc = clf.make_future_dataframe(periods=1, include_history=False)\n",
    "    fc = clf.predict(fc)\n",
    "    result = int(fc['yhat'].values[0] > 0.5)\n",
    "    is_correct = (result == y)\n",
    "    if is_correct:\n",
    "        confusion_matrix[1 - y, 1 - y] += 1\n",
    "    elif y == 1:\n",
    "        confusion_matrix[1, 0] += 1\n",
    "    else:\n",
    "        confusion_matrix[0, 1] += 1\n",
    "    clear_output()\n",
    "    print(confusion_matrix)"
   ]
  },
  {
   "cell_type": "markdown",
   "metadata": {},
   "source": [
    "##### Arima"
   ]
  },
  {
   "cell_type": "code",
   "execution_count": 34,
   "metadata": {},
   "outputs": [
    {
     "data": {
      "text/plain": [
       "array([[ 2,  9],\n",
       "       [ 4, 18]])"
      ]
     },
     "execution_count": 34,
     "metadata": {},
     "output_type": "execute_result"
    }
   ],
   "source": [
    "confusion_matrix"
   ]
  },
  {
   "cell_type": "code",
   "execution_count": null,
   "metadata": {},
   "outputs": [],
   "source": []
  }
 ],
 "metadata": {
  "kernelspec": {
   "display_name": "Python 3.9.7 ('torch')",
   "language": "python",
   "name": "python3"
  },
  "language_info": {
   "codemirror_mode": {
    "name": "ipython",
    "version": 3
   },
   "file_extension": ".py",
   "mimetype": "text/x-python",
   "name": "python",
   "nbconvert_exporter": "python",
   "pygments_lexer": "ipython3",
   "version": "3.9.7"
  },
  "orig_nbformat": 4,
  "vscode": {
   "interpreter": {
    "hash": "e5f96657305825d8e251ba7d2b04be8543b5811ffb30520c9bcedd16a5b039e1"
   }
  }
 },
 "nbformat": 4,
 "nbformat_minor": 2
}
