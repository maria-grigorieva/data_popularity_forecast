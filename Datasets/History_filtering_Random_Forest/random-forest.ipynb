{
 "cells": [
  {
   "cell_type": "code",
   "execution_count": 61,
   "id": "943d13a0-75d0-4cb1-9325-435af09d63ef",
   "metadata": {},
   "outputs": [],
   "source": [
    "import pandas as pd\n",
    "import numpy as np\n",
    "from tqdm import tqdm\n",
    "from sklearn.ensemble import RandomForestClassifier\n",
    "from sklearn.datasets import make_classification\n",
    "# from sklearn.preprocessing import MinMaxScaler\n",
    "from sklearn.metrics import classification_report, confusion_matrix, accuracy_score\n",
    "\n",
    "import matplotlib\n",
    "\n",
    "# for interactive plots in Jupyter:\n",
    "# matplotlib.use('qtagg')\n",
    "\n",
    "from matplotlib import pyplot as plt\n",
    "from matplotlib.colors import ListedColormap\n",
    "\n",
    "from transform_filter_data import transform_filter_data"
   ]
  },
  {
   "cell_type": "code",
   "execution_count": 62,
   "id": "2f1110ba-c034-46ad-b463-dd0adc2bf3d9",
   "metadata": {},
   "outputs": [
    {
     "name": "stdout",
     "output_type": "stream",
     "text": [
      "filling 'y' column\n"
     ]
    },
    {
     "name": "stderr",
     "output_type": "stream",
     "text": [
      "100%|██████████████████████████████████| 18143/18143 [00:01<00:00, 12134.05it/s]\n"
     ]
    },
    {
     "name": "stdout",
     "output_type": "stream",
     "text": [
      "after filtering by access number: 593 / 2659\n",
      "filtering by history presence\n"
     ]
    },
    {
     "name": "stderr",
     "output_type": "stream",
     "text": [
      "100%|█████████████████████████████████████| 2659/2659 [00:00<00:00, 3362.67it/s]\n"
     ]
    },
    {
     "name": "stdout",
     "output_type": "stream",
     "text": [
      "after filtering: 573 / 2108\n",
      "transforming date arrays to timeseries\n"
     ]
    },
    {
     "name": "stderr",
     "output_type": "stream",
     "text": [
      "100%|██████████████████████████████████████| 2108/2108 [00:05<00:00, 366.81it/s]\n"
     ]
    }
   ],
   "source": [
    "# history_len: 365, 270, 180, 90 days\n",
    "# span_threshold: 90, 60, 40, 20 days\n",
    "\n",
    "# trained on 2022-05-28 cutoff\n",
    "# validated on 2022-11-19 cutoff\n",
    "#                                           ACC    f1-0  f1-1\n",
    "# 1 year:   model always says '0' (testing: 0.902, 0.93, 0.82)\n",
    "# 9 months: model always says '0' (testing: 0.906, 0.94, 0.82)\n",
    "# 6 months: model always says '0' (testing: 0.898, 0.94, 0.69)\n",
    "# 3 months: 0.871, 0.93, 0.00     (testing: 0.886, 0.93, 0.64)\n",
    "\n",
    "history_len = pd.Timedelta('365 days')\n",
    "span_threshold = pd.Timedelta('90 days')\n",
    "accesses_threshold = 30\n",
    "source_csv = 'datasets_popularity_DAOD_PHYS_mc16_13TeV_202308141254.csv'\n",
    "\n",
    "objs_df = transform_filter_data(\n",
    "    source_csv = source_csv,\n",
    "    finish_date = pd.Timestamp('2022-05-28'),\n",
    "    horizon_date = pd.Timestamp('2022-06-04'),\n",
    "    span_threshold = span_threshold,\n",
    "    history_len = history_len,\n",
    "    accesses_threshold = accesses_threshold\n",
    ")"
   ]
  },
  {
   "cell_type": "code",
   "execution_count": 63,
   "id": "62360aa2-95e3-46f7-aa51-ae75041df7c3",
   "metadata": {},
   "outputs": [],
   "source": [
    "objs_df = objs_df.sample(frac=1, random_state=42)"
   ]
  },
  {
   "cell_type": "code",
   "execution_count": 64,
   "id": "cf382102-879a-4694-913d-d3b8fd9fe25d",
   "metadata": {},
   "outputs": [],
   "source": [
    "# last_dates_relative = objs_df['last_date'] - pd.Timestamp(2010, 1, 1)\n",
    "# objs_df['last_date'] = last_dates_relative.apply(getattr, args=('days',))"
   ]
  },
  {
   "cell_type": "code",
   "execution_count": 65,
   "id": "c92bd741-67a5-4b2d-8f51-d6808e7eeb47",
   "metadata": {},
   "outputs": [],
   "source": [
    "X = np.stack(objs_df['history_ts'].to_numpy())"
   ]
  },
  {
   "cell_type": "code",
   "execution_count": 66,
   "id": "888207e8-4e91-4722-add5-acc4a4ea4224",
   "metadata": {},
   "outputs": [],
   "source": [
    "y = (objs_df['y'].to_numpy() > 0).astype('int')"
   ]
  },
  {
   "cell_type": "code",
   "execution_count": 67,
   "id": "9879c41f-0401-42bc-a417-0ce27f143071",
   "metadata": {},
   "outputs": [],
   "source": [
    "Ntest = 500\n",
    "\n",
    "Xtrain = X[:-Ntest]\n",
    "Xtest = X[-Ntest:]\n",
    "Ytrain = y[:-Ntest]\n",
    "Ytest = y[-Ntest:]"
   ]
  },
  {
   "cell_type": "code",
   "execution_count": 68,
   "id": "59555604-2786-49b4-b0a2-b06002619e0b",
   "metadata": {},
   "outputs": [
    {
     "data": {
      "text/html": [
       "<style>#sk-container-id-5 {color: black;}#sk-container-id-5 pre{padding: 0;}#sk-container-id-5 div.sk-toggleable {background-color: white;}#sk-container-id-5 label.sk-toggleable__label {cursor: pointer;display: block;width: 100%;margin-bottom: 0;padding: 0.3em;box-sizing: border-box;text-align: center;}#sk-container-id-5 label.sk-toggleable__label-arrow:before {content: \"▸\";float: left;margin-right: 0.25em;color: #696969;}#sk-container-id-5 label.sk-toggleable__label-arrow:hover:before {color: black;}#sk-container-id-5 div.sk-estimator:hover label.sk-toggleable__label-arrow:before {color: black;}#sk-container-id-5 div.sk-toggleable__content {max-height: 0;max-width: 0;overflow: hidden;text-align: left;background-color: #f0f8ff;}#sk-container-id-5 div.sk-toggleable__content pre {margin: 0.2em;color: black;border-radius: 0.25em;background-color: #f0f8ff;}#sk-container-id-5 input.sk-toggleable__control:checked~div.sk-toggleable__content {max-height: 200px;max-width: 100%;overflow: auto;}#sk-container-id-5 input.sk-toggleable__control:checked~label.sk-toggleable__label-arrow:before {content: \"▾\";}#sk-container-id-5 div.sk-estimator input.sk-toggleable__control:checked~label.sk-toggleable__label {background-color: #d4ebff;}#sk-container-id-5 div.sk-label input.sk-toggleable__control:checked~label.sk-toggleable__label {background-color: #d4ebff;}#sk-container-id-5 input.sk-hidden--visually {border: 0;clip: rect(1px 1px 1px 1px);clip: rect(1px, 1px, 1px, 1px);height: 1px;margin: -1px;overflow: hidden;padding: 0;position: absolute;width: 1px;}#sk-container-id-5 div.sk-estimator {font-family: monospace;background-color: #f0f8ff;border: 1px dotted black;border-radius: 0.25em;box-sizing: border-box;margin-bottom: 0.5em;}#sk-container-id-5 div.sk-estimator:hover {background-color: #d4ebff;}#sk-container-id-5 div.sk-parallel-item::after {content: \"\";width: 100%;border-bottom: 1px solid gray;flex-grow: 1;}#sk-container-id-5 div.sk-label:hover label.sk-toggleable__label {background-color: #d4ebff;}#sk-container-id-5 div.sk-serial::before {content: \"\";position: absolute;border-left: 1px solid gray;box-sizing: border-box;top: 0;bottom: 0;left: 50%;z-index: 0;}#sk-container-id-5 div.sk-serial {display: flex;flex-direction: column;align-items: center;background-color: white;padding-right: 0.2em;padding-left: 0.2em;position: relative;}#sk-container-id-5 div.sk-item {position: relative;z-index: 1;}#sk-container-id-5 div.sk-parallel {display: flex;align-items: stretch;justify-content: center;background-color: white;position: relative;}#sk-container-id-5 div.sk-item::before, #sk-container-id-5 div.sk-parallel-item::before {content: \"\";position: absolute;border-left: 1px solid gray;box-sizing: border-box;top: 0;bottom: 0;left: 50%;z-index: -1;}#sk-container-id-5 div.sk-parallel-item {display: flex;flex-direction: column;z-index: 1;position: relative;background-color: white;}#sk-container-id-5 div.sk-parallel-item:first-child::after {align-self: flex-end;width: 50%;}#sk-container-id-5 div.sk-parallel-item:last-child::after {align-self: flex-start;width: 50%;}#sk-container-id-5 div.sk-parallel-item:only-child::after {width: 0;}#sk-container-id-5 div.sk-dashed-wrapped {border: 1px dashed gray;margin: 0 0.4em 0.5em 0.4em;box-sizing: border-box;padding-bottom: 0.4em;background-color: white;}#sk-container-id-5 div.sk-label label {font-family: monospace;font-weight: bold;display: inline-block;line-height: 1.2em;}#sk-container-id-5 div.sk-label-container {text-align: center;}#sk-container-id-5 div.sk-container {/* jupyter's `normalize.less` sets `[hidden] { display: none; }` but bootstrap.min.css set `[hidden] { display: none !important; }` so we also need the `!important` here to be able to override the default hidden behavior on the sphinx rendered scikit-learn.org. See: https://github.com/scikit-learn/scikit-learn/issues/21755 */display: inline-block !important;position: relative;}#sk-container-id-5 div.sk-text-repr-fallback {display: none;}</style><div id=\"sk-container-id-5\" class=\"sk-top-container\"><div class=\"sk-text-repr-fallback\"><pre>RandomForestClassifier(max_depth=2, random_state=0)</pre><b>In a Jupyter environment, please rerun this cell to show the HTML representation or trust the notebook. <br />On GitHub, the HTML representation is unable to render, please try loading this page with nbviewer.org.</b></div><div class=\"sk-container\" hidden><div class=\"sk-item\"><div class=\"sk-estimator sk-toggleable\"><input class=\"sk-toggleable__control sk-hidden--visually\" id=\"sk-estimator-id-5\" type=\"checkbox\" checked><label for=\"sk-estimator-id-5\" class=\"sk-toggleable__label sk-toggleable__label-arrow\">RandomForestClassifier</label><div class=\"sk-toggleable__content\"><pre>RandomForestClassifier(max_depth=2, random_state=0)</pre></div></div></div></div></div>"
      ],
      "text/plain": [
       "RandomForestClassifier(max_depth=2, random_state=0)"
      ]
     },
     "execution_count": 68,
     "metadata": {},
     "output_type": "execute_result"
    }
   ],
   "source": [
    "clf = RandomForestClassifier(max_depth=2, random_state=0)\n",
    "clf.fit(Xtrain, Ytrain)"
   ]
  },
  {
   "cell_type": "code",
   "execution_count": 69,
   "id": "3b597741-b8cf-44c8-a75e-0052d20e1bff",
   "metadata": {},
   "outputs": [],
   "source": [
    "Ypred = clf.predict(Xtest)"
   ]
  },
  {
   "cell_type": "code",
   "execution_count": 70,
   "id": "a6a3ce60-4678-4186-b620-e522ec0f5d54",
   "metadata": {},
   "outputs": [
    {
     "name": "stdout",
     "output_type": "stream",
     "text": [
      "Accuracy: 0.902\n",
      "Confusion Matrix\n",
      "[[343  13]\n",
      " [ 36 108]]\n",
      "              precision    recall  f1-score   support\n",
      "\n",
      "           0       0.91      0.96      0.93       356\n",
      "           1       0.89      0.75      0.82       144\n",
      "\n",
      "    accuracy                           0.90       500\n",
      "   macro avg       0.90      0.86      0.87       500\n",
      "weighted avg       0.90      0.90      0.90       500\n",
      "\n"
     ]
    }
   ],
   "source": [
    "print(f'Accuracy: {accuracy_score(Ytest, Ypred)}')\n",
    "print('Confusion Matrix')\n",
    "print(confusion_matrix(Ytest, Ypred))\n",
    "print(classification_report(Ytest, Ypred))"
   ]
  },
  {
   "cell_type": "markdown",
   "id": "180842bf-1d8f-4b7e-bd59-3873421f0558",
   "metadata": {},
   "source": [
    "### Try to validate on another time cutoff"
   ]
  },
  {
   "cell_type": "code",
   "execution_count": 71,
   "id": "1d9642b5-e261-4cb1-85f2-7594fa065d67",
   "metadata": {},
   "outputs": [
    {
     "name": "stdout",
     "output_type": "stream",
     "text": [
      "filling 'y' column\n"
     ]
    },
    {
     "name": "stderr",
     "output_type": "stream",
     "text": [
      "100%|██████████████████████████████████| 22668/22668 [00:01<00:00, 14904.78it/s]\n"
     ]
    },
    {
     "name": "stdout",
     "output_type": "stream",
     "text": [
      "after filtering by access number: 392 / 3652\n",
      "filtering by history presence\n"
     ]
    },
    {
     "name": "stderr",
     "output_type": "stream",
     "text": [
      "100%|█████████████████████████████████████| 3652/3652 [00:02<00:00, 1443.15it/s]\n"
     ]
    },
    {
     "name": "stdout",
     "output_type": "stream",
     "text": [
      "after filtering: 392 / 2716\n",
      "transforming date arrays to timeseries\n"
     ]
    },
    {
     "name": "stderr",
     "output_type": "stream",
     "text": [
      "100%|██████████████████████████████████████| 2716/2716 [00:05<00:00, 536.84it/s]\n"
     ]
    }
   ],
   "source": [
    "objs_df_val = transform_filter_data(\n",
    "    source_csv = source_csv,\n",
    "    finish_date = pd.Timestamp('2022-11-19'),\n",
    "    horizon_date = pd.Timestamp('2022-11-26'),\n",
    "    span_threshold = span_threshold,\n",
    "    history_len = history_len,\n",
    "    accesses_threshold = accesses_threshold\n",
    ")"
   ]
  },
  {
   "cell_type": "code",
   "execution_count": 72,
   "id": "2faea5e9-7b7e-4161-9578-732a9495de2b",
   "metadata": {},
   "outputs": [],
   "source": [
    "Xval = np.stack(objs_df_val['history_ts'].to_numpy())\n",
    "yval = (objs_df_val['y'].to_numpy() > 0).astype('int')"
   ]
  },
  {
   "cell_type": "code",
   "execution_count": 73,
   "id": "14482d78-119a-48d8-b59f-e0033a19092f",
   "metadata": {},
   "outputs": [],
   "source": [
    "ypred_val = clf.predict(Xval)"
   ]
  },
  {
   "cell_type": "code",
   "execution_count": 74,
   "id": "d8d8c63e-52ca-42da-a8ea-eecf76f610ec",
   "metadata": {},
   "outputs": [
    {
     "data": {
      "text/plain": [
       "0"
      ]
     },
     "execution_count": 74,
     "metadata": {},
     "output_type": "execute_result"
    }
   ],
   "source": [
    "np.sum(ypred_val)"
   ]
  },
  {
   "cell_type": "code",
   "execution_count": 75,
   "id": "3528f77f-d3b7-4e8c-a579-1a08b92e1816",
   "metadata": {},
   "outputs": [
    {
     "name": "stdout",
     "output_type": "stream",
     "text": [
      "Accuracy: 0.8556701030927835\n",
      "Confusion Matrix\n",
      "[[2324    0]\n",
      " [ 392    0]]\n",
      "              precision    recall  f1-score   support\n",
      "\n",
      "           0       0.86      1.00      0.92      2324\n",
      "           1       0.00      0.00      0.00       392\n",
      "\n",
      "    accuracy                           0.86      2716\n",
      "   macro avg       0.43      0.50      0.46      2716\n",
      "weighted avg       0.73      0.86      0.79      2716\n",
      "\n"
     ]
    },
    {
     "name": "stderr",
     "output_type": "stream",
     "text": [
      "/home/mshubin/soft/app/linux/python3-venv/lib/python3.11/site-packages/sklearn/metrics/_classification.py:1469: UndefinedMetricWarning: Precision and F-score are ill-defined and being set to 0.0 in labels with no predicted samples. Use `zero_division` parameter to control this behavior.\n",
      "  _warn_prf(average, modifier, msg_start, len(result))\n",
      "/home/mshubin/soft/app/linux/python3-venv/lib/python3.11/site-packages/sklearn/metrics/_classification.py:1469: UndefinedMetricWarning: Precision and F-score are ill-defined and being set to 0.0 in labels with no predicted samples. Use `zero_division` parameter to control this behavior.\n",
      "  _warn_prf(average, modifier, msg_start, len(result))\n",
      "/home/mshubin/soft/app/linux/python3-venv/lib/python3.11/site-packages/sklearn/metrics/_classification.py:1469: UndefinedMetricWarning: Precision and F-score are ill-defined and being set to 0.0 in labels with no predicted samples. Use `zero_division` parameter to control this behavior.\n",
      "  _warn_prf(average, modifier, msg_start, len(result))\n"
     ]
    }
   ],
   "source": [
    "print(f'Accuracy: {accuracy_score(yval, ypred_val)}')\n",
    "print('Confusion Matrix')\n",
    "print(confusion_matrix(yval, ypred_val))\n",
    "print(classification_report(yval, ypred_val))"
   ]
  }
 ],
 "metadata": {
  "kernelspec": {
   "display_name": "Python 3 (ipykernel)",
   "language": "python",
   "name": "python3"
  },
  "language_info": {
   "codemirror_mode": {
    "name": "ipython",
    "version": 3
   },
   "file_extension": ".py",
   "mimetype": "text/x-python",
   "name": "python",
   "nbconvert_exporter": "python",
   "pygments_lexer": "ipython3",
   "version": "3.11.2"
  }
 },
 "nbformat": 4,
 "nbformat_minor": 5
}
